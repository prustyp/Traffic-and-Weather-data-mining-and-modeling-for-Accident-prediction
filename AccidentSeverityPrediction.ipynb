{
 "cells": [
  {
   "cell_type": "markdown",
   "metadata": {},
   "source": [
    "# Imports"
   ]
  },
  {
   "cell_type": "code",
   "execution_count": 1,
   "metadata": {},
   "outputs": [],
   "source": [
    "from pyspark import SparkContext\n",
    "from pyspark import SparkConf\n",
    "#sc = SparkContext()\n",
    "import pyspark\n",
    "from pyspark import SparkConf, SparkContext \n",
    "import pandas as pd \n",
    "from pyspark.sql import functions as f\n",
    "import matplotlib.pyplot as plt\n",
    "from matplotlib import rcParams\n",
    "from pyspark.sql.functions import *"
   ]
  },
  {
   "cell_type": "code",
   "execution_count": 2,
   "metadata": {},
   "outputs": [],
   "source": [
    "spark_conf = SparkConf().set('spark.executor.memory', '6G').set('spark.driver.memory', '6G').set('spark.driver.maxResultSize', '6G')\n",
    "# spark_conf = SparkConf().setAppName(\"test\")\n",
    "sc = SparkContext(conf = spark_conf)\n",
    "# sc = SparkContext.getOrCreate()\n",
    "from pyspark.sql import SQLContext\n",
    "sqlContext = SQLContext(sc)\n",
    "from pyspark.sql.session import SparkSession\n",
    "spark = SparkSession(sc)"
   ]
  },
  {
   "cell_type": "markdown",
   "metadata": {},
   "source": [
    "# Read Accident data"
   ]
  },
  {
   "cell_type": "code",
   "execution_count": 3,
   "metadata": {},
   "outputs": [],
   "source": [
    "df = spark.read.parquet(\"/Users/pprusty05/workspace/Data_mining/Project/data_folder/accident_data/Accident.parquet\")"
   ]
  },
  {
   "cell_type": "code",
   "execution_count": 4,
   "metadata": {},
   "outputs": [],
   "source": [
    "df_pd=df.limit(10).toPandas()"
   ]
  },
  {
   "cell_type": "code",
   "execution_count": 5,
   "metadata": {},
   "outputs": [
    {
     "data": {
      "text/html": [
       "<div>\n",
       "<style scoped>\n",
       "    .dataframe tbody tr th:only-of-type {\n",
       "        vertical-align: middle;\n",
       "    }\n",
       "\n",
       "    .dataframe tbody tr th {\n",
       "        vertical-align: top;\n",
       "    }\n",
       "\n",
       "    .dataframe thead th {\n",
       "        text-align: right;\n",
       "    }\n",
       "</style>\n",
       "<table border=\"1\" class=\"dataframe\">\n",
       "  <thead>\n",
       "    <tr style=\"text-align: right;\">\n",
       "      <th></th>\n",
       "      <th>ID</th>\n",
       "      <th>Source</th>\n",
       "      <th>TMC</th>\n",
       "      <th>Severity</th>\n",
       "      <th>Start_Time</th>\n",
       "      <th>End_Time</th>\n",
       "      <th>Start_Lat</th>\n",
       "      <th>Start_Lng</th>\n",
       "      <th>End_Lat</th>\n",
       "      <th>End_Lng</th>\n",
       "      <th>...</th>\n",
       "      <th>Roundabout</th>\n",
       "      <th>Station</th>\n",
       "      <th>Stop</th>\n",
       "      <th>Traffic_Calming</th>\n",
       "      <th>Traffic_Signal</th>\n",
       "      <th>Turning_Loop</th>\n",
       "      <th>Sunrise_Sunset</th>\n",
       "      <th>Civil_Twilight</th>\n",
       "      <th>Nautical_Twilight</th>\n",
       "      <th>Astronomical_Twilight</th>\n",
       "    </tr>\n",
       "  </thead>\n",
       "  <tbody>\n",
       "    <tr>\n",
       "      <td>0</td>\n",
       "      <td>A-2476200</td>\n",
       "      <td>Bing</td>\n",
       "      <td>None</td>\n",
       "      <td>4</td>\n",
       "      <td>2017-07-12 17:49:09</td>\n",
       "      <td>2017-07-12 23:49:09</td>\n",
       "      <td>33.769969</td>\n",
       "      <td>-84.519786</td>\n",
       "      <td>33.770300</td>\n",
       "      <td>-84.519180</td>\n",
       "      <td>...</td>\n",
       "      <td>False</td>\n",
       "      <td>False</td>\n",
       "      <td>False</td>\n",
       "      <td>False</td>\n",
       "      <td>True</td>\n",
       "      <td>False</td>\n",
       "      <td>Day</td>\n",
       "      <td>Day</td>\n",
       "      <td>Day</td>\n",
       "      <td>Day</td>\n",
       "    </tr>\n",
       "    <tr>\n",
       "      <td>1</td>\n",
       "      <td>A-2476201</td>\n",
       "      <td>Bing</td>\n",
       "      <td>None</td>\n",
       "      <td>2</td>\n",
       "      <td>2017-07-12 16:55:07</td>\n",
       "      <td>2017-07-12 22:55:07</td>\n",
       "      <td>42.985070</td>\n",
       "      <td>-87.915350</td>\n",
       "      <td>42.977940</td>\n",
       "      <td>-87.916110</td>\n",
       "      <td>...</td>\n",
       "      <td>False</td>\n",
       "      <td>False</td>\n",
       "      <td>False</td>\n",
       "      <td>False</td>\n",
       "      <td>False</td>\n",
       "      <td>False</td>\n",
       "      <td>Day</td>\n",
       "      <td>Day</td>\n",
       "      <td>Day</td>\n",
       "      <td>Day</td>\n",
       "    </tr>\n",
       "    <tr>\n",
       "      <td>2</td>\n",
       "      <td>A-2476202</td>\n",
       "      <td>Bing</td>\n",
       "      <td>None</td>\n",
       "      <td>3</td>\n",
       "      <td>2017-07-12 16:52:48</td>\n",
       "      <td>2017-07-12 22:52:48</td>\n",
       "      <td>36.121430</td>\n",
       "      <td>-86.756330</td>\n",
       "      <td>36.123690</td>\n",
       "      <td>-86.747710</td>\n",
       "      <td>...</td>\n",
       "      <td>False</td>\n",
       "      <td>False</td>\n",
       "      <td>False</td>\n",
       "      <td>False</td>\n",
       "      <td>False</td>\n",
       "      <td>False</td>\n",
       "      <td>Day</td>\n",
       "      <td>Day</td>\n",
       "      <td>Day</td>\n",
       "      <td>Day</td>\n",
       "    </tr>\n",
       "    <tr>\n",
       "      <td>3</td>\n",
       "      <td>A-2476203</td>\n",
       "      <td>Bing</td>\n",
       "      <td>None</td>\n",
       "      <td>3</td>\n",
       "      <td>2017-07-12 16:55:07</td>\n",
       "      <td>2017-07-12 22:55:07</td>\n",
       "      <td>41.761268</td>\n",
       "      <td>-87.945109</td>\n",
       "      <td>41.761295</td>\n",
       "      <td>-87.945109</td>\n",
       "      <td>...</td>\n",
       "      <td>False</td>\n",
       "      <td>False</td>\n",
       "      <td>False</td>\n",
       "      <td>False</td>\n",
       "      <td>False</td>\n",
       "      <td>False</td>\n",
       "      <td>Day</td>\n",
       "      <td>Day</td>\n",
       "      <td>Day</td>\n",
       "      <td>Day</td>\n",
       "    </tr>\n",
       "    <tr>\n",
       "      <td>4</td>\n",
       "      <td>A-2476204</td>\n",
       "      <td>Bing</td>\n",
       "      <td>None</td>\n",
       "      <td>2</td>\n",
       "      <td>2017-07-12 17:57:14</td>\n",
       "      <td>2017-07-12 23:57:14</td>\n",
       "      <td>43.703396</td>\n",
       "      <td>-70.313522</td>\n",
       "      <td>43.692033</td>\n",
       "      <td>-70.320149</td>\n",
       "      <td>...</td>\n",
       "      <td>False</td>\n",
       "      <td>False</td>\n",
       "      <td>False</td>\n",
       "      <td>False</td>\n",
       "      <td>False</td>\n",
       "      <td>False</td>\n",
       "      <td>Day</td>\n",
       "      <td>Day</td>\n",
       "      <td>Day</td>\n",
       "      <td>Day</td>\n",
       "    </tr>\n",
       "    <tr>\n",
       "      <td>5</td>\n",
       "      <td>A-2476205</td>\n",
       "      <td>Bing</td>\n",
       "      <td>None</td>\n",
       "      <td>3</td>\n",
       "      <td>2017-07-12 16:59:29</td>\n",
       "      <td>2017-07-12 22:59:29</td>\n",
       "      <td>35.979230</td>\n",
       "      <td>-86.575250</td>\n",
       "      <td>35.971110</td>\n",
       "      <td>-86.568860</td>\n",
       "      <td>...</td>\n",
       "      <td>False</td>\n",
       "      <td>False</td>\n",
       "      <td>False</td>\n",
       "      <td>False</td>\n",
       "      <td>False</td>\n",
       "      <td>False</td>\n",
       "      <td>Day</td>\n",
       "      <td>Day</td>\n",
       "      <td>Day</td>\n",
       "      <td>Day</td>\n",
       "    </tr>\n",
       "    <tr>\n",
       "      <td>6</td>\n",
       "      <td>A-2476206</td>\n",
       "      <td>Bing</td>\n",
       "      <td>None</td>\n",
       "      <td>3</td>\n",
       "      <td>2017-07-12 18:05:29</td>\n",
       "      <td>2017-07-13 00:05:29</td>\n",
       "      <td>40.898080</td>\n",
       "      <td>-74.247540</td>\n",
       "      <td>40.896300</td>\n",
       "      <td>-74.254890</td>\n",
       "      <td>...</td>\n",
       "      <td>False</td>\n",
       "      <td>False</td>\n",
       "      <td>False</td>\n",
       "      <td>False</td>\n",
       "      <td>False</td>\n",
       "      <td>False</td>\n",
       "      <td>Day</td>\n",
       "      <td>Day</td>\n",
       "      <td>Day</td>\n",
       "      <td>Day</td>\n",
       "    </tr>\n",
       "    <tr>\n",
       "      <td>7</td>\n",
       "      <td>A-2476207</td>\n",
       "      <td>Bing</td>\n",
       "      <td>None</td>\n",
       "      <td>2</td>\n",
       "      <td>2017-07-12 18:11:29</td>\n",
       "      <td>2017-07-13 00:11:29</td>\n",
       "      <td>40.819015</td>\n",
       "      <td>-73.934388</td>\n",
       "      <td>40.819015</td>\n",
       "      <td>-73.934388</td>\n",
       "      <td>...</td>\n",
       "      <td>False</td>\n",
       "      <td>False</td>\n",
       "      <td>False</td>\n",
       "      <td>False</td>\n",
       "      <td>False</td>\n",
       "      <td>False</td>\n",
       "      <td>Day</td>\n",
       "      <td>Day</td>\n",
       "      <td>Day</td>\n",
       "      <td>Day</td>\n",
       "    </tr>\n",
       "    <tr>\n",
       "      <td>8</td>\n",
       "      <td>A-2476208</td>\n",
       "      <td>Bing</td>\n",
       "      <td>None</td>\n",
       "      <td>3</td>\n",
       "      <td>2017-07-12 18:13:48</td>\n",
       "      <td>2017-07-13 00:13:48</td>\n",
       "      <td>35.015940</td>\n",
       "      <td>-85.278270</td>\n",
       "      <td>35.017230</td>\n",
       "      <td>-85.282640</td>\n",
       "      <td>...</td>\n",
       "      <td>False</td>\n",
       "      <td>False</td>\n",
       "      <td>False</td>\n",
       "      <td>False</td>\n",
       "      <td>False</td>\n",
       "      <td>False</td>\n",
       "      <td>Day</td>\n",
       "      <td>Day</td>\n",
       "      <td>Day</td>\n",
       "      <td>Day</td>\n",
       "    </tr>\n",
       "    <tr>\n",
       "      <td>9</td>\n",
       "      <td>A-2476209</td>\n",
       "      <td>Bing</td>\n",
       "      <td>None</td>\n",
       "      <td>2</td>\n",
       "      <td>2017-07-12 18:27:19</td>\n",
       "      <td>2017-07-13 00:27:19</td>\n",
       "      <td>39.311562</td>\n",
       "      <td>-76.952013</td>\n",
       "      <td>39.310469</td>\n",
       "      <td>-76.952345</td>\n",
       "      <td>...</td>\n",
       "      <td>False</td>\n",
       "      <td>False</td>\n",
       "      <td>False</td>\n",
       "      <td>False</td>\n",
       "      <td>False</td>\n",
       "      <td>False</td>\n",
       "      <td>Day</td>\n",
       "      <td>Day</td>\n",
       "      <td>Day</td>\n",
       "      <td>Day</td>\n",
       "    </tr>\n",
       "  </tbody>\n",
       "</table>\n",
       "<p>10 rows × 49 columns</p>\n",
       "</div>"
      ],
      "text/plain": [
       "          ID Source   TMC  Severity          Start_Time            End_Time  \\\n",
       "0  A-2476200   Bing  None         4 2017-07-12 17:49:09 2017-07-12 23:49:09   \n",
       "1  A-2476201   Bing  None         2 2017-07-12 16:55:07 2017-07-12 22:55:07   \n",
       "2  A-2476202   Bing  None         3 2017-07-12 16:52:48 2017-07-12 22:52:48   \n",
       "3  A-2476203   Bing  None         3 2017-07-12 16:55:07 2017-07-12 22:55:07   \n",
       "4  A-2476204   Bing  None         2 2017-07-12 17:57:14 2017-07-12 23:57:14   \n",
       "5  A-2476205   Bing  None         3 2017-07-12 16:59:29 2017-07-12 22:59:29   \n",
       "6  A-2476206   Bing  None         3 2017-07-12 18:05:29 2017-07-13 00:05:29   \n",
       "7  A-2476207   Bing  None         2 2017-07-12 18:11:29 2017-07-13 00:11:29   \n",
       "8  A-2476208   Bing  None         3 2017-07-12 18:13:48 2017-07-13 00:13:48   \n",
       "9  A-2476209   Bing  None         2 2017-07-12 18:27:19 2017-07-13 00:27:19   \n",
       "\n",
       "   Start_Lat  Start_Lng    End_Lat    End_Lng  ...  Roundabout Station   Stop  \\\n",
       "0  33.769969 -84.519786  33.770300 -84.519180  ...       False   False  False   \n",
       "1  42.985070 -87.915350  42.977940 -87.916110  ...       False   False  False   \n",
       "2  36.121430 -86.756330  36.123690 -86.747710  ...       False   False  False   \n",
       "3  41.761268 -87.945109  41.761295 -87.945109  ...       False   False  False   \n",
       "4  43.703396 -70.313522  43.692033 -70.320149  ...       False   False  False   \n",
       "5  35.979230 -86.575250  35.971110 -86.568860  ...       False   False  False   \n",
       "6  40.898080 -74.247540  40.896300 -74.254890  ...       False   False  False   \n",
       "7  40.819015 -73.934388  40.819015 -73.934388  ...       False   False  False   \n",
       "8  35.015940 -85.278270  35.017230 -85.282640  ...       False   False  False   \n",
       "9  39.311562 -76.952013  39.310469 -76.952345  ...       False   False  False   \n",
       "\n",
       "  Traffic_Calming Traffic_Signal Turning_Loop Sunrise_Sunset Civil_Twilight  \\\n",
       "0           False           True        False            Day            Day   \n",
       "1           False          False        False            Day            Day   \n",
       "2           False          False        False            Day            Day   \n",
       "3           False          False        False            Day            Day   \n",
       "4           False          False        False            Day            Day   \n",
       "5           False          False        False            Day            Day   \n",
       "6           False          False        False            Day            Day   \n",
       "7           False          False        False            Day            Day   \n",
       "8           False          False        False            Day            Day   \n",
       "9           False          False        False            Day            Day   \n",
       "\n",
       "  Nautical_Twilight Astronomical_Twilight  \n",
       "0               Day                   Day  \n",
       "1               Day                   Day  \n",
       "2               Day                   Day  \n",
       "3               Day                   Day  \n",
       "4               Day                   Day  \n",
       "5               Day                   Day  \n",
       "6               Day                   Day  \n",
       "7               Day                   Day  \n",
       "8               Day                   Day  \n",
       "9               Day                   Day  \n",
       "\n",
       "[10 rows x 49 columns]"
      ]
     },
     "execution_count": 5,
     "metadata": {},
     "output_type": "execute_result"
    }
   ],
   "source": [
    "df_pd"
   ]
  },
  {
   "cell_type": "code",
   "execution_count": 6,
   "metadata": {},
   "outputs": [
    {
     "data": {
      "text/plain": [
       "['ID',\n",
       " 'Source',\n",
       " 'TMC',\n",
       " 'Severity',\n",
       " 'Start_Time',\n",
       " 'End_Time',\n",
       " 'Start_Lat',\n",
       " 'Start_Lng',\n",
       " 'End_Lat',\n",
       " 'End_Lng',\n",
       " 'Distance',\n",
       " 'Description',\n",
       " 'Number',\n",
       " 'Street',\n",
       " 'Side',\n",
       " 'City',\n",
       " 'County',\n",
       " 'State',\n",
       " 'Zipcode',\n",
       " 'Country',\n",
       " 'Timezone',\n",
       " 'Airport_Code',\n",
       " 'Weather_Timestamp',\n",
       " 'Temperature',\n",
       " 'Wind_Chill',\n",
       " 'Humidity',\n",
       " 'Pressure',\n",
       " 'Visibility',\n",
       " 'Wind_Direction',\n",
       " 'Wind_Speed',\n",
       " 'Precipitation',\n",
       " 'Weather_Condition',\n",
       " 'Amenity',\n",
       " 'Bump',\n",
       " 'Crossing',\n",
       " 'Give_Way',\n",
       " 'Junction',\n",
       " 'No_Exit',\n",
       " 'Railway',\n",
       " 'Roundabout',\n",
       " 'Station',\n",
       " 'Stop',\n",
       " 'Traffic_Calming',\n",
       " 'Traffic_Signal',\n",
       " 'Turning_Loop',\n",
       " 'Sunrise_Sunset',\n",
       " 'Civil_Twilight',\n",
       " 'Nautical_Twilight',\n",
       " 'Astronomical_Twilight']"
      ]
     },
     "execution_count": 6,
     "metadata": {},
     "output_type": "execute_result"
    }
   ],
   "source": [
    "df.columns"
   ]
  },
  {
   "cell_type": "markdown",
   "metadata": {},
   "source": [
    "# Visualization"
   ]
  },
  {
   "cell_type": "markdown",
   "metadata": {},
   "source": [
    "## Temperature vs accident"
   ]
  },
  {
   "cell_type": "code",
   "execution_count": 7,
   "metadata": {},
   "outputs": [
    {
     "name": "stdout",
     "output_type": "stream",
     "text": [
      "+-----------+-----+\n",
      "|Temperature|count|\n",
      "+-----------+-----+\n",
      "|       69.8|15067|\n",
      "|       74.5|  503|\n",
      "|       64.2|  333|\n",
      "|       49.8|  256|\n",
      "|       56.8|  418|\n",
      "|       14.9|   84|\n",
      "|      -12.3|    4|\n",
      "|       15.4|   90|\n",
      "|       47.5|  380|\n",
      "|      107.8|    5|\n",
      "|       72.3|  361|\n",
      "|       70.0|52212|\n",
      "|       96.8| 1604|\n",
      "|       67.0|14092|\n",
      "|        8.0|  128|\n",
      "|       45.3|  287|\n",
      "|       10.2|   40|\n",
      "|       55.8|  440|\n",
      "|       44.8|  386|\n",
      "|       56.5|  429|\n",
      "+-----------+-----+\n",
      "only showing top 20 rows\n",
      "\n"
     ]
    }
   ],
   "source": [
    "df.groupby('Temperature').count().show()\n"
   ]
  },
  {
   "cell_type": "markdown",
   "metadata": {},
   "source": [
    "## Binning "
   ]
  },
  {
   "cell_type": "code",
   "execution_count": 8,
   "metadata": {},
   "outputs": [],
   "source": [
    "df_with_temp_range = df.withColumn('TemperatureRange', f.when(f.col('Temperature') < 0, \"<0\").\n",
    "              when((f.col('Temperature') >= 0) & (f.col('Temperature') < 10), \"0-10\").\n",
    "              when((f.col('Temperature') >= 10) & (f.col('Temperature') < 20), \"10-20\").\n",
    "              when((f.col('Temperature') >= 20) & (f.col('Temperature') < 30), \"20-30\").\n",
    "              when((f.col('Temperature') >= 30) & (f.col('Temperature') < 40), \"30-40\").\n",
    "              when((f.col('Temperature') >= 40) & (f.col('Temperature') < 50), \"40-50\").\n",
    "              when((f.col('Temperature') >= 50) & (f.col('Temperature') < 60), \"50-60\").\n",
    "              when((f.col('Temperature') >= 60) & (f.col('Temperature') < 70), \"60-70\").\n",
    "              when((f.col('Temperature') >= 70) & (f.col('Temperature') < 80), \"70-80\").\n",
    "              when((f.col('Temperature') >= 80) & (f.col('Temperature') < 90), \"80-90\").\n",
    "              when((f.col('Temperature') >= 90) & (f.col('Temperature') < 100), \"90-100\").\n",
    "              when((f.col('Temperature')) >= 100 , \">100\").\n",
    "              otherwise(\"NA\"))"
   ]
  },
  {
   "cell_type": "markdown",
   "metadata": {},
   "source": [
    "## Convert to pandas df"
   ]
  },
  {
   "cell_type": "code",
   "execution_count": 9,
   "metadata": {},
   "outputs": [],
   "source": [
    "df_temp_range_count = df_with_temp_range.groupby('TemperatureRange').count().toPandas()"
   ]
  },
  {
   "cell_type": "code",
   "execution_count": 10,
   "metadata": {},
   "outputs": [
    {
     "data": {
      "text/html": [
       "<div>\n",
       "<style scoped>\n",
       "    .dataframe tbody tr th:only-of-type {\n",
       "        vertical-align: middle;\n",
       "    }\n",
       "\n",
       "    .dataframe tbody tr th {\n",
       "        vertical-align: top;\n",
       "    }\n",
       "\n",
       "    .dataframe thead th {\n",
       "        text-align: right;\n",
       "    }\n",
       "</style>\n",
       "<table border=\"1\" class=\"dataframe\">\n",
       "  <thead>\n",
       "    <tr style=\"text-align: right;\">\n",
       "      <th></th>\n",
       "      <th>TemperatureRange</th>\n",
       "      <th>count</th>\n",
       "    </tr>\n",
       "  </thead>\n",
       "  <tbody>\n",
       "    <tr>\n",
       "      <td>0</td>\n",
       "      <td>&gt;100</td>\n",
       "      <td>13221</td>\n",
       "    </tr>\n",
       "    <tr>\n",
       "      <td>1</td>\n",
       "      <td>40-50</td>\n",
       "      <td>292225</td>\n",
       "    </tr>\n",
       "    <tr>\n",
       "      <td>2</td>\n",
       "      <td>NA</td>\n",
       "      <td>56063</td>\n",
       "    </tr>\n",
       "    <tr>\n",
       "      <td>3</td>\n",
       "      <td>20-30</td>\n",
       "      <td>99794</td>\n",
       "    </tr>\n",
       "    <tr>\n",
       "      <td>4</td>\n",
       "      <td>80-90</td>\n",
       "      <td>411734</td>\n",
       "    </tr>\n",
       "    <tr>\n",
       "      <td>5</td>\n",
       "      <td>60-70</td>\n",
       "      <td>585878</td>\n",
       "    </tr>\n",
       "    <tr>\n",
       "      <td>6</td>\n",
       "      <td>&lt;0</td>\n",
       "      <td>5061</td>\n",
       "    </tr>\n",
       "    <tr>\n",
       "      <td>7</td>\n",
       "      <td>50-60</td>\n",
       "      <td>483909</td>\n",
       "    </tr>\n",
       "    <tr>\n",
       "      <td>8</td>\n",
       "      <td>0-10</td>\n",
       "      <td>13039</td>\n",
       "    </tr>\n",
       "    <tr>\n",
       "      <td>9</td>\n",
       "      <td>30-40</td>\n",
       "      <td>239476</td>\n",
       "    </tr>\n",
       "    <tr>\n",
       "      <td>10</td>\n",
       "      <td>10-20</td>\n",
       "      <td>42485</td>\n",
       "    </tr>\n",
       "    <tr>\n",
       "      <td>11</td>\n",
       "      <td>70-80</td>\n",
       "      <td>610008</td>\n",
       "    </tr>\n",
       "    <tr>\n",
       "      <td>12</td>\n",
       "      <td>90-100</td>\n",
       "      <td>121442</td>\n",
       "    </tr>\n",
       "  </tbody>\n",
       "</table>\n",
       "</div>"
      ],
      "text/plain": [
       "   TemperatureRange   count\n",
       "0              >100   13221\n",
       "1             40-50  292225\n",
       "2                NA   56063\n",
       "3             20-30   99794\n",
       "4             80-90  411734\n",
       "5             60-70  585878\n",
       "6                <0    5061\n",
       "7             50-60  483909\n",
       "8              0-10   13039\n",
       "9             30-40  239476\n",
       "10            10-20   42485\n",
       "11            70-80  610008\n",
       "12           90-100  121442"
      ]
     },
     "execution_count": 10,
     "metadata": {},
     "output_type": "execute_result"
    }
   ],
   "source": [
    "df_temp_range_count"
   ]
  },
  {
   "cell_type": "markdown",
   "metadata": {},
   "source": [
    "## drop row containing NA"
   ]
  },
  {
   "cell_type": "code",
   "execution_count": 11,
   "metadata": {},
   "outputs": [],
   "source": [
    "df_temp_acc=df_temp_range_count.drop([2])"
   ]
  },
  {
   "cell_type": "markdown",
   "metadata": {},
   "source": [
    "## sort temperature"
   ]
  },
  {
   "cell_type": "code",
   "execution_count": 12,
   "metadata": {},
   "outputs": [],
   "source": [
    "df_sorted_temp = df_temp_acc.sort_values('TemperatureRange')"
   ]
  },
  {
   "cell_type": "code",
   "execution_count": 13,
   "metadata": {},
   "outputs": [
    {
     "data": {
      "text/html": [
       "<div>\n",
       "<style scoped>\n",
       "    .dataframe tbody tr th:only-of-type {\n",
       "        vertical-align: middle;\n",
       "    }\n",
       "\n",
       "    .dataframe tbody tr th {\n",
       "        vertical-align: top;\n",
       "    }\n",
       "\n",
       "    .dataframe thead th {\n",
       "        text-align: right;\n",
       "    }\n",
       "</style>\n",
       "<table border=\"1\" class=\"dataframe\">\n",
       "  <thead>\n",
       "    <tr style=\"text-align: right;\">\n",
       "      <th></th>\n",
       "      <th>TemperatureRange</th>\n",
       "      <th>count</th>\n",
       "    </tr>\n",
       "  </thead>\n",
       "  <tbody>\n",
       "    <tr>\n",
       "      <td>8</td>\n",
       "      <td>0-10</td>\n",
       "      <td>13039</td>\n",
       "    </tr>\n",
       "    <tr>\n",
       "      <td>10</td>\n",
       "      <td>10-20</td>\n",
       "      <td>42485</td>\n",
       "    </tr>\n",
       "    <tr>\n",
       "      <td>3</td>\n",
       "      <td>20-30</td>\n",
       "      <td>99794</td>\n",
       "    </tr>\n",
       "    <tr>\n",
       "      <td>9</td>\n",
       "      <td>30-40</td>\n",
       "      <td>239476</td>\n",
       "    </tr>\n",
       "    <tr>\n",
       "      <td>1</td>\n",
       "      <td>40-50</td>\n",
       "      <td>292225</td>\n",
       "    </tr>\n",
       "    <tr>\n",
       "      <td>7</td>\n",
       "      <td>50-60</td>\n",
       "      <td>483909</td>\n",
       "    </tr>\n",
       "    <tr>\n",
       "      <td>5</td>\n",
       "      <td>60-70</td>\n",
       "      <td>585878</td>\n",
       "    </tr>\n",
       "    <tr>\n",
       "      <td>11</td>\n",
       "      <td>70-80</td>\n",
       "      <td>610008</td>\n",
       "    </tr>\n",
       "    <tr>\n",
       "      <td>4</td>\n",
       "      <td>80-90</td>\n",
       "      <td>411734</td>\n",
       "    </tr>\n",
       "    <tr>\n",
       "      <td>12</td>\n",
       "      <td>90-100</td>\n",
       "      <td>121442</td>\n",
       "    </tr>\n",
       "    <tr>\n",
       "      <td>6</td>\n",
       "      <td>&lt;0</td>\n",
       "      <td>5061</td>\n",
       "    </tr>\n",
       "    <tr>\n",
       "      <td>0</td>\n",
       "      <td>&gt;100</td>\n",
       "      <td>13221</td>\n",
       "    </tr>\n",
       "  </tbody>\n",
       "</table>\n",
       "</div>"
      ],
      "text/plain": [
       "   TemperatureRange   count\n",
       "8              0-10   13039\n",
       "10            10-20   42485\n",
       "3             20-30   99794\n",
       "9             30-40  239476\n",
       "1             40-50  292225\n",
       "7             50-60  483909\n",
       "5             60-70  585878\n",
       "11            70-80  610008\n",
       "4             80-90  411734\n",
       "12           90-100  121442\n",
       "6                <0    5061\n",
       "0              >100   13221"
      ]
     },
     "execution_count": 13,
     "metadata": {},
     "output_type": "execute_result"
    }
   ],
   "source": [
    "df_sorted_temp"
   ]
  },
  {
   "cell_type": "code",
   "execution_count": 14,
   "metadata": {},
   "outputs": [],
   "source": [
    "target_row = 10\n",
    "# Move target row to first element of list.\n",
    "idx = [target_row] + [i for i in range(len(df_sorted_temp)) if i != target_row]\n",
    "\n",
    "final_temp_acc=df_sorted_temp.iloc[idx]\n",
    " "
   ]
  },
  {
   "cell_type": "code",
   "execution_count": 15,
   "metadata": {},
   "outputs": [
    {
     "data": {
      "text/html": [
       "<div>\n",
       "<style scoped>\n",
       "    .dataframe tbody tr th:only-of-type {\n",
       "        vertical-align: middle;\n",
       "    }\n",
       "\n",
       "    .dataframe tbody tr th {\n",
       "        vertical-align: top;\n",
       "    }\n",
       "\n",
       "    .dataframe thead th {\n",
       "        text-align: right;\n",
       "    }\n",
       "</style>\n",
       "<table border=\"1\" class=\"dataframe\">\n",
       "  <thead>\n",
       "    <tr style=\"text-align: right;\">\n",
       "      <th></th>\n",
       "      <th>TemperatureRange</th>\n",
       "      <th>count</th>\n",
       "    </tr>\n",
       "  </thead>\n",
       "  <tbody>\n",
       "    <tr>\n",
       "      <td>6</td>\n",
       "      <td>&lt;0</td>\n",
       "      <td>5061</td>\n",
       "    </tr>\n",
       "    <tr>\n",
       "      <td>8</td>\n",
       "      <td>0-10</td>\n",
       "      <td>13039</td>\n",
       "    </tr>\n",
       "    <tr>\n",
       "      <td>10</td>\n",
       "      <td>10-20</td>\n",
       "      <td>42485</td>\n",
       "    </tr>\n",
       "    <tr>\n",
       "      <td>3</td>\n",
       "      <td>20-30</td>\n",
       "      <td>99794</td>\n",
       "    </tr>\n",
       "    <tr>\n",
       "      <td>9</td>\n",
       "      <td>30-40</td>\n",
       "      <td>239476</td>\n",
       "    </tr>\n",
       "    <tr>\n",
       "      <td>1</td>\n",
       "      <td>40-50</td>\n",
       "      <td>292225</td>\n",
       "    </tr>\n",
       "    <tr>\n",
       "      <td>7</td>\n",
       "      <td>50-60</td>\n",
       "      <td>483909</td>\n",
       "    </tr>\n",
       "    <tr>\n",
       "      <td>5</td>\n",
       "      <td>60-70</td>\n",
       "      <td>585878</td>\n",
       "    </tr>\n",
       "    <tr>\n",
       "      <td>11</td>\n",
       "      <td>70-80</td>\n",
       "      <td>610008</td>\n",
       "    </tr>\n",
       "    <tr>\n",
       "      <td>4</td>\n",
       "      <td>80-90</td>\n",
       "      <td>411734</td>\n",
       "    </tr>\n",
       "    <tr>\n",
       "      <td>12</td>\n",
       "      <td>90-100</td>\n",
       "      <td>121442</td>\n",
       "    </tr>\n",
       "    <tr>\n",
       "      <td>0</td>\n",
       "      <td>&gt;100</td>\n",
       "      <td>13221</td>\n",
       "    </tr>\n",
       "  </tbody>\n",
       "</table>\n",
       "</div>"
      ],
      "text/plain": [
       "   TemperatureRange   count\n",
       "6                <0    5061\n",
       "8              0-10   13039\n",
       "10            10-20   42485\n",
       "3             20-30   99794\n",
       "9             30-40  239476\n",
       "1             40-50  292225\n",
       "7             50-60  483909\n",
       "5             60-70  585878\n",
       "11            70-80  610008\n",
       "4             80-90  411734\n",
       "12           90-100  121442\n",
       "0              >100   13221"
      ]
     },
     "execution_count": 15,
     "metadata": {},
     "output_type": "execute_result"
    }
   ],
   "source": [
    "final_temp_acc"
   ]
  },
  {
   "cell_type": "code",
   "execution_count": 16,
   "metadata": {},
   "outputs": [
    {
     "data": {
      "image/png": "[encoded data removed]",
      "text/plain": [
       "<Figure size 432x288 with 1 Axes>"
      ]
     },
     "metadata": {
      "needs_background": "light"
     },
     "output_type": "display_data"
    }
   ],
   "source": [
    "\n",
    "#ax = df_temp_range_count['count'].plot(kind='bar', title =\"Accident based on Temperature\", figsize=(15, 10), legend=True, fontsize=12)\n",
    "ax = final_temp_acc.plot(x=\"TemperatureRange\", y=\"count\", kind=\"bar\")\n",
    "ax.set_ylabel(\"Accident\", fontsize=12)\n",
    "ax.set_xlabel(\"TemperatureRange\", fontsize=12)\n",
    "ax.set_title(\"Temperature vs Accidents\")\n",
    "rcParams.update({'figure.autolayout': True})\n",
    "plt.tight_layout()\n",
    "plt.rc('xtick', labelsize=12) \n",
    "plt.rc('ytick', labelsize=12) \n",
    "plt.rc('font', family='serif')\n",
    "plt.savefig('/Users/pprusty05/google_drive/Data_Mining/Project/plots/Temp_vs_Accident.pdf')\n",
    "plt.show()\n"
   ]
  },
  {
   "cell_type": "markdown",
   "metadata": {},
   "source": [
    "## States Vs Accident"
   ]
  },
  {
   "cell_type": "code",
   "execution_count": 17,
   "metadata": {},
   "outputs": [],
   "source": [
    "df_state=df.groupby('State').count().toPandas()"
   ]
  },
  {
   "cell_type": "code",
   "execution_count": 18,
   "metadata": {},
   "outputs": [],
   "source": [
    "top20_state=df_state.sort_values('count').tail(20)"
   ]
  },
  {
   "cell_type": "code",
   "execution_count": 19,
   "metadata": {},
   "outputs": [
    {
     "data": {
      "image/png": "[encoded data removed]",
      "text/plain": [
       "<Figure size 432x288 with 1 Axes>"
      ]
     },
     "metadata": {
      "needs_background": "light"
     },
     "output_type": "display_data"
    }
   ],
   "source": [
    "\n",
    "ax = top20_state.plot(x=\"State\", y=\"count\", kind=\"bar\",fontsize=12)\n",
    "ax.set_xlabel(\"State\", fontsize=12)\n",
    "ax.set_ylabel(\"Accident\", fontsize=12)\n",
    "ax.set_title(\"State-wise Accident\")\n",
    "rcParams.update({'figure.autolayout': True})\n",
    "plt.tight_layout()\n",
    "# plt.rc('text', usetex=True)\n",
    "plt.rc('font', family='serif')\n",
    "plt.rc('xtick', labelsize=12) \n",
    "plt.rc('ytick', labelsize=12) \n",
    "# plt.xticks(rotation=90)\n",
    "plt.savefig('/Users/pprusty05/google_drive/Data_Mining/Project/plots/State_vs_Accident.pdf')\n",
    "plt.show()"
   ]
  },
  {
   "cell_type": "markdown",
   "metadata": {},
   "source": [
    "## Hour Vs Accident"
   ]
  },
  {
   "cell_type": "markdown",
   "metadata": {},
   "source": [
    "## add hour column"
   ]
  },
  {
   "cell_type": "code",
   "execution_count": 20,
   "metadata": {},
   "outputs": [],
   "source": [
    "df_accident = df.withColumn('Hour', hour(df.Start_Time))"
   ]
  },
  {
   "cell_type": "markdown",
   "metadata": {},
   "source": [
    "## convert to pandas df"
   ]
  },
  {
   "cell_type": "code",
   "execution_count": 21,
   "metadata": {},
   "outputs": [],
   "source": [
    "df_hour=df_accident.groupby('Hour').count().toPandas()"
   ]
  },
  {
   "cell_type": "markdown",
   "metadata": {},
   "source": [
    "## sort by hour"
   ]
  },
  {
   "cell_type": "code",
   "execution_count": 22,
   "metadata": {},
   "outputs": [],
   "source": [
    "df_hour=df_hour.sort_values('Hour')"
   ]
  },
  {
   "cell_type": "code",
   "execution_count": 23,
   "metadata": {},
   "outputs": [
    {
     "data": {
      "image/png": "[encoded data removed]",
      "text/plain": [
       "<Figure size 432x288 with 1 Axes>"
      ]
     },
     "metadata": {
      "needs_background": "light"
     },
     "output_type": "display_data"
    }
   ],
   "source": [
    "ax = df_hour.plot(x=\"Hour\", y=\"count\", kind=\"bar\")\n",
    "ax.set_xlabel(\"Hour\", fontsize=12)\n",
    "ax.set_ylabel(\"Accident\", fontsize=12)\n",
    "ax.set_title(\"Hour-wise Accident\")\n",
    "rcParams.update({'figure.autolayout': True})\n",
    "plt.rc('xtick', labelsize=12) \n",
    "plt.rc('ytick', labelsize=12)\n",
    "plt.tight_layout()\n",
    "plt.savefig('/Users/pprusty05/google_drive/Data_Mining/Project/plots/Hour_vs_Accident.pdf')\n",
    "plt.show()"
   ]
  },
  {
   "cell_type": "markdown",
   "metadata": {},
   "source": [
    "## Road Vs Accident"
   ]
  },
  {
   "cell_type": "code",
   "execution_count": 4,
   "metadata": {},
   "outputs": [],
   "source": [
    "df_road=df['Bump','Crossing','Give_Way','Junction','No_Exit']"
   ]
  },
  {
   "cell_type": "code",
   "execution_count": 5,
   "metadata": {},
   "outputs": [],
   "source": [
    "df_road=df_road.toPandas()"
   ]
  },
  {
   "cell_type": "code",
   "execution_count": 6,
   "metadata": {},
   "outputs": [
    {
     "data": {
      "text/html": [
       "<div>\n",
       "<style scoped>\n",
       "    .dataframe tbody tr th:only-of-type {\n",
       "        vertical-align: middle;\n",
       "    }\n",
       "\n",
       "    .dataframe tbody tr th {\n",
       "        vertical-align: top;\n",
       "    }\n",
       "\n",
       "    .dataframe thead th {\n",
       "        text-align: right;\n",
       "    }\n",
       "</style>\n",
       "<table border=\"1\" class=\"dataframe\">\n",
       "  <thead>\n",
       "    <tr style=\"text-align: right;\">\n",
       "      <th></th>\n",
       "      <th>Bump</th>\n",
       "      <th>Crossing</th>\n",
       "      <th>Give_Way</th>\n",
       "      <th>Junction</th>\n",
       "      <th>No_Exit</th>\n",
       "    </tr>\n",
       "  </thead>\n",
       "  <tbody>\n",
       "    <tr>\n",
       "      <td>0</td>\n",
       "      <td>False</td>\n",
       "      <td>True</td>\n",
       "      <td>False</td>\n",
       "      <td>False</td>\n",
       "      <td>False</td>\n",
       "    </tr>\n",
       "    <tr>\n",
       "      <td>1</td>\n",
       "      <td>False</td>\n",
       "      <td>False</td>\n",
       "      <td>False</td>\n",
       "      <td>True</td>\n",
       "      <td>False</td>\n",
       "    </tr>\n",
       "    <tr>\n",
       "      <td>2</td>\n",
       "      <td>False</td>\n",
       "      <td>False</td>\n",
       "      <td>False</td>\n",
       "      <td>True</td>\n",
       "      <td>False</td>\n",
       "    </tr>\n",
       "    <tr>\n",
       "      <td>3</td>\n",
       "      <td>False</td>\n",
       "      <td>False</td>\n",
       "      <td>False</td>\n",
       "      <td>False</td>\n",
       "      <td>False</td>\n",
       "    </tr>\n",
       "    <tr>\n",
       "      <td>4</td>\n",
       "      <td>False</td>\n",
       "      <td>False</td>\n",
       "      <td>False</td>\n",
       "      <td>False</td>\n",
       "      <td>False</td>\n",
       "    </tr>\n",
       "    <tr>\n",
       "      <td>...</td>\n",
       "      <td>...</td>\n",
       "      <td>...</td>\n",
       "      <td>...</td>\n",
       "      <td>...</td>\n",
       "      <td>...</td>\n",
       "    </tr>\n",
       "    <tr>\n",
       "      <td>2974330</td>\n",
       "      <td>False</td>\n",
       "      <td>False</td>\n",
       "      <td>False</td>\n",
       "      <td>False</td>\n",
       "      <td>False</td>\n",
       "    </tr>\n",
       "    <tr>\n",
       "      <td>2974331</td>\n",
       "      <td>False</td>\n",
       "      <td>False</td>\n",
       "      <td>False</td>\n",
       "      <td>False</td>\n",
       "      <td>False</td>\n",
       "    </tr>\n",
       "    <tr>\n",
       "      <td>2974332</td>\n",
       "      <td>False</td>\n",
       "      <td>False</td>\n",
       "      <td>False</td>\n",
       "      <td>True</td>\n",
       "      <td>False</td>\n",
       "    </tr>\n",
       "    <tr>\n",
       "      <td>2974333</td>\n",
       "      <td>False</td>\n",
       "      <td>False</td>\n",
       "      <td>False</td>\n",
       "      <td>False</td>\n",
       "      <td>False</td>\n",
       "    </tr>\n",
       "    <tr>\n",
       "      <td>2974334</td>\n",
       "      <td>False</td>\n",
       "      <td>False</td>\n",
       "      <td>False</td>\n",
       "      <td>False</td>\n",
       "      <td>False</td>\n",
       "    </tr>\n",
       "  </tbody>\n",
       "</table>\n",
       "<p>2974335 rows × 5 columns</p>\n",
       "</div>"
      ],
      "text/plain": [
       "          Bump  Crossing  Give_Way  Junction  No_Exit\n",
       "0        False      True     False     False    False\n",
       "1        False     False     False      True    False\n",
       "2        False     False     False      True    False\n",
       "3        False     False     False     False    False\n",
       "4        False     False     False     False    False\n",
       "...        ...       ...       ...       ...      ...\n",
       "2974330  False     False     False     False    False\n",
       "2974331  False     False     False     False    False\n",
       "2974332  False     False     False      True    False\n",
       "2974333  False     False     False     False    False\n",
       "2974334  False     False     False     False    False\n",
       "\n",
       "[2974335 rows x 5 columns]"
      ]
     },
     "execution_count": 6,
     "metadata": {},
     "output_type": "execute_result"
    }
   ],
   "source": [
    "df_road"
   ]
  },
  {
   "cell_type": "code",
   "execution_count": 7,
   "metadata": {},
   "outputs": [
    {
     "name": "stdout",
     "output_type": "stream",
     "text": [
      "          Bump  Crossing  Give_Way  Junction  No_Exit\n",
      "False  2973881   2766745   2966708   2735888  2970940\n",
      "True       454    207590      7627    238447     3395\n"
     ]
    }
   ],
   "source": [
    "df1 = df_road.apply(pd.value_counts)\n",
    "print (df1)"
   ]
  },
  {
   "cell_type": "code",
   "execution_count": 8,
   "metadata": {},
   "outputs": [
    {
     "data": {
      "image/png": "[encoded data removed]",
      "text/plain": [
       "<Figure size 432x288 with 1 Axes>"
      ]
     },
     "metadata": {
      "needs_background": "light"
     },
     "output_type": "display_data"
    }
   ],
   "source": [
    "#df1.loc[True].plot.bar()\n",
    "ax = df1.loc[True].plot.bar()\n",
    "ax.set_xlabel(\"Road_Type\", fontsize=12)\n",
    "ax.set_ylabel(\"Accident\", fontsize=12)\n",
    "ax.set_title(\"Road_type vs Accident\")\n",
    "ax.legend('count',loc='best')\n",
    "rcParams.update({'figure.autolayout': True})\n",
    "plt.rc('xtick', labelsize=12) \n",
    "plt.rc('ytick', labelsize=12)\n",
    "plt.tight_layout()\n",
    "plt.savefig('/Users/pprusty05/google_drive/Data_Mining/Project/plots/Road_vs_Accident.pdf')\n",
    "plt.show()"
   ]
  },
  {
   "cell_type": "markdown",
   "metadata": {},
   "source": [
    "# missing values"
   ]
  },
  {
   "cell_type": "code",
   "execution_count": 9,
   "metadata": {},
   "outputs": [],
   "source": [
    "#missing data in the dataset\n",
    "def find_missing_values(df):\n",
    "    missing_value_dict = {}\n",
    "    for column_name in df.columns:\n",
    "        missing_value_count = df.where(df[column_name].isNull()).count()\n",
    "        missing_value_percent = (missing_value_count / df.count()) * 100\n",
    "        missing_value_dict[column_name] = {}\n",
    "        missing_value_dict[column_name]['count'] =  missing_value_count\n",
    "        missing_value_dict[column_name]['percent'] =  missing_value_percent\n",
    "\n",
    "    missing_value_pd = pd.DataFrame(missing_value_dict).T\n",
    "    return missing_value_pd\n"
   ]
  },
  {
   "cell_type": "code",
   "execution_count": 10,
   "metadata": {},
   "outputs": [],
   "source": [
    "missing_value_pd=find_missing_values(df)"
   ]
  },
  {
   "cell_type": "code",
   "execution_count": 11,
   "metadata": {},
   "outputs": [
    {
     "data": {
      "text/html": [
       "<div>\n",
       "<style scoped>\n",
       "    .dataframe tbody tr th:only-of-type {\n",
       "        vertical-align: middle;\n",
       "    }\n",
       "\n",
       "    .dataframe tbody tr th {\n",
       "        vertical-align: top;\n",
       "    }\n",
       "\n",
       "    .dataframe thead th {\n",
       "        text-align: right;\n",
       "    }\n",
       "</style>\n",
       "<table border=\"1\" class=\"dataframe\">\n",
       "  <thead>\n",
       "    <tr style=\"text-align: right;\">\n",
       "      <th></th>\n",
       "      <th>count</th>\n",
       "      <th>percent</th>\n",
       "    </tr>\n",
       "  </thead>\n",
       "  <tbody>\n",
       "    <tr>\n",
       "      <td>ID</td>\n",
       "      <td>0.0</td>\n",
       "      <td>0.000000</td>\n",
       "    </tr>\n",
       "    <tr>\n",
       "      <td>Source</td>\n",
       "      <td>0.0</td>\n",
       "      <td>0.000000</td>\n",
       "    </tr>\n",
       "    <tr>\n",
       "      <td>TMC</td>\n",
       "      <td>728071.0</td>\n",
       "      <td>24.478446</td>\n",
       "    </tr>\n",
       "    <tr>\n",
       "      <td>Severity</td>\n",
       "      <td>0.0</td>\n",
       "      <td>0.000000</td>\n",
       "    </tr>\n",
       "    <tr>\n",
       "      <td>Start_Time</td>\n",
       "      <td>0.0</td>\n",
       "      <td>0.000000</td>\n",
       "    </tr>\n",
       "    <tr>\n",
       "      <td>End_Time</td>\n",
       "      <td>0.0</td>\n",
       "      <td>0.000000</td>\n",
       "    </tr>\n",
       "    <tr>\n",
       "      <td>Start_Lat</td>\n",
       "      <td>0.0</td>\n",
       "      <td>0.000000</td>\n",
       "    </tr>\n",
       "    <tr>\n",
       "      <td>Start_Lng</td>\n",
       "      <td>0.0</td>\n",
       "      <td>0.000000</td>\n",
       "    </tr>\n",
       "    <tr>\n",
       "      <td>End_Lat</td>\n",
       "      <td>2246264.0</td>\n",
       "      <td>75.521554</td>\n",
       "    </tr>\n",
       "    <tr>\n",
       "      <td>End_Lng</td>\n",
       "      <td>2246264.0</td>\n",
       "      <td>75.521554</td>\n",
       "    </tr>\n",
       "    <tr>\n",
       "      <td>Distance</td>\n",
       "      <td>0.0</td>\n",
       "      <td>0.000000</td>\n",
       "    </tr>\n",
       "    <tr>\n",
       "      <td>Description</td>\n",
       "      <td>1.0</td>\n",
       "      <td>0.000034</td>\n",
       "    </tr>\n",
       "    <tr>\n",
       "      <td>Number</td>\n",
       "      <td>1917605.0</td>\n",
       "      <td>64.471722</td>\n",
       "    </tr>\n",
       "    <tr>\n",
       "      <td>Street</td>\n",
       "      <td>0.0</td>\n",
       "      <td>0.000000</td>\n",
       "    </tr>\n",
       "    <tr>\n",
       "      <td>Side</td>\n",
       "      <td>0.0</td>\n",
       "      <td>0.000000</td>\n",
       "    </tr>\n",
       "    <tr>\n",
       "      <td>City</td>\n",
       "      <td>83.0</td>\n",
       "      <td>0.002791</td>\n",
       "    </tr>\n",
       "    <tr>\n",
       "      <td>County</td>\n",
       "      <td>0.0</td>\n",
       "      <td>0.000000</td>\n",
       "    </tr>\n",
       "    <tr>\n",
       "      <td>State</td>\n",
       "      <td>0.0</td>\n",
       "      <td>0.000000</td>\n",
       "    </tr>\n",
       "    <tr>\n",
       "      <td>Zipcode</td>\n",
       "      <td>880.0</td>\n",
       "      <td>0.029586</td>\n",
       "    </tr>\n",
       "    <tr>\n",
       "      <td>Country</td>\n",
       "      <td>0.0</td>\n",
       "      <td>0.000000</td>\n",
       "    </tr>\n",
       "    <tr>\n",
       "      <td>Timezone</td>\n",
       "      <td>3163.0</td>\n",
       "      <td>0.106343</td>\n",
       "    </tr>\n",
       "    <tr>\n",
       "      <td>Airport_Code</td>\n",
       "      <td>5691.0</td>\n",
       "      <td>0.191337</td>\n",
       "    </tr>\n",
       "    <tr>\n",
       "      <td>Weather_Timestamp</td>\n",
       "      <td>36705.0</td>\n",
       "      <td>1.234057</td>\n",
       "    </tr>\n",
       "    <tr>\n",
       "      <td>Temperature</td>\n",
       "      <td>56063.0</td>\n",
       "      <td>1.884892</td>\n",
       "    </tr>\n",
       "    <tr>\n",
       "      <td>Wind_Chill</td>\n",
       "      <td>1852623.0</td>\n",
       "      <td>62.286965</td>\n",
       "    </tr>\n",
       "    <tr>\n",
       "      <td>Humidity</td>\n",
       "      <td>59173.0</td>\n",
       "      <td>1.989453</td>\n",
       "    </tr>\n",
       "    <tr>\n",
       "      <td>Pressure</td>\n",
       "      <td>48142.0</td>\n",
       "      <td>1.618580</td>\n",
       "    </tr>\n",
       "    <tr>\n",
       "      <td>Visibility</td>\n",
       "      <td>65691.0</td>\n",
       "      <td>2.208595</td>\n",
       "    </tr>\n",
       "    <tr>\n",
       "      <td>Wind_Direction</td>\n",
       "      <td>45101.0</td>\n",
       "      <td>1.516339</td>\n",
       "    </tr>\n",
       "    <tr>\n",
       "      <td>Wind_Speed</td>\n",
       "      <td>440840.0</td>\n",
       "      <td>14.821464</td>\n",
       "    </tr>\n",
       "    <tr>\n",
       "      <td>Precipitation</td>\n",
       "      <td>1998358.0</td>\n",
       "      <td>67.186716</td>\n",
       "    </tr>\n",
       "    <tr>\n",
       "      <td>Weather_Condition</td>\n",
       "      <td>65932.0</td>\n",
       "      <td>2.216697</td>\n",
       "    </tr>\n",
       "    <tr>\n",
       "      <td>Amenity</td>\n",
       "      <td>0.0</td>\n",
       "      <td>0.000000</td>\n",
       "    </tr>\n",
       "    <tr>\n",
       "      <td>Bump</td>\n",
       "      <td>0.0</td>\n",
       "      <td>0.000000</td>\n",
       "    </tr>\n",
       "    <tr>\n",
       "      <td>Crossing</td>\n",
       "      <td>0.0</td>\n",
       "      <td>0.000000</td>\n",
       "    </tr>\n",
       "    <tr>\n",
       "      <td>Give_Way</td>\n",
       "      <td>0.0</td>\n",
       "      <td>0.000000</td>\n",
       "    </tr>\n",
       "    <tr>\n",
       "      <td>Junction</td>\n",
       "      <td>0.0</td>\n",
       "      <td>0.000000</td>\n",
       "    </tr>\n",
       "    <tr>\n",
       "      <td>No_Exit</td>\n",
       "      <td>0.0</td>\n",
       "      <td>0.000000</td>\n",
       "    </tr>\n",
       "    <tr>\n",
       "      <td>Railway</td>\n",
       "      <td>0.0</td>\n",
       "      <td>0.000000</td>\n",
       "    </tr>\n",
       "    <tr>\n",
       "      <td>Roundabout</td>\n",
       "      <td>0.0</td>\n",
       "      <td>0.000000</td>\n",
       "    </tr>\n",
       "    <tr>\n",
       "      <td>Station</td>\n",
       "      <td>0.0</td>\n",
       "      <td>0.000000</td>\n",
       "    </tr>\n",
       "    <tr>\n",
       "      <td>Stop</td>\n",
       "      <td>0.0</td>\n",
       "      <td>0.000000</td>\n",
       "    </tr>\n",
       "    <tr>\n",
       "      <td>Traffic_Calming</td>\n",
       "      <td>0.0</td>\n",
       "      <td>0.000000</td>\n",
       "    </tr>\n",
       "    <tr>\n",
       "      <td>Traffic_Signal</td>\n",
       "      <td>0.0</td>\n",
       "      <td>0.000000</td>\n",
       "    </tr>\n",
       "    <tr>\n",
       "      <td>Turning_Loop</td>\n",
       "      <td>0.0</td>\n",
       "      <td>0.000000</td>\n",
       "    </tr>\n",
       "    <tr>\n",
       "      <td>Sunrise_Sunset</td>\n",
       "      <td>93.0</td>\n",
       "      <td>0.003127</td>\n",
       "    </tr>\n",
       "    <tr>\n",
       "      <td>Civil_Twilight</td>\n",
       "      <td>93.0</td>\n",
       "      <td>0.003127</td>\n",
       "    </tr>\n",
       "    <tr>\n",
       "      <td>Nautical_Twilight</td>\n",
       "      <td>93.0</td>\n",
       "      <td>0.003127</td>\n",
       "    </tr>\n",
       "    <tr>\n",
       "      <td>Astronomical_Twilight</td>\n",
       "      <td>93.0</td>\n",
       "      <td>0.003127</td>\n",
       "    </tr>\n",
       "  </tbody>\n",
       "</table>\n",
       "</div>"
      ],
      "text/plain": [
       "                           count    percent\n",
       "ID                           0.0   0.000000\n",
       "Source                       0.0   0.000000\n",
       "TMC                     728071.0  24.478446\n",
       "Severity                     0.0   0.000000\n",
       "Start_Time                   0.0   0.000000\n",
       "End_Time                     0.0   0.000000\n",
       "Start_Lat                    0.0   0.000000\n",
       "Start_Lng                    0.0   0.000000\n",
       "End_Lat                2246264.0  75.521554\n",
       "End_Lng                2246264.0  75.521554\n",
       "Distance                     0.0   0.000000\n",
       "Description                  1.0   0.000034\n",
       "Number                 1917605.0  64.471722\n",
       "Street                       0.0   0.000000\n",
       "Side                         0.0   0.000000\n",
       "City                        83.0   0.002791\n",
       "County                       0.0   0.000000\n",
       "State                        0.0   0.000000\n",
       "Zipcode                    880.0   0.029586\n",
       "Country                      0.0   0.000000\n",
       "Timezone                  3163.0   0.106343\n",
       "Airport_Code              5691.0   0.191337\n",
       "Weather_Timestamp        36705.0   1.234057\n",
       "Temperature              56063.0   1.884892\n",
       "Wind_Chill             1852623.0  62.286965\n",
       "Humidity                 59173.0   1.989453\n",
       "Pressure                 48142.0   1.618580\n",
       "Visibility               65691.0   2.208595\n",
       "Wind_Direction           45101.0   1.516339\n",
       "Wind_Speed              440840.0  14.821464\n",
       "Precipitation          1998358.0  67.186716\n",
       "Weather_Condition        65932.0   2.216697\n",
       "Amenity                      0.0   0.000000\n",
       "Bump                         0.0   0.000000\n",
       "Crossing                     0.0   0.000000\n",
       "Give_Way                     0.0   0.000000\n",
       "Junction                     0.0   0.000000\n",
       "No_Exit                      0.0   0.000000\n",
       "Railway                      0.0   0.000000\n",
       "Roundabout                   0.0   0.000000\n",
       "Station                      0.0   0.000000\n",
       "Stop                         0.0   0.000000\n",
       "Traffic_Calming              0.0   0.000000\n",
       "Traffic_Signal               0.0   0.000000\n",
       "Turning_Loop                 0.0   0.000000\n",
       "Sunrise_Sunset              93.0   0.003127\n",
       "Civil_Twilight              93.0   0.003127\n",
       "Nautical_Twilight           93.0   0.003127\n",
       "Astronomical_Twilight       93.0   0.003127"
      ]
     },
     "execution_count": 11,
     "metadata": {},
     "output_type": "execute_result"
    }
   ],
   "source": [
    "missing_value_pd"
   ]
  },
  {
   "cell_type": "code",
   "execution_count": 12,
   "metadata": {},
   "outputs": [
    {
     "data": {
      "text/plain": [
       "11817022.0"
      ]
     },
     "execution_count": 12,
     "metadata": {},
     "output_type": "execute_result"
    }
   ],
   "source": [
    "missing_value_pd['count'].sum()"
   ]
  },
  {
   "cell_type": "markdown",
   "metadata": {},
   "source": [
    "# drop columns"
   ]
  },
  {
   "cell_type": "code",
   "execution_count": 13,
   "metadata": {},
   "outputs": [],
   "source": [
    "#dropping some columns\n",
    "df=df.drop('ID')\n",
    "df=df.drop('Description')\n",
    "df=df.drop('Zipcode')"
   ]
  },
  {
   "cell_type": "code",
   "execution_count": 7,
   "metadata": {},
   "outputs": [],
   "source": [
    "#find the datatype of each column\n",
    "def get_data_types(df):\n",
    "    col_data_type = {}\n",
    "    for types in df.dtypes:\n",
    "        col_data_type[types[0]] = types[1]\n",
    "    return col_data_type"
   ]
  },
  {
   "cell_type": "code",
   "execution_count": 15,
   "metadata": {},
   "outputs": [
    {
     "data": {
      "text/plain": [
       "{'Source': 'string',\n",
       " 'TMC': 'double',\n",
       " 'Severity': 'int',\n",
       " 'Start_Time': 'timestamp',\n",
       " 'End_Time': 'timestamp',\n",
       " 'Start_Lat': 'double',\n",
       " 'Start_Lng': 'double',\n",
       " 'End_Lat': 'double',\n",
       " 'End_Lng': 'double',\n",
       " 'Distance': 'double',\n",
       " 'Number': 'double',\n",
       " 'Street': 'string',\n",
       " 'Side': 'string',\n",
       " 'City': 'string',\n",
       " 'County': 'string',\n",
       " 'State': 'string',\n",
       " 'Country': 'string',\n",
       " 'Timezone': 'string',\n",
       " 'Airport_Code': 'string',\n",
       " 'Weather_Timestamp': 'timestamp',\n",
       " 'Temperature': 'double',\n",
       " 'Wind_Chill': 'double',\n",
       " 'Humidity': 'double',\n",
       " 'Pressure': 'double',\n",
       " 'Visibility': 'double',\n",
       " 'Wind_Direction': 'string',\n",
       " 'Wind_Speed': 'double',\n",
       " 'Precipitation': 'double',\n",
       " 'Weather_Condition': 'string',\n",
       " 'Amenity': 'boolean',\n",
       " 'Bump': 'boolean',\n",
       " 'Crossing': 'boolean',\n",
       " 'Give_Way': 'boolean',\n",
       " 'Junction': 'boolean',\n",
       " 'No_Exit': 'boolean',\n",
       " 'Railway': 'boolean',\n",
       " 'Roundabout': 'boolean',\n",
       " 'Station': 'boolean',\n",
       " 'Stop': 'boolean',\n",
       " 'Traffic_Calming': 'boolean',\n",
       " 'Traffic_Signal': 'boolean',\n",
       " 'Turning_Loop': 'boolean',\n",
       " 'Sunrise_Sunset': 'string',\n",
       " 'Civil_Twilight': 'string',\n",
       " 'Nautical_Twilight': 'string',\n",
       " 'Astronomical_Twilight': 'string'}"
      ]
     },
     "execution_count": 15,
     "metadata": {},
     "output_type": "execute_result"
    }
   ],
   "source": [
    "col_data_type = get_data_types(df)\n",
    "col_data_type"
   ]
  },
  {
   "cell_type": "markdown",
   "metadata": {},
   "source": [
    "## Handle Categorical Data"
   ]
  },
  {
   "cell_type": "code",
   "execution_count": 16,
   "metadata": {},
   "outputs": [],
   "source": [
    "from pyspark.ml.feature import StringIndexer"
   ]
  },
  {
   "cell_type": "code",
   "execution_count": 17,
   "metadata": {},
   "outputs": [
    {
     "name": "stdout",
     "output_type": "stream",
     "text": [
      "Starting :  Source\n",
      "Done : Source\n",
      "Starting :  Street\n",
      "Done : Street\n",
      "Starting :  Side\n",
      "Done : Side\n",
      "Starting :  City\n",
      "Done : City\n",
      "Starting :  County\n",
      "Done : County\n",
      "Starting :  State\n",
      "Done : State\n",
      "Starting :  Country\n",
      "Done : Country\n",
      "Starting :  Timezone\n",
      "Done : Timezone\n",
      "Starting :  Airport_Code\n",
      "Done : Airport_Code\n",
      "Starting :  Wind_Direction\n",
      "Done : Wind_Direction\n",
      "Starting :  Weather_Condition\n",
      "Done : Weather_Condition\n",
      "Starting :  Sunrise_Sunset\n",
      "Done : Sunrise_Sunset\n",
      "Starting :  Civil_Twilight\n",
      "Done : Civil_Twilight\n",
      "Starting :  Nautical_Twilight\n",
      "Done : Nautical_Twilight\n",
      "Starting :  Astronomical_Twilight\n",
      "Done : Astronomical_Twilight\n"
     ]
    }
   ],
   "source": [
    "for keys in col_data_type:\n",
    "    if col_data_type[keys] == 'string':\n",
    "        print('Starting :  ' + keys)\n",
    "        indexer = StringIndexer(inputCol=keys, outputCol=keys+'_index').fit(df)\n",
    "        df = indexer.setHandleInvalid(\"keep\").transform(df)\n",
    "        print('Done : ' + keys)"
   ]
  },
  {
   "cell_type": "code",
   "execution_count": 18,
   "metadata": {},
   "outputs": [
    {
     "name": "stdout",
     "output_type": "stream",
     "text": [
      "Starting :  Amenity\n",
      "Done :  Amenity\n",
      "Starting :  Bump\n",
      "Done :  Bump\n",
      "Starting :  Crossing\n",
      "Done :  Crossing\n",
      "Starting :  Give_Way\n",
      "Done :  Give_Way\n",
      "Starting :  Junction\n",
      "Done :  Junction\n",
      "Starting :  No_Exit\n",
      "Done :  No_Exit\n",
      "Starting :  Railway\n",
      "Done :  Railway\n",
      "Starting :  Roundabout\n",
      "Done :  Roundabout\n",
      "Starting :  Station\n",
      "Done :  Station\n",
      "Starting :  Stop\n",
      "Done :  Stop\n",
      "Starting :  Traffic_Calming\n",
      "Done :  Traffic_Calming\n",
      "Starting :  Traffic_Signal\n",
      "Done :  Traffic_Signal\n",
      "Starting :  Turning_Loop\n",
      "Done :  Turning_Loop\n"
     ]
    }
   ],
   "source": [
    "##Convert all boolean\n",
    "for keys in col_data_type:\n",
    "    if col_data_type[keys] == 'boolean':\n",
    "        print('Starting :  ' + keys)\n",
    "        df = df.withColumn(keys,df[keys].cast('int'))\n",
    "        print('Done :  ' + keys)"
   ]
  },
  {
   "cell_type": "code",
   "execution_count": 19,
   "metadata": {},
   "outputs": [],
   "source": [
    "col_data_type = get_data_types(df)"
   ]
  },
  {
   "cell_type": "code",
   "execution_count": 20,
   "metadata": {},
   "outputs": [
    {
     "data": {
      "text/plain": [
       "{'Source': 'string',\n",
       " 'TMC': 'double',\n",
       " 'Severity': 'int',\n",
       " 'Start_Time': 'timestamp',\n",
       " 'End_Time': 'timestamp',\n",
       " 'Start_Lat': 'double',\n",
       " 'Start_Lng': 'double',\n",
       " 'End_Lat': 'double',\n",
       " 'End_Lng': 'double',\n",
       " 'Distance': 'double',\n",
       " 'Number': 'double',\n",
       " 'Street': 'string',\n",
       " 'Side': 'string',\n",
       " 'City': 'string',\n",
       " 'County': 'string',\n",
       " 'State': 'string',\n",
       " 'Country': 'string',\n",
       " 'Timezone': 'string',\n",
       " 'Airport_Code': 'string',\n",
       " 'Weather_Timestamp': 'timestamp',\n",
       " 'Temperature': 'double',\n",
       " 'Wind_Chill': 'double',\n",
       " 'Humidity': 'double',\n",
       " 'Pressure': 'double',\n",
       " 'Visibility': 'double',\n",
       " 'Wind_Direction': 'string',\n",
       " 'Wind_Speed': 'double',\n",
       " 'Precipitation': 'double',\n",
       " 'Weather_Condition': 'string',\n",
       " 'Amenity': 'int',\n",
       " 'Bump': 'int',\n",
       " 'Crossing': 'int',\n",
       " 'Give_Way': 'int',\n",
       " 'Junction': 'int',\n",
       " 'No_Exit': 'int',\n",
       " 'Railway': 'int',\n",
       " 'Roundabout': 'int',\n",
       " 'Station': 'int',\n",
       " 'Stop': 'int',\n",
       " 'Traffic_Calming': 'int',\n",
       " 'Traffic_Signal': 'int',\n",
       " 'Turning_Loop': 'int',\n",
       " 'Sunrise_Sunset': 'string',\n",
       " 'Civil_Twilight': 'string',\n",
       " 'Nautical_Twilight': 'string',\n",
       " 'Astronomical_Twilight': 'string',\n",
       " 'Source_index': 'double',\n",
       " 'Street_index': 'double',\n",
       " 'Side_index': 'double',\n",
       " 'City_index': 'double',\n",
       " 'County_index': 'double',\n",
       " 'State_index': 'double',\n",
       " 'Country_index': 'double',\n",
       " 'Timezone_index': 'double',\n",
       " 'Airport_Code_index': 'double',\n",
       " 'Wind_Direction_index': 'double',\n",
       " 'Weather_Condition_index': 'double',\n",
       " 'Sunrise_Sunset_index': 'double',\n",
       " 'Civil_Twilight_index': 'double',\n",
       " 'Nautical_Twilight_index': 'double',\n",
       " 'Astronomical_Twilight_index': 'double'}"
      ]
     },
     "execution_count": 20,
     "metadata": {},
     "output_type": "execute_result"
    }
   ],
   "source": [
    "col_data_type"
   ]
  },
  {
   "cell_type": "code",
   "execution_count": 21,
   "metadata": {},
   "outputs": [],
   "source": [
    "##remove all string data types as they have been converted already\n",
    "for key in col_data_type:\n",
    "    if col_data_type[key] == 'string':\n",
    "        df = df.drop(key)"
   ]
  },
  {
   "cell_type": "code",
   "execution_count": 22,
   "metadata": {},
   "outputs": [],
   "source": [
    "##Rename all _index to match \n",
    "for key in col_data_type:\n",
    "    if '_index' in key:\n",
    "        newKey = key.replace('_index', '')\n",
    "        df = df.withColumnRenamed(key, newKey)"
   ]
  },
  {
   "cell_type": "code",
   "execution_count": 23,
   "metadata": {},
   "outputs": [
    {
     "name": "stdout",
     "output_type": "stream",
     "text": [
      "Starting :  Start_Time\n",
      "Done :  Start_Time\n",
      "Starting :  End_Time\n",
      "Done :  End_Time\n",
      "Starting :  Weather_Timestamp\n",
      "Done :  Weather_Timestamp\n"
     ]
    }
   ],
   "source": [
    "#Convert timestamp to epoch\n",
    "for keys in col_data_type:\n",
    "    if col_data_type[keys] == 'timestamp':\n",
    "        print('Starting :  ' + keys)\n",
    "        df = df.withColumn(keys,df[keys].cast('double'))\n",
    "        print('Done :  ' + keys)"
   ]
  },
  {
   "cell_type": "code",
   "execution_count": 24,
   "metadata": {},
   "outputs": [
    {
     "data": {
      "text/plain": [
       "{'TMC': 'double',\n",
       " 'Severity': 'int',\n",
       " 'Start_Time': 'double',\n",
       " 'End_Time': 'double',\n",
       " 'Start_Lat': 'double',\n",
       " 'Start_Lng': 'double',\n",
       " 'End_Lat': 'double',\n",
       " 'End_Lng': 'double',\n",
       " 'Distance': 'double',\n",
       " 'Number': 'double',\n",
       " 'Weather_Timestamp': 'double',\n",
       " 'Temperature': 'double',\n",
       " 'Wind_Chill': 'double',\n",
       " 'Humidity': 'double',\n",
       " 'Pressure': 'double',\n",
       " 'Visibility': 'double',\n",
       " 'Wind_Speed': 'double',\n",
       " 'Precipitation': 'double',\n",
       " 'Amenity': 'int',\n",
       " 'Bump': 'int',\n",
       " 'Crossing': 'int',\n",
       " 'Give_Way': 'int',\n",
       " 'Junction': 'int',\n",
       " 'No_Exit': 'int',\n",
       " 'Railway': 'int',\n",
       " 'Roundabout': 'int',\n",
       " 'Station': 'int',\n",
       " 'Stop': 'int',\n",
       " 'Traffic_Calming': 'int',\n",
       " 'Traffic_Signal': 'int',\n",
       " 'Turning_Loop': 'int',\n",
       " 'Source': 'double',\n",
       " 'Street': 'double',\n",
       " 'Side': 'double',\n",
       " 'City': 'double',\n",
       " 'County': 'double',\n",
       " 'State': 'double',\n",
       " 'Country': 'double',\n",
       " 'Timezone': 'double',\n",
       " 'Airport_Code': 'double',\n",
       " 'Wind_Direction': 'double',\n",
       " 'Weather_Condition': 'double',\n",
       " 'Sunrise_Sunset': 'double',\n",
       " 'Civil_Twilight': 'double',\n",
       " 'Nautical_Twilight': 'double',\n",
       " 'Astronomical_Twilight': 'double'}"
      ]
     },
     "execution_count": 24,
     "metadata": {},
     "output_type": "execute_result"
    }
   ],
   "source": [
    "col_data_type = get_data_types(df)\n",
    "col_data_type"
   ]
  },
  {
   "cell_type": "code",
   "execution_count": 25,
   "metadata": {},
   "outputs": [
    {
     "name": "stdout",
     "output_type": "stream",
     "text": [
      "Starting :  Severity\n",
      "Done :  Severity\n",
      "Starting :  Amenity\n",
      "Done :  Amenity\n",
      "Starting :  Bump\n",
      "Done :  Bump\n",
      "Starting :  Crossing\n",
      "Done :  Crossing\n",
      "Starting :  Give_Way\n",
      "Done :  Give_Way\n",
      "Starting :  Junction\n",
      "Done :  Junction\n",
      "Starting :  No_Exit\n",
      "Done :  No_Exit\n",
      "Starting :  Railway\n",
      "Done :  Railway\n",
      "Starting :  Roundabout\n",
      "Done :  Roundabout\n",
      "Starting :  Station\n",
      "Done :  Station\n",
      "Starting :  Stop\n",
      "Done :  Stop\n",
      "Starting :  Traffic_Calming\n",
      "Done :  Traffic_Calming\n",
      "Starting :  Traffic_Signal\n",
      "Done :  Traffic_Signal\n",
      "Starting :  Turning_Loop\n",
      "Done :  Turning_Loop\n"
     ]
    }
   ],
   "source": [
    "##Convert all int to doubles \n",
    "for keys in col_data_type:\n",
    "    if col_data_type[keys] == 'int':\n",
    "        print('Starting :  ' + keys)\n",
    "        df = df.withColumn(keys,df[keys].cast('double'))\n",
    "        print('Done :  ' + keys)"
   ]
  },
  {
   "cell_type": "code",
   "execution_count": 26,
   "metadata": {},
   "outputs": [
    {
     "data": {
      "text/plain": [
       "{'TMC': 'double',\n",
       " 'Severity': 'double',\n",
       " 'Start_Time': 'double',\n",
       " 'End_Time': 'double',\n",
       " 'Start_Lat': 'double',\n",
       " 'Start_Lng': 'double',\n",
       " 'End_Lat': 'double',\n",
       " 'End_Lng': 'double',\n",
       " 'Distance': 'double',\n",
       " 'Number': 'double',\n",
       " 'Weather_Timestamp': 'double',\n",
       " 'Temperature': 'double',\n",
       " 'Wind_Chill': 'double',\n",
       " 'Humidity': 'double',\n",
       " 'Pressure': 'double',\n",
       " 'Visibility': 'double',\n",
       " 'Wind_Speed': 'double',\n",
       " 'Precipitation': 'double',\n",
       " 'Amenity': 'double',\n",
       " 'Bump': 'double',\n",
       " 'Crossing': 'double',\n",
       " 'Give_Way': 'double',\n",
       " 'Junction': 'double',\n",
       " 'No_Exit': 'double',\n",
       " 'Railway': 'double',\n",
       " 'Roundabout': 'double',\n",
       " 'Station': 'double',\n",
       " 'Stop': 'double',\n",
       " 'Traffic_Calming': 'double',\n",
       " 'Traffic_Signal': 'double',\n",
       " 'Turning_Loop': 'double',\n",
       " 'Source': 'double',\n",
       " 'Street': 'double',\n",
       " 'Side': 'double',\n",
       " 'City': 'double',\n",
       " 'County': 'double',\n",
       " 'State': 'double',\n",
       " 'Country': 'double',\n",
       " 'Timezone': 'double',\n",
       " 'Airport_Code': 'double',\n",
       " 'Wind_Direction': 'double',\n",
       " 'Weather_Condition': 'double',\n",
       " 'Sunrise_Sunset': 'double',\n",
       " 'Civil_Twilight': 'double',\n",
       " 'Nautical_Twilight': 'double',\n",
       " 'Astronomical_Twilight': 'double'}"
      ]
     },
     "execution_count": 26,
     "metadata": {},
     "output_type": "execute_result"
    }
   ],
   "source": [
    "##Now lets look at the final data types\n",
    "col_data_type = get_data_types(df)\n",
    "col_data_type\n"
   ]
  },
  {
   "cell_type": "code",
   "execution_count": 27,
   "metadata": {},
   "outputs": [],
   "source": [
    "##Write another parquet to save it\n",
    "#df.write.parquet(\"/Users/pprusty05/workspace/Data_mining/Project/Accident_numeric.parquet\")"
   ]
  },
  {
   "cell_type": "code",
   "execution_count": 29,
   "metadata": {},
   "outputs": [],
   "source": [
    "df_numeric = spark.read.parquet(\"/Users/pprusty05/workspace/Data_mining/Project/data_folder/accident_data/Accident_numeric.parquet\")"
   ]
  },
  {
   "cell_type": "markdown",
   "metadata": {},
   "source": [
    "## Missing Values"
   ]
  },
  {
   "cell_type": "code",
   "execution_count": 30,
   "metadata": {},
   "outputs": [],
   "source": [
    "mean_dict = { col: 'mean' for col in df_numeric.columns }\n",
    "col_avgs = df_numeric.agg( mean_dict ).collect()[0].asDict()\n",
    "col_avgs = { k[4:-1]: v for k,v in col_avgs.items() }\n",
    "df_numeric = df_numeric.fillna( col_avgs )"
   ]
  },
  {
   "cell_type": "code",
   "execution_count": 31,
   "metadata": {},
   "outputs": [
    {
     "data": {
      "text/html": [
       "<div>\n",
       "<style scoped>\n",
       "    .dataframe tbody tr th:only-of-type {\n",
       "        vertical-align: middle;\n",
       "    }\n",
       "\n",
       "    .dataframe tbody tr th {\n",
       "        vertical-align: top;\n",
       "    }\n",
       "\n",
       "    .dataframe thead th {\n",
       "        text-align: right;\n",
       "    }\n",
       "</style>\n",
       "<table border=\"1\" class=\"dataframe\">\n",
       "  <thead>\n",
       "    <tr style=\"text-align: right;\">\n",
       "      <th></th>\n",
       "      <th>count</th>\n",
       "      <th>percent</th>\n",
       "    </tr>\n",
       "  </thead>\n",
       "  <tbody>\n",
       "    <tr>\n",
       "      <td>TMC</td>\n",
       "      <td>0.0</td>\n",
       "      <td>0.0</td>\n",
       "    </tr>\n",
       "    <tr>\n",
       "      <td>Severity</td>\n",
       "      <td>0.0</td>\n",
       "      <td>0.0</td>\n",
       "    </tr>\n",
       "    <tr>\n",
       "      <td>Start_Time</td>\n",
       "      <td>0.0</td>\n",
       "      <td>0.0</td>\n",
       "    </tr>\n",
       "    <tr>\n",
       "      <td>End_Time</td>\n",
       "      <td>0.0</td>\n",
       "      <td>0.0</td>\n",
       "    </tr>\n",
       "    <tr>\n",
       "      <td>Start_Lat</td>\n",
       "      <td>0.0</td>\n",
       "      <td>0.0</td>\n",
       "    </tr>\n",
       "    <tr>\n",
       "      <td>Start_Lng</td>\n",
       "      <td>0.0</td>\n",
       "      <td>0.0</td>\n",
       "    </tr>\n",
       "    <tr>\n",
       "      <td>End_Lat</td>\n",
       "      <td>0.0</td>\n",
       "      <td>0.0</td>\n",
       "    </tr>\n",
       "    <tr>\n",
       "      <td>End_Lng</td>\n",
       "      <td>0.0</td>\n",
       "      <td>0.0</td>\n",
       "    </tr>\n",
       "    <tr>\n",
       "      <td>Distance</td>\n",
       "      <td>0.0</td>\n",
       "      <td>0.0</td>\n",
       "    </tr>\n",
       "    <tr>\n",
       "      <td>Number</td>\n",
       "      <td>0.0</td>\n",
       "      <td>0.0</td>\n",
       "    </tr>\n",
       "    <tr>\n",
       "      <td>Weather_Timestamp</td>\n",
       "      <td>0.0</td>\n",
       "      <td>0.0</td>\n",
       "    </tr>\n",
       "    <tr>\n",
       "      <td>Temperature</td>\n",
       "      <td>0.0</td>\n",
       "      <td>0.0</td>\n",
       "    </tr>\n",
       "    <tr>\n",
       "      <td>Wind_Chill</td>\n",
       "      <td>0.0</td>\n",
       "      <td>0.0</td>\n",
       "    </tr>\n",
       "    <tr>\n",
       "      <td>Humidity</td>\n",
       "      <td>0.0</td>\n",
       "      <td>0.0</td>\n",
       "    </tr>\n",
       "    <tr>\n",
       "      <td>Pressure</td>\n",
       "      <td>0.0</td>\n",
       "      <td>0.0</td>\n",
       "    </tr>\n",
       "    <tr>\n",
       "      <td>Visibility</td>\n",
       "      <td>0.0</td>\n",
       "      <td>0.0</td>\n",
       "    </tr>\n",
       "    <tr>\n",
       "      <td>Wind_Speed</td>\n",
       "      <td>0.0</td>\n",
       "      <td>0.0</td>\n",
       "    </tr>\n",
       "    <tr>\n",
       "      <td>Precipitation</td>\n",
       "      <td>0.0</td>\n",
       "      <td>0.0</td>\n",
       "    </tr>\n",
       "    <tr>\n",
       "      <td>Amenity</td>\n",
       "      <td>0.0</td>\n",
       "      <td>0.0</td>\n",
       "    </tr>\n",
       "    <tr>\n",
       "      <td>Bump</td>\n",
       "      <td>0.0</td>\n",
       "      <td>0.0</td>\n",
       "    </tr>\n",
       "    <tr>\n",
       "      <td>Crossing</td>\n",
       "      <td>0.0</td>\n",
       "      <td>0.0</td>\n",
       "    </tr>\n",
       "    <tr>\n",
       "      <td>Give_Way</td>\n",
       "      <td>0.0</td>\n",
       "      <td>0.0</td>\n",
       "    </tr>\n",
       "    <tr>\n",
       "      <td>Junction</td>\n",
       "      <td>0.0</td>\n",
       "      <td>0.0</td>\n",
       "    </tr>\n",
       "    <tr>\n",
       "      <td>No_Exit</td>\n",
       "      <td>0.0</td>\n",
       "      <td>0.0</td>\n",
       "    </tr>\n",
       "    <tr>\n",
       "      <td>Railway</td>\n",
       "      <td>0.0</td>\n",
       "      <td>0.0</td>\n",
       "    </tr>\n",
       "    <tr>\n",
       "      <td>Roundabout</td>\n",
       "      <td>0.0</td>\n",
       "      <td>0.0</td>\n",
       "    </tr>\n",
       "    <tr>\n",
       "      <td>Station</td>\n",
       "      <td>0.0</td>\n",
       "      <td>0.0</td>\n",
       "    </tr>\n",
       "    <tr>\n",
       "      <td>Stop</td>\n",
       "      <td>0.0</td>\n",
       "      <td>0.0</td>\n",
       "    </tr>\n",
       "    <tr>\n",
       "      <td>Traffic_Calming</td>\n",
       "      <td>0.0</td>\n",
       "      <td>0.0</td>\n",
       "    </tr>\n",
       "    <tr>\n",
       "      <td>Traffic_Signal</td>\n",
       "      <td>0.0</td>\n",
       "      <td>0.0</td>\n",
       "    </tr>\n",
       "    <tr>\n",
       "      <td>Turning_Loop</td>\n",
       "      <td>0.0</td>\n",
       "      <td>0.0</td>\n",
       "    </tr>\n",
       "    <tr>\n",
       "      <td>Source</td>\n",
       "      <td>0.0</td>\n",
       "      <td>0.0</td>\n",
       "    </tr>\n",
       "    <tr>\n",
       "      <td>Street</td>\n",
       "      <td>0.0</td>\n",
       "      <td>0.0</td>\n",
       "    </tr>\n",
       "    <tr>\n",
       "      <td>Side</td>\n",
       "      <td>0.0</td>\n",
       "      <td>0.0</td>\n",
       "    </tr>\n",
       "    <tr>\n",
       "      <td>City</td>\n",
       "      <td>0.0</td>\n",
       "      <td>0.0</td>\n",
       "    </tr>\n",
       "    <tr>\n",
       "      <td>County</td>\n",
       "      <td>0.0</td>\n",
       "      <td>0.0</td>\n",
       "    </tr>\n",
       "    <tr>\n",
       "      <td>State</td>\n",
       "      <td>0.0</td>\n",
       "      <td>0.0</td>\n",
       "    </tr>\n",
       "    <tr>\n",
       "      <td>Country</td>\n",
       "      <td>0.0</td>\n",
       "      <td>0.0</td>\n",
       "    </tr>\n",
       "    <tr>\n",
       "      <td>Timezone</td>\n",
       "      <td>0.0</td>\n",
       "      <td>0.0</td>\n",
       "    </tr>\n",
       "    <tr>\n",
       "      <td>Airport_Code</td>\n",
       "      <td>0.0</td>\n",
       "      <td>0.0</td>\n",
       "    </tr>\n",
       "    <tr>\n",
       "      <td>Wind_Direction</td>\n",
       "      <td>0.0</td>\n",
       "      <td>0.0</td>\n",
       "    </tr>\n",
       "    <tr>\n",
       "      <td>Weather_Condition</td>\n",
       "      <td>0.0</td>\n",
       "      <td>0.0</td>\n",
       "    </tr>\n",
       "    <tr>\n",
       "      <td>Sunrise_Sunset</td>\n",
       "      <td>0.0</td>\n",
       "      <td>0.0</td>\n",
       "    </tr>\n",
       "    <tr>\n",
       "      <td>Civil_Twilight</td>\n",
       "      <td>0.0</td>\n",
       "      <td>0.0</td>\n",
       "    </tr>\n",
       "    <tr>\n",
       "      <td>Nautical_Twilight</td>\n",
       "      <td>0.0</td>\n",
       "      <td>0.0</td>\n",
       "    </tr>\n",
       "    <tr>\n",
       "      <td>Astronomical_Twilight</td>\n",
       "      <td>0.0</td>\n",
       "      <td>0.0</td>\n",
       "    </tr>\n",
       "  </tbody>\n",
       "</table>\n",
       "</div>"
      ],
      "text/plain": [
       "                       count  percent\n",
       "TMC                      0.0      0.0\n",
       "Severity                 0.0      0.0\n",
       "Start_Time               0.0      0.0\n",
       "End_Time                 0.0      0.0\n",
       "Start_Lat                0.0      0.0\n",
       "Start_Lng                0.0      0.0\n",
       "End_Lat                  0.0      0.0\n",
       "End_Lng                  0.0      0.0\n",
       "Distance                 0.0      0.0\n",
       "Number                   0.0      0.0\n",
       "Weather_Timestamp        0.0      0.0\n",
       "Temperature              0.0      0.0\n",
       "Wind_Chill               0.0      0.0\n",
       "Humidity                 0.0      0.0\n",
       "Pressure                 0.0      0.0\n",
       "Visibility               0.0      0.0\n",
       "Wind_Speed               0.0      0.0\n",
       "Precipitation            0.0      0.0\n",
       "Amenity                  0.0      0.0\n",
       "Bump                     0.0      0.0\n",
       "Crossing                 0.0      0.0\n",
       "Give_Way                 0.0      0.0\n",
       "Junction                 0.0      0.0\n",
       "No_Exit                  0.0      0.0\n",
       "Railway                  0.0      0.0\n",
       "Roundabout               0.0      0.0\n",
       "Station                  0.0      0.0\n",
       "Stop                     0.0      0.0\n",
       "Traffic_Calming          0.0      0.0\n",
       "Traffic_Signal           0.0      0.0\n",
       "Turning_Loop             0.0      0.0\n",
       "Source                   0.0      0.0\n",
       "Street                   0.0      0.0\n",
       "Side                     0.0      0.0\n",
       "City                     0.0      0.0\n",
       "County                   0.0      0.0\n",
       "State                    0.0      0.0\n",
       "Country                  0.0      0.0\n",
       "Timezone                 0.0      0.0\n",
       "Airport_Code             0.0      0.0\n",
       "Wind_Direction           0.0      0.0\n",
       "Weather_Condition        0.0      0.0\n",
       "Sunrise_Sunset           0.0      0.0\n",
       "Civil_Twilight           0.0      0.0\n",
       "Nautical_Twilight        0.0      0.0\n",
       "Astronomical_Twilight    0.0      0.0"
      ]
     },
     "execution_count": 31,
     "metadata": {},
     "output_type": "execute_result"
    }
   ],
   "source": [
    "##Check how many missing values are there\n",
    "missing_value_df = find_missing_values(df_numeric)\n",
    "missing_value_df"
   ]
  },
  {
   "cell_type": "code",
   "execution_count": 32,
   "metadata": {},
   "outputs": [],
   "source": [
    "##Checked now we don't have any missing Values\n",
    "##Write another parquet to save it\n",
    "#df_numeric.write.parquet(\"/Users/pprusty05/workspace/Data_mining/Project/Accident_imputed.parquet\")"
   ]
  },
  {
   "cell_type": "markdown",
   "metadata": {},
   "source": [
    "## Normalization Step"
   ]
  },
  {
   "cell_type": "code",
   "execution_count": 3,
   "metadata": {},
   "outputs": [],
   "source": [
    "df_imputed = spark.read.parquet(\"/Users/pprusty05/workspace/Data_mining/Project/data_folder/accident_data/Accident_imputed.parquet\")"
   ]
  },
  {
   "cell_type": "code",
   "execution_count": 4,
   "metadata": {},
   "outputs": [
    {
     "name": "stdout",
     "output_type": "stream",
     "text": [
      "root\n",
      " |-- TMC: double (nullable = true)\n",
      " |-- Severity: double (nullable = true)\n",
      " |-- Start_Time: double (nullable = true)\n",
      " |-- End_Time: double (nullable = true)\n",
      " |-- Start_Lat: double (nullable = true)\n",
      " |-- Start_Lng: double (nullable = true)\n",
      " |-- End_Lat: double (nullable = true)\n",
      " |-- End_Lng: double (nullable = true)\n",
      " |-- Distance: double (nullable = true)\n",
      " |-- Number: double (nullable = true)\n",
      " |-- Weather_Timestamp: double (nullable = true)\n",
      " |-- Temperature: double (nullable = true)\n",
      " |-- Wind_Chill: double (nullable = true)\n",
      " |-- Humidity: double (nullable = true)\n",
      " |-- Pressure: double (nullable = true)\n",
      " |-- Visibility: double (nullable = true)\n",
      " |-- Wind_Speed: double (nullable = true)\n",
      " |-- Precipitation: double (nullable = true)\n",
      " |-- Amenity: double (nullable = true)\n",
      " |-- Bump: double (nullable = true)\n",
      " |-- Crossing: double (nullable = true)\n",
      " |-- Give_Way: double (nullable = true)\n",
      " |-- Junction: double (nullable = true)\n",
      " |-- No_Exit: double (nullable = true)\n",
      " |-- Railway: double (nullable = true)\n",
      " |-- Roundabout: double (nullable = true)\n",
      " |-- Station: double (nullable = true)\n",
      " |-- Stop: double (nullable = true)\n",
      " |-- Traffic_Calming: double (nullable = true)\n",
      " |-- Traffic_Signal: double (nullable = true)\n",
      " |-- Turning_Loop: double (nullable = true)\n",
      " |-- Source: double (nullable = true)\n",
      " |-- Street: double (nullable = true)\n",
      " |-- Side: double (nullable = true)\n",
      " |-- City: double (nullable = true)\n",
      " |-- County: double (nullable = true)\n",
      " |-- State: double (nullable = true)\n",
      " |-- Country: double (nullable = true)\n",
      " |-- Timezone: double (nullable = true)\n",
      " |-- Airport_Code: double (nullable = true)\n",
      " |-- Wind_Direction: double (nullable = true)\n",
      " |-- Weather_Condition: double (nullable = true)\n",
      " |-- Sunrise_Sunset: double (nullable = true)\n",
      " |-- Civil_Twilight: double (nullable = true)\n",
      " |-- Nautical_Twilight: double (nullable = true)\n",
      " |-- Astronomical_Twilight: double (nullable = true)\n",
      "\n"
     ]
    }
   ],
   "source": [
    "df_imputed.printSchema()"
   ]
  },
  {
   "cell_type": "code",
   "execution_count": 5,
   "metadata": {},
   "outputs": [
    {
     "name": "stdout",
     "output_type": "stream",
     "text": [
      "+--------+-------+\n",
      "|Severity|  count|\n",
      "+--------+-------+\n",
      "|     1.0|    968|\n",
      "|     4.0|  92337|\n",
      "|     3.0| 887620|\n",
      "|     2.0|1993410|\n",
      "+--------+-------+\n",
      "\n"
     ]
    }
   ],
   "source": [
    "df_imputed.groupBy(\"Severity\").count().show()\n"
   ]
  },
  {
   "cell_type": "markdown",
   "metadata": {},
   "source": [
    "# Convert to vector and normalize"
   ]
  },
  {
   "cell_type": "code",
   "execution_count": 8,
   "metadata": {},
   "outputs": [],
   "source": [
    "from pyspark.mllib.linalg import Vectors\n",
    "from pyspark.ml.feature import VectorAssembler\n",
    "col_data_type = get_data_types(df_imputed)\n",
    "##Create a feature list, we want all columns as features except for Severity as feature vector\n",
    "feaure_list = []\n",
    "for key in col_data_type:\n",
    "    feaure_list.append(key) \n",
    "##As sever\n",
    "feaure_list.remove('Severity')\n",
    "assembler = VectorAssembler(\n",
    "    inputCols= feaure_list,\n",
    "    outputCol=\"features_vector\")\n",
    "df_imputed = assembler.transform(df_imputed)"
   ]
  },
  {
   "cell_type": "code",
   "execution_count": 9,
   "metadata": {},
   "outputs": [],
   "source": [
    "from pyspark.mllib.util import MLUtils\n",
    "from pyspark.ml.feature import StandardScaler\n",
    "\n",
    "scaler = StandardScaler(inputCol=\"features_vector\", outputCol=\"scaled_features_vector\",\n",
    "                        withStd=True, withMean=False)\n",
    "\n",
    "# Compute summary statistics by fitting the StandardScaler\n",
    "scalerModel = scaler.fit(df_imputed)\n",
    "\n",
    "# Normalize each feature to have unit standard deviation.\n",
    "df_imputed = scalerModel.transform(df_imputed)"
   ]
  },
  {
   "cell_type": "code",
   "execution_count": 10,
   "metadata": {},
   "outputs": [],
   "source": [
    "##Save the data frame as normalized\n",
    "#df_imputed.write.parquet(\"/Users/pprusty05/workspace/Data_mining/Project/Accident_normalized.parquet\")"
   ]
  },
  {
   "cell_type": "markdown",
   "metadata": {},
   "source": [
    "## Train the normalized data"
   ]
  },
  {
   "cell_type": "code",
   "execution_count": 11,
   "metadata": {},
   "outputs": [],
   "source": [
    "df_normalized = spark.read.parquet(\"/Users/pprusty05/workspace/Data_mining/Project/data_folder/accident_data/Accident_normalized.parquet\")"
   ]
  },
  {
   "cell_type": "code",
   "execution_count": 12,
   "metadata": {},
   "outputs": [
    {
     "name": "stdout",
     "output_type": "stream",
     "text": [
      "root\n",
      " |-- TMC: double (nullable = true)\n",
      " |-- Severity: double (nullable = true)\n",
      " |-- Start_Time: double (nullable = true)\n",
      " |-- End_Time: double (nullable = true)\n",
      " |-- Start_Lat: double (nullable = true)\n",
      " |-- Start_Lng: double (nullable = true)\n",
      " |-- End_Lat: double (nullable = true)\n",
      " |-- End_Lng: double (nullable = true)\n",
      " |-- Distance: double (nullable = true)\n",
      " |-- Number: double (nullable = true)\n",
      " |-- Weather_Timestamp: double (nullable = true)\n",
      " |-- Temperature: double (nullable = true)\n",
      " |-- Wind_Chill: double (nullable = true)\n",
      " |-- Humidity: double (nullable = true)\n",
      " |-- Pressure: double (nullable = true)\n",
      " |-- Visibility: double (nullable = true)\n",
      " |-- Wind_Speed: double (nullable = true)\n",
      " |-- Precipitation: double (nullable = true)\n",
      " |-- Amenity: double (nullable = true)\n",
      " |-- Bump: double (nullable = true)\n",
      " |-- Crossing: double (nullable = true)\n",
      " |-- Give_Way: double (nullable = true)\n",
      " |-- Junction: double (nullable = true)\n",
      " |-- No_Exit: double (nullable = true)\n",
      " |-- Railway: double (nullable = true)\n",
      " |-- Roundabout: double (nullable = true)\n",
      " |-- Station: double (nullable = true)\n",
      " |-- Stop: double (nullable = true)\n",
      " |-- Traffic_Calming: double (nullable = true)\n",
      " |-- Traffic_Signal: double (nullable = true)\n",
      " |-- Turning_Loop: double (nullable = true)\n",
      " |-- Source: double (nullable = true)\n",
      " |-- Street: double (nullable = true)\n",
      " |-- Side: double (nullable = true)\n",
      " |-- City: double (nullable = true)\n",
      " |-- County: double (nullable = true)\n",
      " |-- State: double (nullable = true)\n",
      " |-- Country: double (nullable = true)\n",
      " |-- Timezone: double (nullable = true)\n",
      " |-- Airport_Code: double (nullable = true)\n",
      " |-- Wind_Direction: double (nullable = true)\n",
      " |-- Weather_Condition: double (nullable = true)\n",
      " |-- Sunrise_Sunset: double (nullable = true)\n",
      " |-- Civil_Twilight: double (nullable = true)\n",
      " |-- Nautical_Twilight: double (nullable = true)\n",
      " |-- Astronomical_Twilight: double (nullable = true)\n",
      " |-- features_vector: vector (nullable = true)\n",
      " |-- scaled_features_vector: vector (nullable = true)\n",
      "\n"
     ]
    }
   ],
   "source": [
    "df_normalized.printSchema()"
   ]
  },
  {
   "cell_type": "code",
   "execution_count": 13,
   "metadata": {},
   "outputs": [
    {
     "data": {
      "text/plain": [
       "2974335"
      ]
     },
     "execution_count": 13,
     "metadata": {},
     "output_type": "execute_result"
    }
   ],
   "source": [
    "df_normalized.count()"
   ]
  },
  {
   "cell_type": "markdown",
   "metadata": {},
   "source": [
    "# Logistic Regression Classifier"
   ]
  },
  {
   "cell_type": "code",
   "execution_count": 16,
   "metadata": {},
   "outputs": [
    {
     "name": "stdout",
     "output_type": "stream",
     "text": [
      "+----------+--------+----------------------+\n",
      "|prediction|Severity|scaled_features_vector|\n",
      "+----------+--------+----------------------+\n",
      "|       2.0|     1.0|  (45,[0,1,2,3,4,5,...|\n",
      "|       2.0|     1.0|  (45,[0,1,2,3,4,5,...|\n",
      "|       3.0|     1.0|  (45,[0,1,2,3,4,5,...|\n",
      "|       3.0|     1.0|  (45,[0,1,2,3,4,5,...|\n",
      "|       3.0|     2.0|  (45,[0,1,2,3,4,5,...|\n",
      "+----------+--------+----------------------+\n",
      "only showing top 5 rows\n",
      "\n",
      "Test Error = 0.259583 \n"
     ]
    }
   ],
   "source": [
    "from pyspark.ml.classification import LogisticRegression\n",
    "from pyspark.ml import Pipeline\n",
    "#from pyspark.ml.classification import DecisionTreeClassifier\n",
    "from pyspark.ml.feature import StringIndexer, VectorIndexer\n",
    "from pyspark.ml.evaluation import MulticlassClassificationEvaluator\n",
    "(trainingData, testData) = df_normalized.randomSplit([0.7, 0.3])\n",
    "\n",
    "# Train a DecisionTree model.\n",
    "LR = LogisticRegression(labelCol=\"Severity\", featuresCol=\"scaled_features_vector\")\n",
    "\n",
    "# Chain indexers and tree in a Pipeline\n",
    "pipeline = Pipeline(stages=[LR])\n",
    "\n",
    "# Train model.  This also runs the indexers.\n",
    "model = pipeline.fit(trainingData)\n",
    "\n",
    "# Make predictions.\n",
    "predictions = model.transform(testData)\n",
    "\n",
    "# Select example rows to display.\n",
    "predictions.select(\"prediction\", \"Severity\", \"scaled_features_vector\").show(5)\n",
    "\n",
    "# Select (prediction, true label) and compute test error\n",
    "evaluator = MulticlassClassificationEvaluator(\n",
    "    labelCol=\"Severity\", predictionCol=\"prediction\", metricName=\"accuracy\")\n",
    "accuracy = evaluator.evaluate(predictions)\n",
    "print(\"Test Error = %g \" % (1.0 - accuracy))\n",
    "\n",
    "# treeModel = model.stages[1]\n",
    "# # summary only\n",
    "# print(treeModel)"
   ]
  },
  {
   "cell_type": "code",
   "execution_count": 17,
   "metadata": {},
   "outputs": [
    {
     "data": {
      "text/plain": [
       "0.7404166816079176"
      ]
     },
     "execution_count": 17,
     "metadata": {},
     "output_type": "execute_result"
    }
   ],
   "source": [
    "accuracy"
   ]
  },
  {
   "cell_type": "code",
   "execution_count": 18,
   "metadata": {},
   "outputs": [
    {
     "data": {
      "text/plain": [
       "0.723280890732743"
      ]
     },
     "execution_count": 18,
     "metadata": {},
     "output_type": "execute_result"
    }
   ],
   "source": [
    "evaluator = MulticlassClassificationEvaluator(\n",
    "    labelCol=\"Severity\", predictionCol=\"prediction\", metricName=\"f1\")\n",
    "f1 = evaluator.evaluate(predictions)\n",
    "f1"
   ]
  },
  {
   "cell_type": "code",
   "execution_count": 19,
   "metadata": {},
   "outputs": [
    {
     "data": {
      "text/plain": [
       "0.7262139886740335"
      ]
     },
     "execution_count": 19,
     "metadata": {},
     "output_type": "execute_result"
    }
   ],
   "source": [
    "evaluator = MulticlassClassificationEvaluator(\n",
    "    labelCol=\"Severity\", predictionCol=\"prediction\", metricName=\"weightedPrecision\")\n",
    "Precision = evaluator.evaluate(predictions)\n",
    "Precision"
   ]
  },
  {
   "cell_type": "code",
   "execution_count": 20,
   "metadata": {},
   "outputs": [
    {
     "data": {
      "text/plain": [
       "0.7404166816079176"
      ]
     },
     "execution_count": 20,
     "metadata": {},
     "output_type": "execute_result"
    }
   ],
   "source": [
    "evaluator = MulticlassClassificationEvaluator(\n",
    "    labelCol=\"Severity\", predictionCol=\"prediction\", metricName=\"weightedRecall\")\n",
    "Recall = evaluator.evaluate(predictions)\n",
    "Recall"
   ]
  },
  {
   "cell_type": "markdown",
   "metadata": {},
   "source": [
    "# Decision tree classifier for classification of severity"
   ]
  },
  {
   "cell_type": "code",
   "execution_count": 14,
   "metadata": {},
   "outputs": [
    {
     "name": "stdout",
     "output_type": "stream",
     "text": [
      "+----------+--------+----------------------+\n",
      "|prediction|Severity|scaled_features_vector|\n",
      "+----------+--------+----------------------+\n",
      "|       2.0|     1.0|  (45,[0,1,2,3,4,5,...|\n",
      "|       2.0|     1.0|  (45,[0,1,2,3,4,5,...|\n",
      "|       2.0|     1.0|  (45,[0,1,2,3,4,5,...|\n",
      "|       2.0|     1.0|  (45,[0,1,2,3,4,5,...|\n",
      "|       2.0|     1.0|  (45,[0,1,2,3,4,5,...|\n",
      "+----------+--------+----------------------+\n",
      "only showing top 5 rows\n",
      "\n",
      "Test Error = 0.232019 \n"
     ]
    }
   ],
   "source": [
    "\n",
    "from pyspark.ml import Pipeline\n",
    "from pyspark.ml.classification import DecisionTreeClassifier\n",
    "from pyspark.ml.feature import StringIndexer, VectorIndexer\n",
    "from pyspark.ml.evaluation import MulticlassClassificationEvaluator\n",
    "(trainingData, testData) = df_normalized.randomSplit([0.7, 0.3])\n",
    "\n",
    "# Train a DecisionTree model.\n",
    "dt = DecisionTreeClassifier(labelCol=\"Severity\", featuresCol=\"scaled_features_vector\")\n",
    "\n",
    "# Chain indexers and tree in a Pipeline\n",
    "pipeline = Pipeline(stages=[dt])\n",
    "\n",
    "# Train model.  This also runs the indexers.\n",
    "model = pipeline.fit(trainingData)\n",
    "\n",
    "# Make predictions.\n",
    "predictions = model.transform(testData)\n",
    "\n",
    "# Select example rows to display.\n",
    "predictions.select(\"prediction\", \"Severity\", \"scaled_features_vector\").show(5)\n",
    "\n",
    "# Select (prediction, true label) and compute test error\n",
    "evaluator = MulticlassClassificationEvaluator(\n",
    "    labelCol=\"Severity\", predictionCol=\"prediction\", metricName=\"accuracy\")\n",
    "accuracy = evaluator.evaluate(predictions)\n",
    "print(\"Test Error = %g \" % (1.0 - accuracy))\n",
    "\n"
   ]
  },
  {
   "cell_type": "code",
   "execution_count": 15,
   "metadata": {},
   "outputs": [
    {
     "data": {
      "text/plain": [
       "0.7679813137508612"
      ]
     },
     "execution_count": 15,
     "metadata": {},
     "output_type": "execute_result"
    }
   ],
   "source": [
    "evaluator = MulticlassClassificationEvaluator(\n",
    "    labelCol=\"Severity\", predictionCol=\"prediction\", metricName=\"accuracy\")\n",
    "accuracy = evaluator.evaluate(predictions)\n",
    "accuracy"
   ]
  },
  {
   "cell_type": "markdown",
   "metadata": {},
   "source": [
    "# Decision tree classifier with different max depth"
   ]
  },
  {
   "cell_type": "code",
   "execution_count": 21,
   "metadata": {},
   "outputs": [
    {
     "name": "stdout",
     "output_type": "stream",
     "text": [
      "+----------+--------+----------------------+\n",
      "|prediction|Severity|scaled_features_vector|\n",
      "+----------+--------+----------------------+\n",
      "|       2.0|     1.0|  (45,[0,1,2,3,4,5,...|\n",
      "|       2.0|     1.0|  (45,[0,1,2,3,4,5,...|\n",
      "|       2.0|     2.0|  (45,[0,1,2,3,4,5,...|\n",
      "|       2.0|     2.0|  (45,[0,1,2,3,4,5,...|\n",
      "|       2.0|     2.0|  (45,[0,1,2,3,4,5,...|\n",
      "+----------+--------+----------------------+\n",
      "only showing top 5 rows\n",
      "\n",
      "+----------+--------+----------------------+\n",
      "|prediction|Severity|scaled_features_vector|\n",
      "+----------+--------+----------------------+\n",
      "|       2.0|     1.0|  (45,[0,1,2,3,4,5,...|\n",
      "|       2.0|     1.0|  (45,[0,1,2,3,4,5,...|\n",
      "|       2.0|     2.0|  (45,[0,1,2,3,4,5,...|\n",
      "|       2.0|     2.0|  (45,[0,1,2,3,4,5,...|\n",
      "|       2.0|     2.0|  (45,[0,1,2,3,4,5,...|\n",
      "+----------+--------+----------------------+\n",
      "only showing top 5 rows\n",
      "\n",
      "+----------+--------+----------------------+\n",
      "|prediction|Severity|scaled_features_vector|\n",
      "+----------+--------+----------------------+\n",
      "|       2.0|     1.0|  (45,[0,1,2,3,4,5,...|\n",
      "|       3.0|     1.0|  (45,[0,1,2,3,4,5,...|\n",
      "|       2.0|     2.0|  (45,[0,1,2,3,4,5,...|\n",
      "|       3.0|     2.0|  (45,[0,1,2,3,4,5,...|\n",
      "|       3.0|     2.0|  (45,[0,1,2,3,4,5,...|\n",
      "+----------+--------+----------------------+\n",
      "only showing top 5 rows\n",
      "\n",
      "+----------+--------+----------------------+\n",
      "|prediction|Severity|scaled_features_vector|\n",
      "+----------+--------+----------------------+\n",
      "|       2.0|     1.0|  (45,[0,1,2,3,4,5,...|\n",
      "|       3.0|     1.0|  (45,[0,1,2,3,4,5,...|\n",
      "|       2.0|     2.0|  (45,[0,1,2,3,4,5,...|\n",
      "|       3.0|     2.0|  (45,[0,1,2,3,4,5,...|\n",
      "|       2.0|     2.0|  (45,[0,1,2,3,4,5,...|\n",
      "+----------+--------+----------------------+\n",
      "only showing top 5 rows\n",
      "\n",
      "+----------+--------+----------------------+\n",
      "|prediction|Severity|scaled_features_vector|\n",
      "+----------+--------+----------------------+\n",
      "|       2.0|     1.0|  (45,[0,1,2,3,4,5,...|\n",
      "|       2.0|     1.0|  (45,[0,1,2,3,4,5,...|\n",
      "|       2.0|     2.0|  (45,[0,1,2,3,4,5,...|\n",
      "|       2.0|     2.0|  (45,[0,1,2,3,4,5,...|\n",
      "|       2.0|     2.0|  (45,[0,1,2,3,4,5,...|\n",
      "+----------+--------+----------------------+\n",
      "only showing top 5 rows\n",
      "\n"
     ]
    }
   ],
   "source": [
    "from pyspark.ml import Pipeline\n",
    "from pyspark.ml.classification import DecisionTreeClassifier\n",
    "from pyspark.ml.feature import StringIndexer, VectorIndexer\n",
    "from pyspark.ml.evaluation import MulticlassClassificationEvaluator\n",
    "(trainingData, testData) = df_normalized.randomSplit([0.7, 0.3])\n",
    "max_depth=[2,5,10,15,20]\n",
    "score_list=[]\n",
    "for k in max_depth:\n",
    "    dt = DecisionTreeClassifier(labelCol=\"Severity\", featuresCol=\"scaled_features_vector\", maxDepth=k)\n",
    "\n",
    "    # Chain indexers and tree in a Pipeline\n",
    "    pipeline = Pipeline(stages=[dt])\n",
    "\n",
    "    # Train model.  This also runs the indexers.\n",
    "    model = pipeline.fit(trainingData)\n",
    "\n",
    "    # Make predictions.\n",
    "    predictions = model.transform(testData)\n",
    "\n",
    "    # Select example rows to display.\n",
    "    predictions.select(\"prediction\", \"Severity\", \"scaled_features_vector\").show(5)\n",
    "\n",
    "    # Select (prediction, true label) and compute test error\n",
    "    evaluator = MulticlassClassificationEvaluator(\n",
    "        labelCol=\"Severity\", predictionCol=\"prediction\", metricName=\"accuracy\")\n",
    "    accuracy=evaluator.evaluate(predictions)\n",
    "    score_list.append(accuracy)"
   ]
  },
  {
   "cell_type": "code",
   "execution_count": 22,
   "metadata": {},
   "outputs": [
    {
     "data": {
      "image/png": "[encoded data removed]",
      "text/plain": [
       "<Figure size 432x288 with 1 Axes>"
      ]
     },
     "metadata": {
      "needs_background": "light"
     },
     "output_type": "display_data"
    }
   ],
   "source": [
    "from matplotlib import rcParams\n",
    "import matplotlib.pyplot as plt\n",
    "\n",
    "plt.plot(max_depth,score_list)\n",
    "plt.xlabel(\"Max Depth\", fontsize=12)\n",
    "plt.ylabel(\"Accuracy\", fontsize=12)\n",
    "plt.title(\"Max_Depth vs Accuracy\")\n",
    "rcParams.update({'figure.autolayout': True})\n",
    "plt.rc('xtick', labelsize=12) \n",
    "plt.rc('ytick', labelsize=12) \n",
    "plt.rc('font', family='serif')\n",
    "plt.tight_layout()\n",
    "plt.savefig('/Users/pprusty05/google_drive/Data_Mining/Project/plots/maxDepth_accuracy_accident.pdf')\n",
    "plt.show()"
   ]
  },
  {
   "cell_type": "markdown",
   "metadata": {},
   "source": [
    "# Decision tree with max depth 20"
   ]
  },
  {
   "cell_type": "code",
   "execution_count": 23,
   "metadata": {},
   "outputs": [
    {
     "name": "stdout",
     "output_type": "stream",
     "text": [
      "+----------+--------+----------------------+\n",
      "|prediction|Severity|scaled_features_vector|\n",
      "+----------+--------+----------------------+\n",
      "|       2.0|     1.0|  (45,[0,1,2,3,4,5,...|\n",
      "|       2.0|     1.0|  (45,[0,1,2,3,4,5,...|\n",
      "|       2.0|     2.0|  (45,[0,1,2,3,4,5,...|\n",
      "|       2.0|     2.0|  (45,[0,1,2,3,4,5,...|\n",
      "|       2.0|     2.0|  (45,[0,1,2,3,4,5,...|\n",
      "+----------+--------+----------------------+\n",
      "only showing top 5 rows\n",
      "\n"
     ]
    }
   ],
   "source": [
    "# Train a DecisionTree model.\n",
    "dt = DecisionTreeClassifier(labelCol=\"Severity\", featuresCol=\"scaled_features_vector\", maxDepth=20)\n",
    "\n",
    "# Chain indexers and tree in a Pipeline\n",
    "pipeline = Pipeline(stages=[dt])\n",
    "\n",
    "# Train model.  This also runs the indexers.\n",
    "model = pipeline.fit(trainingData)\n",
    "\n",
    "# Make predictions.\n",
    "predictions = model.transform(testData)\n",
    "\n",
    "# Select example rows to display.\n",
    "predictions.select(\"prediction\", \"Severity\", \"scaled_features_vector\").show(5)\n"
   ]
  },
  {
   "cell_type": "code",
   "execution_count": 24,
   "metadata": {},
   "outputs": [],
   "source": [
    "evaluator = MulticlassClassificationEvaluator(\n",
    "    labelCol=\"Severity\", predictionCol=\"prediction\", metricName=\"accuracy\")\n",
    "accuracy = evaluator.evaluate(predictions)"
   ]
  },
  {
   "cell_type": "code",
   "execution_count": 25,
   "metadata": {},
   "outputs": [
    {
     "data": {
      "text/plain": [
       "0.8563148602871328"
      ]
     },
     "execution_count": 25,
     "metadata": {},
     "output_type": "execute_result"
    }
   ],
   "source": [
    "accuracy"
   ]
  },
  {
   "cell_type": "code",
   "execution_count": 26,
   "metadata": {},
   "outputs": [],
   "source": [
    "evaluator = MulticlassClassificationEvaluator(\n",
    "    labelCol=\"Severity\", predictionCol=\"prediction\", metricName=\"f1\")\n",
    "f1_score = evaluator.evaluate(predictions)"
   ]
  },
  {
   "cell_type": "code",
   "execution_count": 27,
   "metadata": {},
   "outputs": [
    {
     "data": {
      "text/plain": [
       "0.8548318553467797"
      ]
     },
     "execution_count": 27,
     "metadata": {},
     "output_type": "execute_result"
    }
   ],
   "source": [
    "f1_score"
   ]
  },
  {
   "cell_type": "code",
   "execution_count": 28,
   "metadata": {},
   "outputs": [],
   "source": [
    "evaluator = MulticlassClassificationEvaluator(\n",
    "    labelCol=\"Severity\", predictionCol=\"prediction\", metricName=\"weightedPrecision\")\n",
    "Precision = evaluator.evaluate(predictions)"
   ]
  },
  {
   "cell_type": "code",
   "execution_count": 29,
   "metadata": {},
   "outputs": [
    {
     "data": {
      "text/plain": [
       "0.85389708857649"
      ]
     },
     "execution_count": 29,
     "metadata": {},
     "output_type": "execute_result"
    }
   ],
   "source": [
    "Precision"
   ]
  },
  {
   "cell_type": "code",
   "execution_count": 30,
   "metadata": {},
   "outputs": [],
   "source": [
    "evaluator = MulticlassClassificationEvaluator(\n",
    "    labelCol=\"Severity\", predictionCol=\"prediction\", metricName=\"weightedRecall\")\n",
    "Recall = evaluator.evaluate(predictions)"
   ]
  },
  {
   "cell_type": "code",
   "execution_count": 31,
   "metadata": {},
   "outputs": [
    {
     "data": {
      "text/plain": [
       "0.8563148602871328"
      ]
     },
     "execution_count": 31,
     "metadata": {},
     "output_type": "execute_result"
    }
   ],
   "source": [
    "Recall"
   ]
  }
 ],
 "metadata": {
  "kernelspec": {
   "display_name": "Python 3",
   "language": "python",
   "name": "python3"
  },
  "language_info": {
   "codemirror_mode": {
    "name": "ipython",
    "version": 3
   },
   "file_extension": ".py",
   "mimetype": "text/x-python",
   "name": "python",
   "nbconvert_exporter": "python",
   "pygments_lexer": "ipython3",
   "version": "3.6.8"
  }
 },
 "nbformat": 4,
 "nbformat_minor": 4
}
