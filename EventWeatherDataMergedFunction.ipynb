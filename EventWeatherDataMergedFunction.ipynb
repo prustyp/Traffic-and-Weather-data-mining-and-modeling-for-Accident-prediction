{
 "cells": [
  {
   "cell_type": "markdown",
   "metadata": {},
   "source": [
    "# Imports"
   ]
  },
  {
   "cell_type": "code",
   "execution_count": 1,
   "metadata": {},
   "outputs": [],
   "source": [
    "import pandas as pd \n",
    "from pyspark import SparkContext\n",
    "from pyspark import SparkConf\n",
    "import pyspark\n",
    "from pyspark import SparkConf, SparkContext \n",
    "sc = SparkContext.getOrCreate()\n",
    "from pyspark.sql import SQLContext\n",
    "sqlContext = SQLContext(sc)\n",
    "from pyspark.sql.session import SparkSession\n",
    "spark = SparkSession(sc)\n",
    "from pyspark.sql.functions import *\n",
    "from pyspark.sql.functions import to_date\n",
    "\n",
    "\n"
   ]
  },
  {
   "cell_type": "markdown",
   "metadata": {},
   "source": [
    "# Load Data"
   ]
  },
  {
   "cell_type": "code",
   "execution_count": 2,
   "metadata": {},
   "outputs": [],
   "source": [
    "df_traffic = spark.read.parquet(\"/Users/pprusty05/workspace/Data_mining/Project/data_folder/traffic_weather_data/Traffic.parquet\")"
   ]
  },
  {
   "cell_type": "code",
   "execution_count": 3,
   "metadata": {},
   "outputs": [
    {
     "name": "stdout",
     "output_type": "stream",
     "text": [
      "root\n",
      " |-- EventId: string (nullable = true)\n",
      " |-- Type: string (nullable = true)\n",
      " |-- Severity: string (nullable = true)\n",
      " |-- TMC: integer (nullable = true)\n",
      " |-- Description: string (nullable = true)\n",
      " |-- StartTime: timestamp (nullable = true)\n",
      " |-- EndTime: timestamp (nullable = true)\n",
      " |-- TimeZone: string (nullable = true)\n",
      " |-- LocationLat: double (nullable = true)\n",
      " |-- LocationLng: double (nullable = true)\n",
      " |-- Distance: double (nullable = true)\n",
      " |-- AirportCode: string (nullable = true)\n",
      " |-- Number: integer (nullable = true)\n",
      " |-- Street: string (nullable = true)\n",
      " |-- Side: string (nullable = true)\n",
      " |-- City: string (nullable = true)\n",
      " |-- County: string (nullable = true)\n",
      " |-- State: string (nullable = true)\n",
      " |-- ZipCode: integer (nullable = true)\n",
      "\n"
     ]
    }
   ],
   "source": [
    "df_traffic.printSchema()"
   ]
  },
  {
   "cell_type": "code",
   "execution_count": 4,
   "metadata": {},
   "outputs": [
    {
     "name": "stdout",
     "output_type": "stream",
     "text": [
      "+--------------+--------+\n",
      "|          Type|   count|\n",
      "+--------------+--------+\n",
      "|         Event|   44870|\n",
      "|Broken-Vehicle|  518269|\n",
      "|  Lane-Blocked|  400565|\n",
      "|  Construction|  514021|\n",
      "|    Congestion|20294005|\n",
      "| Flow-Incident| 1179094|\n",
      "|      Accident| 2168224|\n",
      "+--------------+--------+\n",
      "\n"
     ]
    }
   ],
   "source": [
    "df_traffic.groupBy('Type').count().show()"
   ]
  },
  {
   "cell_type": "code",
   "execution_count": 5,
   "metadata": {},
   "outputs": [],
   "source": [
    "df_traffic_type=df_traffic.groupBy('Type').count().toPandas()"
   ]
  },
  {
   "cell_type": "code",
   "execution_count": 7,
   "metadata": {},
   "outputs": [
    {
     "data": {
      "image/png": "[encoded data removed]",
      "text/plain": [
       "<Figure size 432x288 with 1 Axes>"
      ]
     },
     "metadata": {
      "needs_background": "light"
     },
     "output_type": "display_data"
    }
   ],
   "source": [
    "from matplotlib import rcParams\n",
    "import matplotlib.pyplot as plt\n",
    "ax = df_traffic_type.plot(x=\"Type\", y=\"count\", kind=\"bar\")\n",
    "ax.set_xlabel(\"Type\", fontsize=12)\n",
    "ax.set_ylabel(\"Count\", fontsize=12)\n",
    "ax.set_title(\"Traffic Type Count\")\n",
    "rcParams.update({'figure.autolayout': True})\n",
    "plt.rc('xtick', labelsize=12) \n",
    "plt.rc('ytick', labelsize=12) \n",
    "plt.rc('font', family='serif')\n",
    "#plt.xticks(rotation=90)\n",
    "plt.tight_layout()\n",
    "plt.savefig('/Users/pprusty05/google_drive/Data_Mining/Project/plots/Traffic_Type.pdf')\n",
    "plt.show()"
   ]
  },
  {
   "cell_type": "markdown",
   "metadata": {},
   "source": [
    "# Clean Data"
   ]
  },
  {
   "cell_type": "markdown",
   "metadata": {},
   "source": [
    "## Missing Values"
   ]
  },
  {
   "cell_type": "code",
   "execution_count": 8,
   "metadata": {},
   "outputs": [],
   "source": [
    "def find_missing_values(df):\n",
    "    missing_value_dict = {}\n",
    "    for column_name in df.columns:\n",
    "        missing_value_count = df.where(df[column_name].isNull()).count()\n",
    "        missing_value_percent = (missing_value_count / df.count()) * 100\n",
    "        missing_value_dict[column_name] = {}\n",
    "        missing_value_dict[column_name]['count'] =  missing_value_count\n",
    "        missing_value_dict[column_name]['percent'] =  missing_value_percent\n",
    "\n",
    "    missing_value_pd = pd.DataFrame(missing_value_dict).T\n",
    "    return missing_value_pd "
   ]
  },
  {
   "cell_type": "code",
   "execution_count": 9,
   "metadata": {},
   "outputs": [],
   "source": [
    "missing_value_traffic_pd=find_missing_values(df_traffic)"
   ]
  },
  {
   "cell_type": "code",
   "execution_count": 10,
   "metadata": {},
   "outputs": [
    {
     "data": {
      "text/html": [
       "<div>\n",
       "<style scoped>\n",
       "    .dataframe tbody tr th:only-of-type {\n",
       "        vertical-align: middle;\n",
       "    }\n",
       "\n",
       "    .dataframe tbody tr th {\n",
       "        vertical-align: top;\n",
       "    }\n",
       "\n",
       "    .dataframe thead th {\n",
       "        text-align: right;\n",
       "    }\n",
       "</style>\n",
       "<table border=\"1\" class=\"dataframe\">\n",
       "  <thead>\n",
       "    <tr style=\"text-align: right;\">\n",
       "      <th></th>\n",
       "      <th>count</th>\n",
       "      <th>percent</th>\n",
       "    </tr>\n",
       "  </thead>\n",
       "  <tbody>\n",
       "    <tr>\n",
       "      <td>EventId</td>\n",
       "      <td>0.0</td>\n",
       "      <td>0.000000</td>\n",
       "    </tr>\n",
       "    <tr>\n",
       "      <td>Type</td>\n",
       "      <td>0.0</td>\n",
       "      <td>0.000000</td>\n",
       "    </tr>\n",
       "    <tr>\n",
       "      <td>Severity</td>\n",
       "      <td>4739024.0</td>\n",
       "      <td>18.866256</td>\n",
       "    </tr>\n",
       "    <tr>\n",
       "      <td>TMC</td>\n",
       "      <td>0.0</td>\n",
       "      <td>0.000000</td>\n",
       "    </tr>\n",
       "    <tr>\n",
       "      <td>Description</td>\n",
       "      <td>4.0</td>\n",
       "      <td>0.000016</td>\n",
       "    </tr>\n",
       "    <tr>\n",
       "      <td>StartTime</td>\n",
       "      <td>0.0</td>\n",
       "      <td>0.000000</td>\n",
       "    </tr>\n",
       "    <tr>\n",
       "      <td>EndTime</td>\n",
       "      <td>0.0</td>\n",
       "      <td>0.000000</td>\n",
       "    </tr>\n",
       "    <tr>\n",
       "      <td>TimeZone</td>\n",
       "      <td>26621.0</td>\n",
       "      <td>0.105979</td>\n",
       "    </tr>\n",
       "    <tr>\n",
       "      <td>LocationLat</td>\n",
       "      <td>0.0</td>\n",
       "      <td>0.000000</td>\n",
       "    </tr>\n",
       "    <tr>\n",
       "      <td>LocationLng</td>\n",
       "      <td>0.0</td>\n",
       "      <td>0.000000</td>\n",
       "    </tr>\n",
       "    <tr>\n",
       "      <td>Distance</td>\n",
       "      <td>0.0</td>\n",
       "      <td>0.000000</td>\n",
       "    </tr>\n",
       "    <tr>\n",
       "      <td>AirportCode</td>\n",
       "      <td>45108.0</td>\n",
       "      <td>0.179577</td>\n",
       "    </tr>\n",
       "    <tr>\n",
       "      <td>Number</td>\n",
       "      <td>14818638.0</td>\n",
       "      <td>58.993629</td>\n",
       "    </tr>\n",
       "    <tr>\n",
       "      <td>Street</td>\n",
       "      <td>11.0</td>\n",
       "      <td>0.000044</td>\n",
       "    </tr>\n",
       "    <tr>\n",
       "      <td>Side</td>\n",
       "      <td>0.0</td>\n",
       "      <td>0.000000</td>\n",
       "    </tr>\n",
       "    <tr>\n",
       "      <td>City</td>\n",
       "      <td>714.0</td>\n",
       "      <td>0.002842</td>\n",
       "    </tr>\n",
       "    <tr>\n",
       "      <td>County</td>\n",
       "      <td>0.0</td>\n",
       "      <td>0.000000</td>\n",
       "    </tr>\n",
       "    <tr>\n",
       "      <td>State</td>\n",
       "      <td>1.0</td>\n",
       "      <td>0.000004</td>\n",
       "    </tr>\n",
       "    <tr>\n",
       "      <td>ZipCode</td>\n",
       "      <td>20263.0</td>\n",
       "      <td>0.080668</td>\n",
       "    </tr>\n",
       "  </tbody>\n",
       "</table>\n",
       "</div>"
      ],
      "text/plain": [
       "                  count    percent\n",
       "EventId             0.0   0.000000\n",
       "Type                0.0   0.000000\n",
       "Severity      4739024.0  18.866256\n",
       "TMC                 0.0   0.000000\n",
       "Description         4.0   0.000016\n",
       "StartTime           0.0   0.000000\n",
       "EndTime             0.0   0.000000\n",
       "TimeZone        26621.0   0.105979\n",
       "LocationLat         0.0   0.000000\n",
       "LocationLng         0.0   0.000000\n",
       "Distance            0.0   0.000000\n",
       "AirportCode     45108.0   0.179577\n",
       "Number       14818638.0  58.993629\n",
       "Street             11.0   0.000044\n",
       "Side                0.0   0.000000\n",
       "City              714.0   0.002842\n",
       "County              0.0   0.000000\n",
       "State               1.0   0.000004\n",
       "ZipCode         20263.0   0.080668"
      ]
     },
     "execution_count": 10,
     "metadata": {},
     "output_type": "execute_result"
    }
   ],
   "source": [
    "missing_value_traffic_pd"
   ]
  },
  {
   "cell_type": "code",
   "execution_count": 11,
   "metadata": {},
   "outputs": [
    {
     "data": {
      "text/plain": [
       "19650384.0"
      ]
     },
     "execution_count": 11,
     "metadata": {},
     "output_type": "execute_result"
    }
   ],
   "source": [
    "missing_value_traffic_pd['count'].sum()"
   ]
  },
  {
   "cell_type": "markdown",
   "metadata": {},
   "source": [
    "## Drop columns"
   ]
  },
  {
   "cell_type": "code",
   "execution_count": 12,
   "metadata": {},
   "outputs": [],
   "source": [
    "# Drop the description, timezone, airport cdoe\n",
    "df_traffic = df_traffic.drop('Description')\n",
    "df_traffic = df_traffic.drop('Number')\n",
    "df_traffic = df_traffic.drop('TimeZone')"
   ]
  },
  {
   "cell_type": "code",
   "execution_count": 13,
   "metadata": {},
   "outputs": [],
   "source": [
    "#Drop rows with null at Airport Code, City, State, Zipcode, street\n",
    "df_traffic = df_traffic.filter(df_traffic.AirportCode.isNotNull())\n",
    "df_traffic = df_traffic.filter(df_traffic.City.isNotNull())\n",
    "df_traffic = df_traffic.filter(df_traffic.State.isNotNull())\n",
    "df_traffic = df_traffic.filter(df_traffic.ZipCode.isNotNull())\n",
    "df_traffic = df_traffic.filter(df_traffic.Street.isNotNull())\n",
    "\n"
   ]
  },
  {
   "cell_type": "code",
   "execution_count": 14,
   "metadata": {},
   "outputs": [
    {
     "data": {
      "text/html": [
       "<div>\n",
       "<style scoped>\n",
       "    .dataframe tbody tr th:only-of-type {\n",
       "        vertical-align: middle;\n",
       "    }\n",
       "\n",
       "    .dataframe tbody tr th {\n",
       "        vertical-align: top;\n",
       "    }\n",
       "\n",
       "    .dataframe thead th {\n",
       "        text-align: right;\n",
       "    }\n",
       "</style>\n",
       "<table border=\"1\" class=\"dataframe\">\n",
       "  <thead>\n",
       "    <tr style=\"text-align: right;\">\n",
       "      <th></th>\n",
       "      <th>count</th>\n",
       "      <th>percent</th>\n",
       "    </tr>\n",
       "  </thead>\n",
       "  <tbody>\n",
       "    <tr>\n",
       "      <td>EventId</td>\n",
       "      <td>0.0</td>\n",
       "      <td>0.000000</td>\n",
       "    </tr>\n",
       "    <tr>\n",
       "      <td>Type</td>\n",
       "      <td>0.0</td>\n",
       "      <td>0.000000</td>\n",
       "    </tr>\n",
       "    <tr>\n",
       "      <td>Severity</td>\n",
       "      <td>4730955.0</td>\n",
       "      <td>18.868222</td>\n",
       "    </tr>\n",
       "    <tr>\n",
       "      <td>TMC</td>\n",
       "      <td>0.0</td>\n",
       "      <td>0.000000</td>\n",
       "    </tr>\n",
       "    <tr>\n",
       "      <td>StartTime</td>\n",
       "      <td>0.0</td>\n",
       "      <td>0.000000</td>\n",
       "    </tr>\n",
       "    <tr>\n",
       "      <td>EndTime</td>\n",
       "      <td>0.0</td>\n",
       "      <td>0.000000</td>\n",
       "    </tr>\n",
       "    <tr>\n",
       "      <td>LocationLat</td>\n",
       "      <td>0.0</td>\n",
       "      <td>0.000000</td>\n",
       "    </tr>\n",
       "    <tr>\n",
       "      <td>LocationLng</td>\n",
       "      <td>0.0</td>\n",
       "      <td>0.000000</td>\n",
       "    </tr>\n",
       "    <tr>\n",
       "      <td>Distance</td>\n",
       "      <td>0.0</td>\n",
       "      <td>0.000000</td>\n",
       "    </tr>\n",
       "    <tr>\n",
       "      <td>AirportCode</td>\n",
       "      <td>0.0</td>\n",
       "      <td>0.000000</td>\n",
       "    </tr>\n",
       "    <tr>\n",
       "      <td>Street</td>\n",
       "      <td>0.0</td>\n",
       "      <td>0.000000</td>\n",
       "    </tr>\n",
       "    <tr>\n",
       "      <td>Side</td>\n",
       "      <td>0.0</td>\n",
       "      <td>0.000000</td>\n",
       "    </tr>\n",
       "    <tr>\n",
       "      <td>City</td>\n",
       "      <td>0.0</td>\n",
       "      <td>0.000000</td>\n",
       "    </tr>\n",
       "    <tr>\n",
       "      <td>County</td>\n",
       "      <td>0.0</td>\n",
       "      <td>0.000000</td>\n",
       "    </tr>\n",
       "    <tr>\n",
       "      <td>State</td>\n",
       "      <td>0.0</td>\n",
       "      <td>0.000000</td>\n",
       "    </tr>\n",
       "    <tr>\n",
       "      <td>ZipCode</td>\n",
       "      <td>0.0</td>\n",
       "      <td>0.000000</td>\n",
       "    </tr>\n",
       "  </tbody>\n",
       "</table>\n",
       "</div>"
      ],
      "text/plain": [
       "                 count    percent\n",
       "EventId            0.0   0.000000\n",
       "Type               0.0   0.000000\n",
       "Severity     4730955.0  18.868222\n",
       "TMC                0.0   0.000000\n",
       "StartTime          0.0   0.000000\n",
       "EndTime            0.0   0.000000\n",
       "LocationLat        0.0   0.000000\n",
       "LocationLng        0.0   0.000000\n",
       "Distance           0.0   0.000000\n",
       "AirportCode        0.0   0.000000\n",
       "Street             0.0   0.000000\n",
       "Side               0.0   0.000000\n",
       "City               0.0   0.000000\n",
       "County             0.0   0.000000\n",
       "State              0.0   0.000000\n",
       "ZipCode            0.0   0.000000"
      ]
     },
     "execution_count": 14,
     "metadata": {},
     "output_type": "execute_result"
    }
   ],
   "source": [
    "missing_value_traffic_pd=find_missing_values(df_traffic)\n",
    "\n",
    "missing_value_traffic_pd\n"
   ]
  },
  {
   "cell_type": "markdown",
   "metadata": {},
   "source": [
    "# Add start date column"
   ]
  },
  {
   "cell_type": "code",
   "execution_count": 15,
   "metadata": {},
   "outputs": [
    {
     "name": "stdout",
     "output_type": "stream",
     "text": [
      "+-------------------+\n",
      "|          StartTime|\n",
      "+-------------------+\n",
      "|2019-09-29 15:49:24|\n",
      "|2019-09-29 15:38:00|\n",
      "|2019-09-29 15:33:00|\n",
      "|2019-09-29 15:48:00|\n",
      "|2019-09-29 15:50:00|\n",
      "|2019-09-29 15:59:00|\n",
      "|2019-09-29 15:47:00|\n",
      "|2019-09-29 14:33:00|\n",
      "|2019-09-29 15:50:00|\n",
      "|2019-09-29 15:52:00|\n",
      "+-------------------+\n",
      "only showing top 10 rows\n",
      "\n",
      "+-------------------+\n",
      "|            EndTime|\n",
      "+-------------------+\n",
      "|2019-09-29 17:19:04|\n",
      "|2019-09-29 17:05:30|\n",
      "|2019-09-29 17:43:34|\n",
      "|2019-09-29 16:33:23|\n",
      "|2019-09-29 16:36:57|\n",
      "|2019-09-29 16:40:14|\n",
      "|2019-09-29 23:26:14|\n",
      "|2019-09-29 17:16:16|\n",
      "|2019-09-29 16:54:57|\n",
      "|2019-09-29 16:34:33|\n",
      "+-------------------+\n",
      "only showing top 10 rows\n",
      "\n"
     ]
    }
   ],
   "source": [
    "df_traffic.select('StartTime').show(10)\n",
    "df_traffic.select('EndTime').show(10)\n",
    "df_traffic = df_traffic.withColumn('StartDate', to_date(df_traffic.StartTime))\n"
   ]
  },
  {
   "cell_type": "code",
   "execution_count": 16,
   "metadata": {},
   "outputs": [
    {
     "name": "stdout",
     "output_type": "stream",
     "text": [
      "+----------+\n",
      "| StartDate|\n",
      "+----------+\n",
      "|2019-09-29|\n",
      "|2019-09-29|\n",
      "|2019-09-29|\n",
      "|2019-09-29|\n",
      "|2019-09-29|\n",
      "|2019-09-29|\n",
      "|2019-09-29|\n",
      "|2019-09-29|\n",
      "|2019-09-29|\n",
      "|2019-09-29|\n",
      "+----------+\n",
      "only showing top 10 rows\n",
      "\n"
     ]
    }
   ],
   "source": [
    "df_traffic.select('StartDate').show(10)\n",
    "df_traffic = df_traffic.withColumn('EndDate', to_date(df_traffic.EndTime))"
   ]
  },
  {
   "cell_type": "code",
   "execution_count": 17,
   "metadata": {},
   "outputs": [
    {
     "name": "stdout",
     "output_type": "stream",
     "text": [
      "root\n",
      " |-- EventId: string (nullable = true)\n",
      " |-- Type: string (nullable = true)\n",
      " |-- Severity: string (nullable = true)\n",
      " |-- TMC: integer (nullable = true)\n",
      " |-- StartTime: timestamp (nullable = true)\n",
      " |-- EndTime: timestamp (nullable = true)\n",
      " |-- LocationLat: double (nullable = true)\n",
      " |-- LocationLng: double (nullable = true)\n",
      " |-- Distance: double (nullable = true)\n",
      " |-- AirportCode: string (nullable = true)\n",
      " |-- Street: string (nullable = true)\n",
      " |-- Side: string (nullable = true)\n",
      " |-- City: string (nullable = true)\n",
      " |-- County: string (nullable = true)\n",
      " |-- State: string (nullable = true)\n",
      " |-- ZipCode: integer (nullable = true)\n",
      " |-- StartDate: date (nullable = true)\n",
      " |-- EndDate: date (nullable = true)\n",
      "\n"
     ]
    }
   ],
   "source": [
    "df_traffic.printSchema()"
   ]
  },
  {
   "cell_type": "code",
   "execution_count": null,
   "metadata": {},
   "outputs": [],
   "source": [
    "#We will take care of the severity later\n",
    "#Write\n",
    "df_traffic.write.parquet(\"/Users/pprusty05/workspace/Data_mining/Project/Traffic_cleaned.parquet\")\n",
    "#df_traffic = spark.read.parquet(\"/Users/pprusty05/workspace/Data_mining/Project/Traffic.parquet\")"
   ]
  },
  {
   "cell_type": "markdown",
   "metadata": {},
   "source": [
    "## Read df_traffic"
   ]
  },
  {
   "cell_type": "code",
   "execution_count": 18,
   "metadata": {},
   "outputs": [],
   "source": [
    "df_traffic = spark.read.parquet(\"/Users/pprusty05/workspace/Data_mining/Project/data_folder/traffic_weather_data/Traffic_cleaned.parquet\")"
   ]
  },
  {
   "cell_type": "markdown",
   "metadata": {},
   "source": [
    "## Weather data Saving in Parquet"
   ]
  },
  {
   "cell_type": "code",
   "execution_count": 19,
   "metadata": {},
   "outputs": [],
   "source": [
    "#df.withColumnRenamed('StartTime(UTC)', 'StartTime').withColumnRenamed('EndTime(UTC)', 'EndTime').write.parquet(\"/Users/pprusty05/workspace/Data_mining/Project/WeatherRaw.parquet\")"
   ]
  },
  {
   "cell_type": "code",
   "execution_count": 20,
   "metadata": {},
   "outputs": [],
   "source": [
    "df_weather = spark.read.parquet(\"/Users/pprusty05/workspace/Data_mining/Project/data_folder/traffic_weather_data/WeatherRaw.parquet\")"
   ]
  },
  {
   "cell_type": "code",
   "execution_count": 21,
   "metadata": {},
   "outputs": [
    {
     "data": {
      "text/plain": [
       "['EventId',\n",
       " 'Type',\n",
       " 'Severity',\n",
       " 'StartTime',\n",
       " 'EndTime',\n",
       " 'TimeZone',\n",
       " 'LocationLat',\n",
       " 'LocationLng',\n",
       " 'AirportCode',\n",
       " 'City',\n",
       " 'County',\n",
       " 'State',\n",
       " 'ZipCode']"
      ]
     },
     "execution_count": 21,
     "metadata": {},
     "output_type": "execute_result"
    }
   ],
   "source": [
    "df_weather.columns"
   ]
  },
  {
   "cell_type": "markdown",
   "metadata": {},
   "source": [
    "# Clean Data"
   ]
  },
  {
   "cell_type": "markdown",
   "metadata": {},
   "source": [
    "## missing values"
   ]
  },
  {
   "cell_type": "code",
   "execution_count": 22,
   "metadata": {},
   "outputs": [],
   "source": [
    "missing_value_weather_pd=find_missing_values(df_weather)"
   ]
  },
  {
   "cell_type": "code",
   "execution_count": 23,
   "metadata": {},
   "outputs": [
    {
     "data": {
      "text/plain": [
       "41866.0"
      ]
     },
     "execution_count": 23,
     "metadata": {},
     "output_type": "execute_result"
    }
   ],
   "source": [
    "missing_value_weather_pd['count'].sum()"
   ]
  },
  {
   "cell_type": "markdown",
   "metadata": {},
   "source": [
    "## remove null rows"
   ]
  },
  {
   "cell_type": "code",
   "execution_count": 24,
   "metadata": {},
   "outputs": [],
   "source": [
    "df_weather = df_weather.filter(df_weather.City.isNotNull())\n",
    "df_weather = df_weather.filter(df_weather.ZipCode.isNotNull())"
   ]
  },
  {
   "cell_type": "code",
   "execution_count": 25,
   "metadata": {},
   "outputs": [
    {
     "data": {
      "text/html": [
       "<div>\n",
       "<style scoped>\n",
       "    .dataframe tbody tr th:only-of-type {\n",
       "        vertical-align: middle;\n",
       "    }\n",
       "\n",
       "    .dataframe tbody tr th {\n",
       "        vertical-align: top;\n",
       "    }\n",
       "\n",
       "    .dataframe thead th {\n",
       "        text-align: right;\n",
       "    }\n",
       "</style>\n",
       "<table border=\"1\" class=\"dataframe\">\n",
       "  <thead>\n",
       "    <tr style=\"text-align: right;\">\n",
       "      <th></th>\n",
       "      <th>count</th>\n",
       "      <th>percent</th>\n",
       "    </tr>\n",
       "  </thead>\n",
       "  <tbody>\n",
       "    <tr>\n",
       "      <td>EventId</td>\n",
       "      <td>0.0</td>\n",
       "      <td>0.0</td>\n",
       "    </tr>\n",
       "    <tr>\n",
       "      <td>Type</td>\n",
       "      <td>0.0</td>\n",
       "      <td>0.0</td>\n",
       "    </tr>\n",
       "    <tr>\n",
       "      <td>Severity</td>\n",
       "      <td>0.0</td>\n",
       "      <td>0.0</td>\n",
       "    </tr>\n",
       "    <tr>\n",
       "      <td>StartTime</td>\n",
       "      <td>0.0</td>\n",
       "      <td>0.0</td>\n",
       "    </tr>\n",
       "    <tr>\n",
       "      <td>EndTime</td>\n",
       "      <td>0.0</td>\n",
       "      <td>0.0</td>\n",
       "    </tr>\n",
       "    <tr>\n",
       "      <td>TimeZone</td>\n",
       "      <td>0.0</td>\n",
       "      <td>0.0</td>\n",
       "    </tr>\n",
       "    <tr>\n",
       "      <td>LocationLat</td>\n",
       "      <td>0.0</td>\n",
       "      <td>0.0</td>\n",
       "    </tr>\n",
       "    <tr>\n",
       "      <td>LocationLng</td>\n",
       "      <td>0.0</td>\n",
       "      <td>0.0</td>\n",
       "    </tr>\n",
       "    <tr>\n",
       "      <td>AirportCode</td>\n",
       "      <td>0.0</td>\n",
       "      <td>0.0</td>\n",
       "    </tr>\n",
       "    <tr>\n",
       "      <td>City</td>\n",
       "      <td>0.0</td>\n",
       "      <td>0.0</td>\n",
       "    </tr>\n",
       "    <tr>\n",
       "      <td>County</td>\n",
       "      <td>0.0</td>\n",
       "      <td>0.0</td>\n",
       "    </tr>\n",
       "    <tr>\n",
       "      <td>State</td>\n",
       "      <td>0.0</td>\n",
       "      <td>0.0</td>\n",
       "    </tr>\n",
       "    <tr>\n",
       "      <td>ZipCode</td>\n",
       "      <td>0.0</td>\n",
       "      <td>0.0</td>\n",
       "    </tr>\n",
       "  </tbody>\n",
       "</table>\n",
       "</div>"
      ],
      "text/plain": [
       "             count  percent\n",
       "EventId        0.0      0.0\n",
       "Type           0.0      0.0\n",
       "Severity       0.0      0.0\n",
       "StartTime      0.0      0.0\n",
       "EndTime        0.0      0.0\n",
       "TimeZone       0.0      0.0\n",
       "LocationLat    0.0      0.0\n",
       "LocationLng    0.0      0.0\n",
       "AirportCode    0.0      0.0\n",
       "City           0.0      0.0\n",
       "County         0.0      0.0\n",
       "State          0.0      0.0\n",
       "ZipCode        0.0      0.0"
      ]
     },
     "execution_count": 25,
     "metadata": {},
     "output_type": "execute_result"
    }
   ],
   "source": [
    "missing_value_weather_pd=find_missing_values(df_weather)\n",
    "missing_value_weather_pd"
   ]
  },
  {
   "cell_type": "markdown",
   "metadata": {},
   "source": [
    "# Add start date column"
   ]
  },
  {
   "cell_type": "code",
   "execution_count": 26,
   "metadata": {},
   "outputs": [
    {
     "name": "stdout",
     "output_type": "stream",
     "text": [
      "+-------------------+\n",
      "|          StartTime|\n",
      "+-------------------+\n",
      "|2019-07-07 07:08:00|\n",
      "|2019-07-07 20:56:00|\n",
      "|2019-07-08 17:22:00|\n",
      "|2019-07-08 21:56:00|\n",
      "|2019-07-08 22:06:00|\n",
      "|2019-07-08 22:11:00|\n",
      "|2019-07-09 08:20:00|\n",
      "|2019-07-09 10:09:00|\n",
      "|2019-07-09 10:36:00|\n",
      "|2019-07-09 10:54:00|\n",
      "+-------------------+\n",
      "only showing top 10 rows\n",
      "\n"
     ]
    }
   ],
   "source": [
    "df_weather.select('StartTime').show(10)"
   ]
  },
  {
   "cell_type": "code",
   "execution_count": 27,
   "metadata": {},
   "outputs": [],
   "source": [
    "df_weather = df_weather.withColumn('StartDate', to_date(df_weather.StartTime))\n",
    "df_weather = df_weather.withColumn('EndDate', to_date(df_weather.EndTime))\n"
   ]
  },
  {
   "cell_type": "code",
   "execution_count": 28,
   "metadata": {},
   "outputs": [
    {
     "name": "stdout",
     "output_type": "stream",
     "text": [
      "root\n",
      " |-- EventId: string (nullable = true)\n",
      " |-- Type: string (nullable = true)\n",
      " |-- Severity: string (nullable = true)\n",
      " |-- StartTime: timestamp (nullable = true)\n",
      " |-- EndTime: timestamp (nullable = true)\n",
      " |-- TimeZone: string (nullable = true)\n",
      " |-- LocationLat: double (nullable = true)\n",
      " |-- LocationLng: double (nullable = true)\n",
      " |-- AirportCode: string (nullable = true)\n",
      " |-- City: string (nullable = true)\n",
      " |-- County: string (nullable = true)\n",
      " |-- State: string (nullable = true)\n",
      " |-- ZipCode: integer (nullable = true)\n",
      " |-- StartDate: date (nullable = true)\n",
      " |-- EndDate: date (nullable = true)\n",
      "\n"
     ]
    }
   ],
   "source": [
    "df_weather.printSchema()"
   ]
  },
  {
   "cell_type": "code",
   "execution_count": 63,
   "metadata": {},
   "outputs": [],
   "source": [
    "df_weather.write.parquet(\"/Users/pprusty05/workspace/Data_mining/Project/Weather_cleaned.parquet\")"
   ]
  },
  {
   "cell_type": "markdown",
   "metadata": {},
   "source": [
    "# Read Weather"
   ]
  },
  {
   "cell_type": "code",
   "execution_count": 29,
   "metadata": {},
   "outputs": [],
   "source": [
    "df_weather = spark.read.parquet(\"/Users/pprusty05/workspace/Data_mining/Project/data_folder/traffic_weather_data/Weather_cleaned.parquet\")"
   ]
  },
  {
   "cell_type": "code",
   "execution_count": 30,
   "metadata": {},
   "outputs": [
    {
     "data": {
      "text/plain": [
       "['EventId',\n",
       " 'Type',\n",
       " 'Severity',\n",
       " 'StartTime',\n",
       " 'EndTime',\n",
       " 'TimeZone',\n",
       " 'LocationLat',\n",
       " 'LocationLng',\n",
       " 'AirportCode',\n",
       " 'City',\n",
       " 'County',\n",
       " 'State',\n",
       " 'ZipCode',\n",
       " 'StartDate',\n",
       " 'EndDate']"
      ]
     },
     "execution_count": 30,
     "metadata": {},
     "output_type": "execute_result"
    }
   ],
   "source": [
    "df_weather.columns"
   ]
  },
  {
   "cell_type": "code",
   "execution_count": 31,
   "metadata": {},
   "outputs": [],
   "source": [
    "df_weather_type=df_weather.groupBy('Type').count().toPandas()"
   ]
  },
  {
   "cell_type": "code",
   "execution_count": 32,
   "metadata": {},
   "outputs": [
    {
     "data": {
      "image/png": "[encoded data removed]",
      "text/plain": [
       "<Figure size 432x288 with 1 Axes>"
      ]
     },
     "metadata": {
      "needs_background": "light"
     },
     "output_type": "display_data"
    }
   ],
   "source": [
    "from matplotlib import rcParams\n",
    "import matplotlib.pyplot as plt\n",
    "ax = df_weather_type.plot(x=\"Type\", y=\"count\", kind=\"bar\")\n",
    "ax.set_xlabel(\"Type\", fontsize=12)\n",
    "ax.set_ylabel(\"Count\", fontsize=12)\n",
    "ax.set_title(\"Weather Type Count\")\n",
    "rcParams.update({'figure.autolayout': True})\n",
    "plt.rc('xtick', labelsize=12) \n",
    "plt.rc('ytick', labelsize=12) \n",
    "plt.rc('font', family='serif')\n",
    "plt.tight_layout()\n",
    "plt.savefig('/Users/pprusty05/google_drive/Data_Mining/Project/plots/Weather_Type.pdf')\n",
    "plt.show()"
   ]
  },
  {
   "cell_type": "markdown",
   "metadata": {},
   "source": [
    "# Merge Two dataset"
   ]
  },
  {
   "cell_type": "markdown",
   "metadata": {},
   "source": [
    "## rename traffic data columns"
   ]
  },
  {
   "cell_type": "code",
   "execution_count": 33,
   "metadata": {},
   "outputs": [],
   "source": [
    "column_name = df_traffic.columns\n",
    "for col in column_name:\n",
    "    df_traffic = df_traffic.withColumnRenamed(col, 'TR_' + col)"
   ]
  },
  {
   "cell_type": "code",
   "execution_count": 34,
   "metadata": {},
   "outputs": [
    {
     "name": "stdout",
     "output_type": "stream",
     "text": [
      "root\n",
      " |-- TR_EventId: string (nullable = true)\n",
      " |-- TR_Type: string (nullable = true)\n",
      " |-- TR_Severity: string (nullable = true)\n",
      " |-- TR_TMC: integer (nullable = true)\n",
      " |-- TR_StartTime: timestamp (nullable = true)\n",
      " |-- TR_EndTime: timestamp (nullable = true)\n",
      " |-- TR_LocationLat: double (nullable = true)\n",
      " |-- TR_LocationLng: double (nullable = true)\n",
      " |-- TR_Distance: double (nullable = true)\n",
      " |-- TR_AirportCode: string (nullable = true)\n",
      " |-- TR_Street: string (nullable = true)\n",
      " |-- TR_Side: string (nullable = true)\n",
      " |-- TR_City: string (nullable = true)\n",
      " |-- TR_County: string (nullable = true)\n",
      " |-- TR_State: string (nullable = true)\n",
      " |-- TR_ZipCode: integer (nullable = true)\n",
      " |-- TR_StartDate: date (nullable = true)\n",
      " |-- TR_EndDate: date (nullable = true)\n",
      "\n"
     ]
    }
   ],
   "source": [
    "df_traffic.printSchema()"
   ]
  },
  {
   "cell_type": "markdown",
   "metadata": {},
   "source": [
    "## Rename weather data columns"
   ]
  },
  {
   "cell_type": "code",
   "execution_count": 35,
   "metadata": {},
   "outputs": [],
   "source": [
    "column_name = df_weather.columns\n",
    "for col in column_name:\n",
    "    df_weather = df_weather.withColumnRenamed(col, 'WR_' + col)"
   ]
  },
  {
   "cell_type": "code",
   "execution_count": 36,
   "metadata": {},
   "outputs": [
    {
     "name": "stdout",
     "output_type": "stream",
     "text": [
      "root\n",
      " |-- WR_EventId: string (nullable = true)\n",
      " |-- WR_Type: string (nullable = true)\n",
      " |-- WR_Severity: string (nullable = true)\n",
      " |-- WR_StartTime: timestamp (nullable = true)\n",
      " |-- WR_EndTime: timestamp (nullable = true)\n",
      " |-- WR_TimeZone: string (nullable = true)\n",
      " |-- WR_LocationLat: double (nullable = true)\n",
      " |-- WR_LocationLng: double (nullable = true)\n",
      " |-- WR_AirportCode: string (nullable = true)\n",
      " |-- WR_City: string (nullable = true)\n",
      " |-- WR_County: string (nullable = true)\n",
      " |-- WR_State: string (nullable = true)\n",
      " |-- WR_ZipCode: integer (nullable = true)\n",
      " |-- WR_StartDate: date (nullable = true)\n",
      " |-- WR_EndDate: date (nullable = true)\n",
      "\n"
     ]
    }
   ],
   "source": [
    "df_weather.printSchema()"
   ]
  },
  {
   "cell_type": "markdown",
   "metadata": {},
   "source": [
    "## Inner join based on start date and zipcode"
   ]
  },
  {
   "cell_type": "code",
   "execution_count": 37,
   "metadata": {},
   "outputs": [],
   "source": [
    "inner_join = df_traffic.join(df_weather, (df_traffic.TR_ZipCode == df_weather.WR_ZipCode) &\n",
    "                             (df_traffic.TR_StartDate == df_weather.WR_StartDate))"
   ]
  },
  {
   "cell_type": "code",
   "execution_count": 38,
   "metadata": {},
   "outputs": [
    {
     "name": "stdout",
     "output_type": "stream",
     "text": [
      "root\n",
      " |-- TR_EventId: string (nullable = true)\n",
      " |-- TR_Type: string (nullable = true)\n",
      " |-- TR_Severity: string (nullable = true)\n",
      " |-- TR_TMC: integer (nullable = true)\n",
      " |-- TR_StartTime: timestamp (nullable = true)\n",
      " |-- TR_EndTime: timestamp (nullable = true)\n",
      " |-- TR_LocationLat: double (nullable = true)\n",
      " |-- TR_LocationLng: double (nullable = true)\n",
      " |-- TR_Distance: double (nullable = true)\n",
      " |-- TR_AirportCode: string (nullable = true)\n",
      " |-- TR_Street: string (nullable = true)\n",
      " |-- TR_Side: string (nullable = true)\n",
      " |-- TR_City: string (nullable = true)\n",
      " |-- TR_County: string (nullable = true)\n",
      " |-- TR_State: string (nullable = true)\n",
      " |-- TR_ZipCode: integer (nullable = true)\n",
      " |-- TR_StartDate: date (nullable = true)\n",
      " |-- TR_EndDate: date (nullable = true)\n",
      " |-- WR_EventId: string (nullable = true)\n",
      " |-- WR_Type: string (nullable = true)\n",
      " |-- WR_Severity: string (nullable = true)\n",
      " |-- WR_StartTime: timestamp (nullable = true)\n",
      " |-- WR_EndTime: timestamp (nullable = true)\n",
      " |-- WR_TimeZone: string (nullable = true)\n",
      " |-- WR_LocationLat: double (nullable = true)\n",
      " |-- WR_LocationLng: double (nullable = true)\n",
      " |-- WR_AirportCode: string (nullable = true)\n",
      " |-- WR_City: string (nullable = true)\n",
      " |-- WR_County: string (nullable = true)\n",
      " |-- WR_State: string (nullable = true)\n",
      " |-- WR_ZipCode: integer (nullable = true)\n",
      " |-- WR_StartDate: date (nullable = true)\n",
      " |-- WR_EndDate: date (nullable = true)\n",
      "\n"
     ]
    }
   ],
   "source": [
    "inner_join.printSchema()"
   ]
  },
  {
   "cell_type": "code",
   "execution_count": 39,
   "metadata": {},
   "outputs": [
    {
     "data": {
      "text/html": [
       "<div>\n",
       "<style scoped>\n",
       "    .dataframe tbody tr th:only-of-type {\n",
       "        vertical-align: middle;\n",
       "    }\n",
       "\n",
       "    .dataframe tbody tr th {\n",
       "        vertical-align: top;\n",
       "    }\n",
       "\n",
       "    .dataframe thead th {\n",
       "        text-align: right;\n",
       "    }\n",
       "</style>\n",
       "<table border=\"1\" class=\"dataframe\">\n",
       "  <thead>\n",
       "    <tr style=\"text-align: right;\">\n",
       "      <th></th>\n",
       "      <th>count</th>\n",
       "      <th>percent</th>\n",
       "    </tr>\n",
       "  </thead>\n",
       "  <tbody>\n",
       "    <tr>\n",
       "      <td>TR_EventId</td>\n",
       "      <td>0.0</td>\n",
       "      <td>0.000000</td>\n",
       "    </tr>\n",
       "    <tr>\n",
       "      <td>TR_Type</td>\n",
       "      <td>0.0</td>\n",
       "      <td>0.000000</td>\n",
       "    </tr>\n",
       "    <tr>\n",
       "      <td>TR_Severity</td>\n",
       "      <td>712913.0</td>\n",
       "      <td>12.853749</td>\n",
       "    </tr>\n",
       "    <tr>\n",
       "      <td>TR_TMC</td>\n",
       "      <td>0.0</td>\n",
       "      <td>0.000000</td>\n",
       "    </tr>\n",
       "    <tr>\n",
       "      <td>TR_StartTime</td>\n",
       "      <td>0.0</td>\n",
       "      <td>0.000000</td>\n",
       "    </tr>\n",
       "    <tr>\n",
       "      <td>TR_EndTime</td>\n",
       "      <td>0.0</td>\n",
       "      <td>0.000000</td>\n",
       "    </tr>\n",
       "    <tr>\n",
       "      <td>TR_LocationLat</td>\n",
       "      <td>0.0</td>\n",
       "      <td>0.000000</td>\n",
       "    </tr>\n",
       "    <tr>\n",
       "      <td>TR_LocationLng</td>\n",
       "      <td>0.0</td>\n",
       "      <td>0.000000</td>\n",
       "    </tr>\n",
       "    <tr>\n",
       "      <td>TR_Distance</td>\n",
       "      <td>0.0</td>\n",
       "      <td>0.000000</td>\n",
       "    </tr>\n",
       "    <tr>\n",
       "      <td>TR_AirportCode</td>\n",
       "      <td>0.0</td>\n",
       "      <td>0.000000</td>\n",
       "    </tr>\n",
       "    <tr>\n",
       "      <td>TR_Street</td>\n",
       "      <td>0.0</td>\n",
       "      <td>0.000000</td>\n",
       "    </tr>\n",
       "    <tr>\n",
       "      <td>TR_Side</td>\n",
       "      <td>0.0</td>\n",
       "      <td>0.000000</td>\n",
       "    </tr>\n",
       "    <tr>\n",
       "      <td>TR_City</td>\n",
       "      <td>0.0</td>\n",
       "      <td>0.000000</td>\n",
       "    </tr>\n",
       "    <tr>\n",
       "      <td>TR_County</td>\n",
       "      <td>0.0</td>\n",
       "      <td>0.000000</td>\n",
       "    </tr>\n",
       "    <tr>\n",
       "      <td>TR_State</td>\n",
       "      <td>0.0</td>\n",
       "      <td>0.000000</td>\n",
       "    </tr>\n",
       "    <tr>\n",
       "      <td>TR_ZipCode</td>\n",
       "      <td>0.0</td>\n",
       "      <td>0.000000</td>\n",
       "    </tr>\n",
       "    <tr>\n",
       "      <td>TR_StartDate</td>\n",
       "      <td>0.0</td>\n",
       "      <td>0.000000</td>\n",
       "    </tr>\n",
       "    <tr>\n",
       "      <td>TR_EndDate</td>\n",
       "      <td>0.0</td>\n",
       "      <td>0.000000</td>\n",
       "    </tr>\n",
       "    <tr>\n",
       "      <td>WR_EventId</td>\n",
       "      <td>0.0</td>\n",
       "      <td>0.000000</td>\n",
       "    </tr>\n",
       "    <tr>\n",
       "      <td>WR_Type</td>\n",
       "      <td>0.0</td>\n",
       "      <td>0.000000</td>\n",
       "    </tr>\n",
       "    <tr>\n",
       "      <td>WR_Severity</td>\n",
       "      <td>0.0</td>\n",
       "      <td>0.000000</td>\n",
       "    </tr>\n",
       "    <tr>\n",
       "      <td>WR_StartTime</td>\n",
       "      <td>0.0</td>\n",
       "      <td>0.000000</td>\n",
       "    </tr>\n",
       "    <tr>\n",
       "      <td>WR_EndTime</td>\n",
       "      <td>0.0</td>\n",
       "      <td>0.000000</td>\n",
       "    </tr>\n",
       "    <tr>\n",
       "      <td>WR_TimeZone</td>\n",
       "      <td>0.0</td>\n",
       "      <td>0.000000</td>\n",
       "    </tr>\n",
       "    <tr>\n",
       "      <td>WR_LocationLat</td>\n",
       "      <td>0.0</td>\n",
       "      <td>0.000000</td>\n",
       "    </tr>\n",
       "    <tr>\n",
       "      <td>WR_LocationLng</td>\n",
       "      <td>0.0</td>\n",
       "      <td>0.000000</td>\n",
       "    </tr>\n",
       "    <tr>\n",
       "      <td>WR_AirportCode</td>\n",
       "      <td>0.0</td>\n",
       "      <td>0.000000</td>\n",
       "    </tr>\n",
       "    <tr>\n",
       "      <td>WR_City</td>\n",
       "      <td>0.0</td>\n",
       "      <td>0.000000</td>\n",
       "    </tr>\n",
       "    <tr>\n",
       "      <td>WR_County</td>\n",
       "      <td>0.0</td>\n",
       "      <td>0.000000</td>\n",
       "    </tr>\n",
       "    <tr>\n",
       "      <td>WR_State</td>\n",
       "      <td>0.0</td>\n",
       "      <td>0.000000</td>\n",
       "    </tr>\n",
       "    <tr>\n",
       "      <td>WR_ZipCode</td>\n",
       "      <td>0.0</td>\n",
       "      <td>0.000000</td>\n",
       "    </tr>\n",
       "    <tr>\n",
       "      <td>WR_StartDate</td>\n",
       "      <td>0.0</td>\n",
       "      <td>0.000000</td>\n",
       "    </tr>\n",
       "    <tr>\n",
       "      <td>WR_EndDate</td>\n",
       "      <td>0.0</td>\n",
       "      <td>0.000000</td>\n",
       "    </tr>\n",
       "  </tbody>\n",
       "</table>\n",
       "</div>"
      ],
      "text/plain": [
       "                   count    percent\n",
       "TR_EventId           0.0   0.000000\n",
       "TR_Type              0.0   0.000000\n",
       "TR_Severity     712913.0  12.853749\n",
       "TR_TMC               0.0   0.000000\n",
       "TR_StartTime         0.0   0.000000\n",
       "TR_EndTime           0.0   0.000000\n",
       "TR_LocationLat       0.0   0.000000\n",
       "TR_LocationLng       0.0   0.000000\n",
       "TR_Distance          0.0   0.000000\n",
       "TR_AirportCode       0.0   0.000000\n",
       "TR_Street            0.0   0.000000\n",
       "TR_Side              0.0   0.000000\n",
       "TR_City              0.0   0.000000\n",
       "TR_County            0.0   0.000000\n",
       "TR_State             0.0   0.000000\n",
       "TR_ZipCode           0.0   0.000000\n",
       "TR_StartDate         0.0   0.000000\n",
       "TR_EndDate           0.0   0.000000\n",
       "WR_EventId           0.0   0.000000\n",
       "WR_Type              0.0   0.000000\n",
       "WR_Severity          0.0   0.000000\n",
       "WR_StartTime         0.0   0.000000\n",
       "WR_EndTime           0.0   0.000000\n",
       "WR_TimeZone          0.0   0.000000\n",
       "WR_LocationLat       0.0   0.000000\n",
       "WR_LocationLng       0.0   0.000000\n",
       "WR_AirportCode       0.0   0.000000\n",
       "WR_City              0.0   0.000000\n",
       "WR_County            0.0   0.000000\n",
       "WR_State             0.0   0.000000\n",
       "WR_ZipCode           0.0   0.000000\n",
       "WR_StartDate         0.0   0.000000\n",
       "WR_EndDate           0.0   0.000000"
      ]
     },
     "execution_count": 39,
     "metadata": {},
     "output_type": "execute_result"
    }
   ],
   "source": [
    "missing_value_weather_pd=find_missing_values(inner_join)\n",
    "missing_value_weather_pd"
   ]
  },
  {
   "cell_type": "code",
   "execution_count": 20,
   "metadata": {},
   "outputs": [],
   "source": [
    "inner_join.write.parquet(\"/Users/pprusty05/workspace/Data_mining/Project/TrafficWeatherMerged.parquet\")"
   ]
  },
  {
   "cell_type": "code",
   "execution_count": 40,
   "metadata": {},
   "outputs": [
    {
     "data": {
      "text/plain": [
       "5546343"
      ]
     },
     "execution_count": 40,
     "metadata": {},
     "output_type": "execute_result"
    }
   ],
   "source": [
    "inner_join.count()"
   ]
  },
  {
   "cell_type": "code",
   "execution_count": 41,
   "metadata": {},
   "outputs": [
    {
     "data": {
      "text/plain": [
       "4328353"
      ]
     },
     "execution_count": 41,
     "metadata": {},
     "output_type": "execute_result"
    }
   ],
   "source": [
    "df_weather.count()"
   ]
  },
  {
   "cell_type": "code",
   "execution_count": 42,
   "metadata": {},
   "outputs": [
    {
     "data": {
      "text/plain": [
       "25073666"
      ]
     },
     "execution_count": 42,
     "metadata": {},
     "output_type": "execute_result"
    }
   ],
   "source": [
    "df_traffic.count()"
   ]
  }
 ],
 "metadata": {
  "kernelspec": {
   "display_name": "Python 3",
   "language": "python",
   "name": "python3"
  },
  "language_info": {
   "codemirror_mode": {
    "name": "ipython",
    "version": 3
   },
   "file_extension": ".py",
   "mimetype": "text/x-python",
   "name": "python",
   "nbconvert_exporter": "python",
   "pygments_lexer": "ipython3",
   "version": "3.6.8"
  }
 },
 "nbformat": 4,
 "nbformat_minor": 4
}
