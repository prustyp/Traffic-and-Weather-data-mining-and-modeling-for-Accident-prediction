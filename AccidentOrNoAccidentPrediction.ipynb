{
 "cells": [
  {
   "cell_type": "markdown",
   "metadata": {},
   "source": [
    "# Imports"
   ]
  },
  {
   "cell_type": "code",
   "execution_count": 1,
   "metadata": {},
   "outputs": [],
   "source": [
    "from pyspark import SparkContext\n",
    "from pyspark import SparkConf\n",
    "#sc = SparkContext()\n",
    "import pyspark\n",
    "from pyspark import SparkConf, SparkContext \n",
    "import pandas as pd \n",
    "from pyspark.ml.feature import StringIndexer\n",
    "from pyspark.sql.functions import *\n",
    "from sklearn.metrics import accuracy_score\n",
    "import matplotlib.pyplot as plt\n",
    "from sklearn.metrics import accuracy_score, f1_score, precision_score, recall_score, classification_report, confusion_matrix"
   ]
  },
  {
   "cell_type": "code",
   "execution_count": 2,
   "metadata": {},
   "outputs": [],
   "source": [
    "spark_conf = SparkConf().set('spark.executor.memory', '6G').set('spark.driver.memory', '6G').set('spark.driver.maxResultSize', '6G')\n",
    "spark_conf = SparkConf().setAppName(\"test\")\n",
    "sc = SparkContext(conf = spark_conf)\n",
    "# sc=SparkContext.getOrCreate()\n",
    "from pyspark.sql import SQLContext\n",
    "sqlContext = SQLContext(sc)\n",
    "from pyspark.sql.session import SparkSession\n",
    "spark = SparkSession(sc)\n"
   ]
  },
  {
   "cell_type": "markdown",
   "metadata": {},
   "source": [
    "# Read traffic weather merged data"
   ]
  },
  {
   "cell_type": "code",
   "execution_count": 3,
   "metadata": {},
   "outputs": [],
   "source": [
    "df_merged_data = spark.read.parquet('/Users/pprusty05/workspace/Data_mining/Project/data_folder/traffic_weather_data/TrafficWeatherMerged.parquet')\n",
    "\n",
    "\n"
   ]
  },
  {
   "cell_type": "code",
   "execution_count": 4,
   "metadata": {},
   "outputs": [
    {
     "name": "stdout",
     "output_type": "stream",
     "text": [
      "root\n",
      " |-- TR_EventId: string (nullable = true)\n",
      " |-- TR_Type: string (nullable = true)\n",
      " |-- TR_Severity: string (nullable = true)\n",
      " |-- TR_TMC: integer (nullable = true)\n",
      " |-- TR_StartTime: timestamp (nullable = true)\n",
      " |-- TR_EndTime: timestamp (nullable = true)\n",
      " |-- TR_LocationLat: double (nullable = true)\n",
      " |-- TR_LocationLng: double (nullable = true)\n",
      " |-- TR_Distance: double (nullable = true)\n",
      " |-- TR_AirportCode: string (nullable = true)\n",
      " |-- TR_Street: string (nullable = true)\n",
      " |-- TR_Side: string (nullable = true)\n",
      " |-- TR_City: string (nullable = true)\n",
      " |-- TR_County: string (nullable = true)\n",
      " |-- TR_State: string (nullable = true)\n",
      " |-- TR_ZipCode: integer (nullable = true)\n",
      " |-- TR_StartDate: date (nullable = true)\n",
      " |-- TR_EndDate: date (nullable = true)\n",
      " |-- WR_EventId: string (nullable = true)\n",
      " |-- WR_Type: string (nullable = true)\n",
      " |-- WR_Severity: string (nullable = true)\n",
      " |-- WR_StartTime: timestamp (nullable = true)\n",
      " |-- WR_EndTime: timestamp (nullable = true)\n",
      " |-- WR_TimeZone: string (nullable = true)\n",
      " |-- WR_LocationLat: double (nullable = true)\n",
      " |-- WR_LocationLng: double (nullable = true)\n",
      " |-- WR_AirportCode: string (nullable = true)\n",
      " |-- WR_City: string (nullable = true)\n",
      " |-- WR_County: string (nullable = true)\n",
      " |-- WR_State: string (nullable = true)\n",
      " |-- WR_ZipCode: integer (nullable = true)\n",
      " |-- WR_StartDate: date (nullable = true)\n",
      " |-- WR_EndDate: date (nullable = true)\n",
      "\n"
     ]
    }
   ],
   "source": [
    "df_merged_data.printSchema()"
   ]
  },
  {
   "cell_type": "code",
   "execution_count": 5,
   "metadata": {},
   "outputs": [
    {
     "data": {
      "text/plain": [
       "5546343"
      ]
     },
     "execution_count": 5,
     "metadata": {},
     "output_type": "execute_result"
    }
   ],
   "source": [
    "df_merged_data.count()"
   ]
  },
  {
   "cell_type": "code",
   "execution_count": 6,
   "metadata": {},
   "outputs": [
    {
     "data": {
      "text/plain": [
       "326850"
      ]
     },
     "execution_count": 6,
     "metadata": {},
     "output_type": "execute_result"
    }
   ],
   "source": [
    "df_merged_data[df_merged_data.TR_Type == 'Accident'].count()"
   ]
  },
  {
   "cell_type": "markdown",
   "metadata": {},
   "source": [
    "# Find missing values"
   ]
  },
  {
   "cell_type": "code",
   "execution_count": 8,
   "metadata": {},
   "outputs": [],
   "source": [
    "def find_missing_values(df):\n",
    "    missing_value_dict = {}\n",
    "    for column_name in df.columns:\n",
    "        missing_value_count = df.where(df[column_name].isNull()).count()\n",
    "        missing_value_percent = (missing_value_count / df.count()) * 100\n",
    "        missing_value_dict[column_name] = {}\n",
    "        missing_value_dict[column_name]['count'] =  missing_value_count\n",
    "        missing_value_dict[column_name]['percent'] =  missing_value_percent\n",
    "\n",
    "    missing_value_pd = pd.DataFrame(missing_value_dict).T\n",
    "    return missing_value_pd "
   ]
  },
  {
   "cell_type": "code",
   "execution_count": 9,
   "metadata": {},
   "outputs": [
    {
     "data": {
      "text/html": [
       "<div>\n",
       "<style scoped>\n",
       "    .dataframe tbody tr th:only-of-type {\n",
       "        vertical-align: middle;\n",
       "    }\n",
       "\n",
       "    .dataframe tbody tr th {\n",
       "        vertical-align: top;\n",
       "    }\n",
       "\n",
       "    .dataframe thead th {\n",
       "        text-align: right;\n",
       "    }\n",
       "</style>\n",
       "<table border=\"1\" class=\"dataframe\">\n",
       "  <thead>\n",
       "    <tr style=\"text-align: right;\">\n",
       "      <th></th>\n",
       "      <th>count</th>\n",
       "      <th>percent</th>\n",
       "    </tr>\n",
       "  </thead>\n",
       "  <tbody>\n",
       "    <tr>\n",
       "      <td>TR_EventId</td>\n",
       "      <td>0.0</td>\n",
       "      <td>0.000000</td>\n",
       "    </tr>\n",
       "    <tr>\n",
       "      <td>TR_Type</td>\n",
       "      <td>0.0</td>\n",
       "      <td>0.000000</td>\n",
       "    </tr>\n",
       "    <tr>\n",
       "      <td>TR_Severity</td>\n",
       "      <td>712913.0</td>\n",
       "      <td>12.853749</td>\n",
       "    </tr>\n",
       "    <tr>\n",
       "      <td>TR_TMC</td>\n",
       "      <td>0.0</td>\n",
       "      <td>0.000000</td>\n",
       "    </tr>\n",
       "    <tr>\n",
       "      <td>TR_StartTime</td>\n",
       "      <td>0.0</td>\n",
       "      <td>0.000000</td>\n",
       "    </tr>\n",
       "    <tr>\n",
       "      <td>TR_EndTime</td>\n",
       "      <td>0.0</td>\n",
       "      <td>0.000000</td>\n",
       "    </tr>\n",
       "    <tr>\n",
       "      <td>TR_LocationLat</td>\n",
       "      <td>0.0</td>\n",
       "      <td>0.000000</td>\n",
       "    </tr>\n",
       "    <tr>\n",
       "      <td>TR_LocationLng</td>\n",
       "      <td>0.0</td>\n",
       "      <td>0.000000</td>\n",
       "    </tr>\n",
       "    <tr>\n",
       "      <td>TR_Distance</td>\n",
       "      <td>0.0</td>\n",
       "      <td>0.000000</td>\n",
       "    </tr>\n",
       "    <tr>\n",
       "      <td>TR_AirportCode</td>\n",
       "      <td>0.0</td>\n",
       "      <td>0.000000</td>\n",
       "    </tr>\n",
       "    <tr>\n",
       "      <td>TR_Street</td>\n",
       "      <td>0.0</td>\n",
       "      <td>0.000000</td>\n",
       "    </tr>\n",
       "    <tr>\n",
       "      <td>TR_Side</td>\n",
       "      <td>0.0</td>\n",
       "      <td>0.000000</td>\n",
       "    </tr>\n",
       "    <tr>\n",
       "      <td>TR_City</td>\n",
       "      <td>0.0</td>\n",
       "      <td>0.000000</td>\n",
       "    </tr>\n",
       "    <tr>\n",
       "      <td>TR_County</td>\n",
       "      <td>0.0</td>\n",
       "      <td>0.000000</td>\n",
       "    </tr>\n",
       "    <tr>\n",
       "      <td>TR_State</td>\n",
       "      <td>0.0</td>\n",
       "      <td>0.000000</td>\n",
       "    </tr>\n",
       "    <tr>\n",
       "      <td>TR_ZipCode</td>\n",
       "      <td>0.0</td>\n",
       "      <td>0.000000</td>\n",
       "    </tr>\n",
       "    <tr>\n",
       "      <td>TR_StartDate</td>\n",
       "      <td>0.0</td>\n",
       "      <td>0.000000</td>\n",
       "    </tr>\n",
       "    <tr>\n",
       "      <td>TR_EndDate</td>\n",
       "      <td>0.0</td>\n",
       "      <td>0.000000</td>\n",
       "    </tr>\n",
       "    <tr>\n",
       "      <td>WR_EventId</td>\n",
       "      <td>0.0</td>\n",
       "      <td>0.000000</td>\n",
       "    </tr>\n",
       "    <tr>\n",
       "      <td>WR_Type</td>\n",
       "      <td>0.0</td>\n",
       "      <td>0.000000</td>\n",
       "    </tr>\n",
       "    <tr>\n",
       "      <td>WR_Severity</td>\n",
       "      <td>0.0</td>\n",
       "      <td>0.000000</td>\n",
       "    </tr>\n",
       "    <tr>\n",
       "      <td>WR_StartTime</td>\n",
       "      <td>0.0</td>\n",
       "      <td>0.000000</td>\n",
       "    </tr>\n",
       "    <tr>\n",
       "      <td>WR_EndTime</td>\n",
       "      <td>0.0</td>\n",
       "      <td>0.000000</td>\n",
       "    </tr>\n",
       "    <tr>\n",
       "      <td>WR_TimeZone</td>\n",
       "      <td>0.0</td>\n",
       "      <td>0.000000</td>\n",
       "    </tr>\n",
       "    <tr>\n",
       "      <td>WR_LocationLat</td>\n",
       "      <td>0.0</td>\n",
       "      <td>0.000000</td>\n",
       "    </tr>\n",
       "    <tr>\n",
       "      <td>WR_LocationLng</td>\n",
       "      <td>0.0</td>\n",
       "      <td>0.000000</td>\n",
       "    </tr>\n",
       "    <tr>\n",
       "      <td>WR_AirportCode</td>\n",
       "      <td>0.0</td>\n",
       "      <td>0.000000</td>\n",
       "    </tr>\n",
       "    <tr>\n",
       "      <td>WR_City</td>\n",
       "      <td>0.0</td>\n",
       "      <td>0.000000</td>\n",
       "    </tr>\n",
       "    <tr>\n",
       "      <td>WR_County</td>\n",
       "      <td>0.0</td>\n",
       "      <td>0.000000</td>\n",
       "    </tr>\n",
       "    <tr>\n",
       "      <td>WR_State</td>\n",
       "      <td>0.0</td>\n",
       "      <td>0.000000</td>\n",
       "    </tr>\n",
       "    <tr>\n",
       "      <td>WR_ZipCode</td>\n",
       "      <td>0.0</td>\n",
       "      <td>0.000000</td>\n",
       "    </tr>\n",
       "    <tr>\n",
       "      <td>WR_StartDate</td>\n",
       "      <td>0.0</td>\n",
       "      <td>0.000000</td>\n",
       "    </tr>\n",
       "    <tr>\n",
       "      <td>WR_EndDate</td>\n",
       "      <td>0.0</td>\n",
       "      <td>0.000000</td>\n",
       "    </tr>\n",
       "  </tbody>\n",
       "</table>\n",
       "</div>"
      ],
      "text/plain": [
       "                   count    percent\n",
       "TR_EventId           0.0   0.000000\n",
       "TR_Type              0.0   0.000000\n",
       "TR_Severity     712913.0  12.853749\n",
       "TR_TMC               0.0   0.000000\n",
       "TR_StartTime         0.0   0.000000\n",
       "TR_EndTime           0.0   0.000000\n",
       "TR_LocationLat       0.0   0.000000\n",
       "TR_LocationLng       0.0   0.000000\n",
       "TR_Distance          0.0   0.000000\n",
       "TR_AirportCode       0.0   0.000000\n",
       "TR_Street            0.0   0.000000\n",
       "TR_Side              0.0   0.000000\n",
       "TR_City              0.0   0.000000\n",
       "TR_County            0.0   0.000000\n",
       "TR_State             0.0   0.000000\n",
       "TR_ZipCode           0.0   0.000000\n",
       "TR_StartDate         0.0   0.000000\n",
       "TR_EndDate           0.0   0.000000\n",
       "WR_EventId           0.0   0.000000\n",
       "WR_Type              0.0   0.000000\n",
       "WR_Severity          0.0   0.000000\n",
       "WR_StartTime         0.0   0.000000\n",
       "WR_EndTime           0.0   0.000000\n",
       "WR_TimeZone          0.0   0.000000\n",
       "WR_LocationLat       0.0   0.000000\n",
       "WR_LocationLng       0.0   0.000000\n",
       "WR_AirportCode       0.0   0.000000\n",
       "WR_City              0.0   0.000000\n",
       "WR_County            0.0   0.000000\n",
       "WR_State             0.0   0.000000\n",
       "WR_ZipCode           0.0   0.000000\n",
       "WR_StartDate         0.0   0.000000\n",
       "WR_EndDate           0.0   0.000000"
      ]
     },
     "execution_count": 9,
     "metadata": {},
     "output_type": "execute_result"
    }
   ],
   "source": [
    "find_missing_values(df_merged_data)"
   ]
  },
  {
   "cell_type": "code",
   "execution_count": 10,
   "metadata": {},
   "outputs": [
    {
     "name": "stdout",
     "output_type": "stream",
     "text": [
      "+--------------+-------+\n",
      "|       TR_Type|  count|\n",
      "+--------------+-------+\n",
      "|         Event|   4944|\n",
      "|Broken-Vehicle|  62853|\n",
      "|  Lane-Blocked|  51661|\n",
      "|  Construction|  72974|\n",
      "|    Congestion|4822216|\n",
      "| Flow-Incident| 204845|\n",
      "|      Accident| 326850|\n",
      "+--------------+-------+\n",
      "\n"
     ]
    }
   ],
   "source": [
    "df_merged_data.groupby('TR_Type').count().show()"
   ]
  },
  {
   "cell_type": "code",
   "execution_count": 11,
   "metadata": {},
   "outputs": [
    {
     "name": "stdout",
     "output_type": "stream",
     "text": [
      "+-------------+-------+\n",
      "|      WR_Type|  count|\n",
      "+-------------+-------+\n",
      "|         Cold| 107622|\n",
      "|          Fog|1225215|\n",
      "|        Storm|  39026|\n",
      "|Precipitation|  76617|\n",
      "|         Hail|   5589|\n",
      "|         Rain|2529071|\n",
      "|         Snow|1563203|\n",
      "+-------------+-------+\n",
      "\n"
     ]
    }
   ],
   "source": [
    "df_merged_data.groupby('WR_Type').count().show()"
   ]
  },
  {
   "cell_type": "code",
   "execution_count": 12,
   "metadata": {},
   "outputs": [
    {
     "name": "stdout",
     "output_type": "stream",
     "text": [
      "+-----------+\n",
      "|WR_Severity|\n",
      "+-----------+\n",
      "|      Light|\n",
      "|   Moderate|\n",
      "|      Light|\n",
      "|     Severe|\n",
      "+-----------+\n",
      "only showing top 4 rows\n",
      "\n"
     ]
    }
   ],
   "source": [
    "df_merged_data.select('WR_Severity').show(4)"
   ]
  },
  {
   "cell_type": "markdown",
   "metadata": {},
   "source": [
    "# Drop columns"
   ]
  },
  {
   "cell_type": "code",
   "execution_count": 13,
   "metadata": {},
   "outputs": [],
   "source": [
    "df_merged_data.columns\n",
    "drop_columns_list = ['TR_EventId', 'TR_TMC', 'TR_LocationLat', 'TR_LocationLng', 'TR_Distance', 'TR_AirportCode',\n",
    "                    'TR_Side', 'TR_County','TR_StartDate','TR_EndDate','TR_EndTime', 'WR_EventId', 'WR_StartTime', 'WR_EndTime', 'WR_TimeZone',\n",
    "                    'WR_LocationLat', 'WR_LocationLng','WR_AirportCode','WR_City','WR_County', 'WR_State', 'WR_ZipCode',\n",
    "                    'WR_StartDate','WR_EndDate','TR_Severity']\n",
    "\n",
    "\n",
    "\n",
    "\n"
   ]
  },
  {
   "cell_type": "code",
   "execution_count": 14,
   "metadata": {},
   "outputs": [],
   "source": [
    "df_truc_cols = df_merged_data\n",
    "for col_names in drop_columns_list:\n",
    "    df_truc_cols = df_truc_cols.drop(col_names)"
   ]
  },
  {
   "cell_type": "code",
   "execution_count": 15,
   "metadata": {},
   "outputs": [
    {
     "name": "stdout",
     "output_type": "stream",
     "text": [
      "root\n",
      " |-- TR_Type: string (nullable = true)\n",
      " |-- TR_StartTime: timestamp (nullable = true)\n",
      " |-- TR_Street: string (nullable = true)\n",
      " |-- TR_City: string (nullable = true)\n",
      " |-- TR_State: string (nullable = true)\n",
      " |-- TR_ZipCode: integer (nullable = true)\n",
      " |-- WR_Type: string (nullable = true)\n",
      " |-- WR_Severity: string (nullable = true)\n",
      "\n"
     ]
    }
   ],
   "source": [
    "df_truc_cols.printSchema()"
   ]
  },
  {
   "cell_type": "code",
   "execution_count": 13,
   "metadata": {},
   "outputs": [],
   "source": [
    "#df_truc_cols = df_truc_cols.filter(df_truc_cols.TR_Severity.isNotNull())"
   ]
  },
  {
   "cell_type": "code",
   "execution_count": 16,
   "metadata": {},
   "outputs": [
    {
     "name": "stdout",
     "output_type": "stream",
     "text": [
      "+--------------+-------+\n",
      "|       TR_Type|  count|\n",
      "+--------------+-------+\n",
      "|         Event|   4944|\n",
      "|Broken-Vehicle|  62853|\n",
      "|  Lane-Blocked|  51661|\n",
      "|  Construction|  72974|\n",
      "|    Congestion|4822216|\n",
      "| Flow-Incident| 204845|\n",
      "|      Accident| 326850|\n",
      "+--------------+-------+\n",
      "\n"
     ]
    }
   ],
   "source": [
    "df_truc_cols.groupby('TR_Type').count().show()"
   ]
  },
  {
   "cell_type": "code",
   "execution_count": 17,
   "metadata": {},
   "outputs": [
    {
     "data": {
      "text/html": [
       "<div>\n",
       "<style scoped>\n",
       "    .dataframe tbody tr th:only-of-type {\n",
       "        vertical-align: middle;\n",
       "    }\n",
       "\n",
       "    .dataframe tbody tr th {\n",
       "        vertical-align: top;\n",
       "    }\n",
       "\n",
       "    .dataframe thead th {\n",
       "        text-align: right;\n",
       "    }\n",
       "</style>\n",
       "<table border=\"1\" class=\"dataframe\">\n",
       "  <thead>\n",
       "    <tr style=\"text-align: right;\">\n",
       "      <th></th>\n",
       "      <th>count</th>\n",
       "      <th>percent</th>\n",
       "    </tr>\n",
       "  </thead>\n",
       "  <tbody>\n",
       "    <tr>\n",
       "      <td>TR_Type</td>\n",
       "      <td>0.0</td>\n",
       "      <td>0.0</td>\n",
       "    </tr>\n",
       "    <tr>\n",
       "      <td>TR_StartTime</td>\n",
       "      <td>0.0</td>\n",
       "      <td>0.0</td>\n",
       "    </tr>\n",
       "    <tr>\n",
       "      <td>TR_Street</td>\n",
       "      <td>0.0</td>\n",
       "      <td>0.0</td>\n",
       "    </tr>\n",
       "    <tr>\n",
       "      <td>TR_City</td>\n",
       "      <td>0.0</td>\n",
       "      <td>0.0</td>\n",
       "    </tr>\n",
       "    <tr>\n",
       "      <td>TR_State</td>\n",
       "      <td>0.0</td>\n",
       "      <td>0.0</td>\n",
       "    </tr>\n",
       "    <tr>\n",
       "      <td>TR_ZipCode</td>\n",
       "      <td>0.0</td>\n",
       "      <td>0.0</td>\n",
       "    </tr>\n",
       "    <tr>\n",
       "      <td>WR_Type</td>\n",
       "      <td>0.0</td>\n",
       "      <td>0.0</td>\n",
       "    </tr>\n",
       "    <tr>\n",
       "      <td>WR_Severity</td>\n",
       "      <td>0.0</td>\n",
       "      <td>0.0</td>\n",
       "    </tr>\n",
       "  </tbody>\n",
       "</table>\n",
       "</div>"
      ],
      "text/plain": [
       "              count  percent\n",
       "TR_Type         0.0      0.0\n",
       "TR_StartTime    0.0      0.0\n",
       "TR_Street       0.0      0.0\n",
       "TR_City         0.0      0.0\n",
       "TR_State        0.0      0.0\n",
       "TR_ZipCode      0.0      0.0\n",
       "WR_Type         0.0      0.0\n",
       "WR_Severity     0.0      0.0"
      ]
     },
     "execution_count": 17,
     "metadata": {},
     "output_type": "execute_result"
    }
   ],
   "source": [
    "find_missing_values(df_truc_cols)"
   ]
  },
  {
   "cell_type": "code",
   "execution_count": 29,
   "metadata": {},
   "outputs": [],
   "source": [
    "df_truc_cols.write.parquet('/Users/pprusty05/workspace/Data_mining/Project/data_folder/traffic_weather_data/TW_NonNull.parquet')\n",
    "\n",
    "\n"
   ]
  },
  {
   "cell_type": "markdown",
   "metadata": {},
   "source": [
    "# Read non null data with ralivant columns"
   ]
  },
  {
   "cell_type": "code",
   "execution_count": 18,
   "metadata": {},
   "outputs": [],
   "source": [
    "df_truc_cols=spark.read.parquet('/Users/pprusty05/workspace/Data_mining/Project/data_folder/traffic_weather_data/TW_NonNull.parquet')\n"
   ]
  },
  {
   "cell_type": "markdown",
   "metadata": {},
   "source": [
    "# Make an accident column =1 if accident 0 otherwise"
   ]
  },
  {
   "cell_type": "code",
   "execution_count": 19,
   "metadata": {},
   "outputs": [],
   "source": [
    "from pyspark.sql import functions as F\n",
    "df_accident=df_truc_cols.withColumn('Accident', F.when((F.col(\"TR_Type\") == 'Accident') , 1) \\\n",
    "    .otherwise(0))"
   ]
  },
  {
   "cell_type": "code",
   "execution_count": 20,
   "metadata": {},
   "outputs": [
    {
     "name": "stdout",
     "output_type": "stream",
     "text": [
      "+--------+-------+\n",
      "|Accident|  count|\n",
      "+--------+-------+\n",
      "|       1| 326850|\n",
      "|       0|5219493|\n",
      "+--------+-------+\n",
      "\n"
     ]
    }
   ],
   "source": [
    "df_accident.groupby('Accident').count().show()"
   ]
  },
  {
   "cell_type": "code",
   "execution_count": 21,
   "metadata": {},
   "outputs": [],
   "source": [
    "df_accident = df_accident.drop('TR_Type')"
   ]
  },
  {
   "cell_type": "code",
   "execution_count": 22,
   "metadata": {},
   "outputs": [
    {
     "name": "stdout",
     "output_type": "stream",
     "text": [
      "root\n",
      " |-- TR_StartTime: timestamp (nullable = true)\n",
      " |-- TR_Street: string (nullable = true)\n",
      " |-- TR_City: string (nullable = true)\n",
      " |-- TR_State: string (nullable = true)\n",
      " |-- TR_ZipCode: integer (nullable = true)\n",
      " |-- WR_Type: string (nullable = true)\n",
      " |-- WR_Severity: string (nullable = true)\n",
      " |-- Accident: integer (nullable = false)\n",
      "\n"
     ]
    }
   ],
   "source": [
    "df_accident.printSchema()"
   ]
  },
  {
   "cell_type": "markdown",
   "metadata": {},
   "source": [
    "# Make hour column "
   ]
  },
  {
   "cell_type": "code",
   "execution_count": 23,
   "metadata": {},
   "outputs": [],
   "source": [
    "\n",
    "df_accident = df_accident.withColumn('Hour', hour(df_accident.TR_StartTime))"
   ]
  },
  {
   "cell_type": "code",
   "execution_count": 24,
   "metadata": {},
   "outputs": [
    {
     "name": "stdout",
     "output_type": "stream",
     "text": [
      "+----+\n",
      "|Hour|\n",
      "+----+\n",
      "|  20|\n",
      "|  20|\n",
      "|  20|\n",
      "|  20|\n",
      "|  21|\n",
      "|  21|\n",
      "|  21|\n",
      "|  21|\n",
      "|  21|\n",
      "|  21|\n",
      "+----+\n",
      "only showing top 10 rows\n",
      "\n"
     ]
    }
   ],
   "source": [
    "df_accident.select('Hour').show(10)"
   ]
  },
  {
   "cell_type": "markdown",
   "metadata": {},
   "source": [
    "# downsample to remove skewness"
   ]
  },
  {
   "cell_type": "code",
   "execution_count": 25,
   "metadata": {},
   "outputs": [],
   "source": [
    "df_acc_downsample=df_accident.sampleBy('Accident', fractions={0: 326850./5219493, 1: 1.0}).cache()"
   ]
  },
  {
   "cell_type": "code",
   "execution_count": 26,
   "metadata": {},
   "outputs": [
    {
     "name": "stdout",
     "output_type": "stream",
     "text": [
      "+--------+------+\n",
      "|Accident| count|\n",
      "+--------+------+\n",
      "|       1|326850|\n",
      "|       0|326642|\n",
      "+--------+------+\n",
      "\n"
     ]
    }
   ],
   "source": [
    "df_acc_downsample.groupby('Accident').count().show()"
   ]
  },
  {
   "cell_type": "code",
   "execution_count": 42,
   "metadata": {},
   "outputs": [],
   "source": [
    "df_acc_downsample.write.parquet('/Users/pprusty05/workspace/Data_mining/Project/data_folder/traffic_weather_data/Accident_downsampled.parquet')\n",
    "\n"
   ]
  },
  {
   "cell_type": "code",
   "execution_count": 27,
   "metadata": {},
   "outputs": [],
   "source": [
    "df_acc_downsample=spark.read.parquet('/Users/pprusty05/workspace/Data_mining/Project/data_folder/traffic_weather_data/Accident_downsampled.parquet')"
   ]
  },
  {
   "cell_type": "markdown",
   "metadata": {},
   "source": []
  },
  {
   "cell_type": "code",
   "execution_count": 72,
   "metadata": {},
   "outputs": [],
   "source": [
    "# def get_data_types(df):\n",
    "#     col_data_type = {}\n",
    "#     for types in df.dtypes:\n",
    "#         col_data_type[types[0]] = types[1]\n",
    "#     return col_data_type\n",
    "\n",
    "\n",
    "# col_data_type = get_data_types(df_acc_downsample)\n",
    "\n"
   ]
  },
  {
   "cell_type": "markdown",
   "metadata": {},
   "source": [
    "# convert to panda df"
   ]
  },
  {
   "cell_type": "code",
   "execution_count": 28,
   "metadata": {},
   "outputs": [],
   "source": [
    "accident_panda_df=df_acc_downsample.toPandas()"
   ]
  },
  {
   "cell_type": "code",
   "execution_count": 29,
   "metadata": {},
   "outputs": [
    {
     "data": {
      "text/html": [
       "<div>\n",
       "<style scoped>\n",
       "    .dataframe tbody tr th:only-of-type {\n",
       "        vertical-align: middle;\n",
       "    }\n",
       "\n",
       "    .dataframe tbody tr th {\n",
       "        vertical-align: top;\n",
       "    }\n",
       "\n",
       "    .dataframe thead th {\n",
       "        text-align: right;\n",
       "    }\n",
       "</style>\n",
       "<table border=\"1\" class=\"dataframe\">\n",
       "  <thead>\n",
       "    <tr style=\"text-align: right;\">\n",
       "      <th></th>\n",
       "      <th>TR_StartTime</th>\n",
       "      <th>TR_Street</th>\n",
       "      <th>TR_City</th>\n",
       "      <th>TR_State</th>\n",
       "      <th>TR_ZipCode</th>\n",
       "      <th>WR_Type</th>\n",
       "      <th>WR_Severity</th>\n",
       "      <th>Accident</th>\n",
       "      <th>Hour</th>\n",
       "    </tr>\n",
       "  </thead>\n",
       "  <tbody>\n",
       "    <tr>\n",
       "      <td>0</td>\n",
       "      <td>2016-09-27 20:08:00</td>\n",
       "      <td>E Main St</td>\n",
       "      <td>Westfield</td>\n",
       "      <td>MA</td>\n",
       "      <td>1085</td>\n",
       "      <td>Rain</td>\n",
       "      <td>Light</td>\n",
       "      <td>0</td>\n",
       "      <td>20</td>\n",
       "    </tr>\n",
       "    <tr>\n",
       "      <td>1</td>\n",
       "      <td>2016-09-27 20:08:00</td>\n",
       "      <td>E Main St</td>\n",
       "      <td>Westfield</td>\n",
       "      <td>MA</td>\n",
       "      <td>1085</td>\n",
       "      <td>Rain</td>\n",
       "      <td>Moderate</td>\n",
       "      <td>0</td>\n",
       "      <td>20</td>\n",
       "    </tr>\n",
       "    <tr>\n",
       "      <td>2</td>\n",
       "      <td>2019-12-10 13:40:00</td>\n",
       "      <td>East St</td>\n",
       "      <td>Pittsfield</td>\n",
       "      <td>MA</td>\n",
       "      <td>1201</td>\n",
       "      <td>Rain</td>\n",
       "      <td>Light</td>\n",
       "      <td>0</td>\n",
       "      <td>13</td>\n",
       "    </tr>\n",
       "    <tr>\n",
       "      <td>3</td>\n",
       "      <td>2019-12-10 20:05:00</td>\n",
       "      <td>East St</td>\n",
       "      <td>Pittsfield</td>\n",
       "      <td>MA</td>\n",
       "      <td>1201</td>\n",
       "      <td>Rain</td>\n",
       "      <td>Light</td>\n",
       "      <td>0</td>\n",
       "      <td>20</td>\n",
       "    </tr>\n",
       "    <tr>\n",
       "      <td>4</td>\n",
       "      <td>2019-12-10 21:54:00</td>\n",
       "      <td>South St</td>\n",
       "      <td>Pittsfield</td>\n",
       "      <td>MA</td>\n",
       "      <td>1201</td>\n",
       "      <td>Snow</td>\n",
       "      <td>Heavy</td>\n",
       "      <td>0</td>\n",
       "      <td>21</td>\n",
       "    </tr>\n",
       "  </tbody>\n",
       "</table>\n",
       "</div>"
      ],
      "text/plain": [
       "         TR_StartTime  TR_Street     TR_City TR_State  TR_ZipCode WR_Type  \\\n",
       "0 2016-09-27 20:08:00  E Main St   Westfield       MA        1085    Rain   \n",
       "1 2016-09-27 20:08:00  E Main St   Westfield       MA        1085    Rain   \n",
       "2 2019-12-10 13:40:00    East St  Pittsfield       MA        1201    Rain   \n",
       "3 2019-12-10 20:05:00    East St  Pittsfield       MA        1201    Rain   \n",
       "4 2019-12-10 21:54:00   South St  Pittsfield       MA        1201    Snow   \n",
       "\n",
       "  WR_Severity  Accident  Hour  \n",
       "0       Light         0    20  \n",
       "1    Moderate         0    20  \n",
       "2       Light         0    13  \n",
       "3       Light         0    20  \n",
       "4       Heavy         0    21  "
      ]
     },
     "execution_count": 29,
     "metadata": {},
     "output_type": "execute_result"
    }
   ],
   "source": [
    "accident_panda_df.head()"
   ]
  },
  {
   "cell_type": "markdown",
   "metadata": {},
   "source": [
    "## drop starttime column"
   ]
  },
  {
   "cell_type": "code",
   "execution_count": 30,
   "metadata": {},
   "outputs": [],
   "source": [
    "accident_panda_df=accident_panda_df.drop(['TR_StartTime'],axis=1)"
   ]
  },
  {
   "cell_type": "code",
   "execution_count": 31,
   "metadata": {},
   "outputs": [
    {
     "data": {
      "text/html": [
       "<div>\n",
       "<style scoped>\n",
       "    .dataframe tbody tr th:only-of-type {\n",
       "        vertical-align: middle;\n",
       "    }\n",
       "\n",
       "    .dataframe tbody tr th {\n",
       "        vertical-align: top;\n",
       "    }\n",
       "\n",
       "    .dataframe thead th {\n",
       "        text-align: right;\n",
       "    }\n",
       "</style>\n",
       "<table border=\"1\" class=\"dataframe\">\n",
       "  <thead>\n",
       "    <tr style=\"text-align: right;\">\n",
       "      <th></th>\n",
       "      <th>TR_Street</th>\n",
       "      <th>TR_City</th>\n",
       "      <th>TR_State</th>\n",
       "      <th>TR_ZipCode</th>\n",
       "      <th>WR_Type</th>\n",
       "      <th>WR_Severity</th>\n",
       "      <th>Accident</th>\n",
       "      <th>Hour</th>\n",
       "    </tr>\n",
       "  </thead>\n",
       "  <tbody>\n",
       "    <tr>\n",
       "      <td>0</td>\n",
       "      <td>E Main St</td>\n",
       "      <td>Westfield</td>\n",
       "      <td>MA</td>\n",
       "      <td>1085</td>\n",
       "      <td>Rain</td>\n",
       "      <td>Light</td>\n",
       "      <td>0</td>\n",
       "      <td>20</td>\n",
       "    </tr>\n",
       "    <tr>\n",
       "      <td>1</td>\n",
       "      <td>E Main St</td>\n",
       "      <td>Westfield</td>\n",
       "      <td>MA</td>\n",
       "      <td>1085</td>\n",
       "      <td>Rain</td>\n",
       "      <td>Moderate</td>\n",
       "      <td>0</td>\n",
       "      <td>20</td>\n",
       "    </tr>\n",
       "    <tr>\n",
       "      <td>2</td>\n",
       "      <td>East St</td>\n",
       "      <td>Pittsfield</td>\n",
       "      <td>MA</td>\n",
       "      <td>1201</td>\n",
       "      <td>Rain</td>\n",
       "      <td>Light</td>\n",
       "      <td>0</td>\n",
       "      <td>13</td>\n",
       "    </tr>\n",
       "    <tr>\n",
       "      <td>3</td>\n",
       "      <td>East St</td>\n",
       "      <td>Pittsfield</td>\n",
       "      <td>MA</td>\n",
       "      <td>1201</td>\n",
       "      <td>Rain</td>\n",
       "      <td>Light</td>\n",
       "      <td>0</td>\n",
       "      <td>20</td>\n",
       "    </tr>\n",
       "    <tr>\n",
       "      <td>4</td>\n",
       "      <td>South St</td>\n",
       "      <td>Pittsfield</td>\n",
       "      <td>MA</td>\n",
       "      <td>1201</td>\n",
       "      <td>Snow</td>\n",
       "      <td>Heavy</td>\n",
       "      <td>0</td>\n",
       "      <td>21</td>\n",
       "    </tr>\n",
       "  </tbody>\n",
       "</table>\n",
       "</div>"
      ],
      "text/plain": [
       "   TR_Street     TR_City TR_State  TR_ZipCode WR_Type WR_Severity  Accident  \\\n",
       "0  E Main St   Westfield       MA        1085    Rain       Light         0   \n",
       "1  E Main St   Westfield       MA        1085    Rain    Moderate         0   \n",
       "2    East St  Pittsfield       MA        1201    Rain       Light         0   \n",
       "3    East St  Pittsfield       MA        1201    Rain       Light         0   \n",
       "4   South St  Pittsfield       MA        1201    Snow       Heavy         0   \n",
       "\n",
       "   Hour  \n",
       "0    20  \n",
       "1    20  \n",
       "2    13  \n",
       "3    20  \n",
       "4    21  "
      ]
     },
     "execution_count": 31,
     "metadata": {},
     "output_type": "execute_result"
    }
   ],
   "source": [
    "accident_panda_df.head()"
   ]
  },
  {
   "cell_type": "code",
   "execution_count": 32,
   "metadata": {},
   "outputs": [
    {
     "data": {
      "text/plain": [
       "24540"
      ]
     },
     "execution_count": 32,
     "metadata": {},
     "output_type": "execute_result"
    }
   ],
   "source": [
    "len(accident_panda_df['TR_Street'].unique())"
   ]
  },
  {
   "cell_type": "code",
   "execution_count": 33,
   "metadata": {},
   "outputs": [
    {
     "data": {
      "text/plain": [
       "1726"
      ]
     },
     "execution_count": 33,
     "metadata": {},
     "output_type": "execute_result"
    }
   ],
   "source": [
    "len(accident_panda_df['TR_City'].unique())"
   ]
  },
  {
   "cell_type": "code",
   "execution_count": 34,
   "metadata": {},
   "outputs": [
    {
     "data": {
      "text/plain": [
       "49"
      ]
     },
     "execution_count": 34,
     "metadata": {},
     "output_type": "execute_result"
    }
   ],
   "source": [
    "len(accident_panda_df['TR_State'].unique())"
   ]
  },
  {
   "cell_type": "code",
   "execution_count": 35,
   "metadata": {},
   "outputs": [
    {
     "data": {
      "text/plain": [
       "7"
      ]
     },
     "execution_count": 35,
     "metadata": {},
     "output_type": "execute_result"
    }
   ],
   "source": [
    "len(accident_panda_df['WR_Type'].unique())"
   ]
  },
  {
   "cell_type": "code",
   "execution_count": 36,
   "metadata": {},
   "outputs": [
    {
     "data": {
      "text/plain": [
       "6"
      ]
     },
     "execution_count": 36,
     "metadata": {},
     "output_type": "execute_result"
    }
   ],
   "source": [
    "len(accident_panda_df['WR_Severity'].unique())"
   ]
  },
  {
   "cell_type": "code",
   "execution_count": 37,
   "metadata": {},
   "outputs": [
    {
     "data": {
      "text/plain": [
       "1908"
      ]
     },
     "execution_count": 37,
     "metadata": {},
     "output_type": "execute_result"
    }
   ],
   "source": [
    "len(accident_panda_df['TR_ZipCode'].unique())"
   ]
  },
  {
   "cell_type": "code",
   "execution_count": 38,
   "metadata": {},
   "outputs": [
    {
     "data": {
      "text/plain": [
       "Index(['TR_Street', 'TR_City', 'TR_State', 'WR_Type', 'WR_Severity'], dtype='object')"
      ]
     },
     "execution_count": 38,
     "metadata": {},
     "output_type": "execute_result"
    }
   ],
   "source": [
    "accident_panda_df.select_dtypes(include=['object', 'category']).columns"
   ]
  },
  {
   "cell_type": "code",
   "execution_count": 39,
   "metadata": {},
   "outputs": [
    {
     "data": {
      "text/plain": [
       "Index(['TR_Street', 'TR_City', 'TR_State', 'TR_ZipCode', 'WR_Type',\n",
       "       'WR_Severity', 'Accident', 'Hour'],\n",
       "      dtype='object')"
      ]
     },
     "execution_count": 39,
     "metadata": {},
     "output_type": "execute_result"
    }
   ],
   "source": [
    "accident_panda_df.columns"
   ]
  },
  {
   "cell_type": "markdown",
   "metadata": {},
   "source": [
    "# convert catagorical to numerical columns"
   ]
  },
  {
   "cell_type": "code",
   "execution_count": 40,
   "metadata": {},
   "outputs": [],
   "source": [
    "from sklearn import preprocessing\n",
    "le = preprocessing.LabelEncoder()\n",
    "df_lable_encoded = accident_panda_df[['TR_Street', 'TR_City', 'TR_State', 'TR_ZipCode']].apply(le.fit_transform)\n"
   ]
  },
  {
   "cell_type": "code",
   "execution_count": 41,
   "metadata": {},
   "outputs": [
    {
     "data": {
      "text/html": [
       "<div>\n",
       "<style scoped>\n",
       "    .dataframe tbody tr th:only-of-type {\n",
       "        vertical-align: middle;\n",
       "    }\n",
       "\n",
       "    .dataframe tbody tr th {\n",
       "        vertical-align: top;\n",
       "    }\n",
       "\n",
       "    .dataframe thead th {\n",
       "        text-align: right;\n",
       "    }\n",
       "</style>\n",
       "<table border=\"1\" class=\"dataframe\">\n",
       "  <thead>\n",
       "    <tr style=\"text-align: right;\">\n",
       "      <th></th>\n",
       "      <th>TR_Street</th>\n",
       "      <th>TR_City</th>\n",
       "      <th>TR_State</th>\n",
       "      <th>TR_ZipCode</th>\n",
       "    </tr>\n",
       "  </thead>\n",
       "  <tbody>\n",
       "    <tr>\n",
       "      <td>0</td>\n",
       "      <td>5791</td>\n",
       "      <td>1670</td>\n",
       "      <td>17</td>\n",
       "      <td>0</td>\n",
       "    </tr>\n",
       "    <tr>\n",
       "      <td>1</td>\n",
       "      <td>5791</td>\n",
       "      <td>1670</td>\n",
       "      <td>17</td>\n",
       "      <td>0</td>\n",
       "    </tr>\n",
       "    <tr>\n",
       "      <td>2</td>\n",
       "      <td>6423</td>\n",
       "      <td>1229</td>\n",
       "      <td>17</td>\n",
       "      <td>1</td>\n",
       "    </tr>\n",
       "    <tr>\n",
       "      <td>3</td>\n",
       "      <td>6423</td>\n",
       "      <td>1229</td>\n",
       "      <td>17</td>\n",
       "      <td>1</td>\n",
       "    </tr>\n",
       "    <tr>\n",
       "      <td>4</td>\n",
       "      <td>19696</td>\n",
       "      <td>1229</td>\n",
       "      <td>17</td>\n",
       "      <td>1</td>\n",
       "    </tr>\n",
       "  </tbody>\n",
       "</table>\n",
       "</div>"
      ],
      "text/plain": [
       "   TR_Street  TR_City  TR_State  TR_ZipCode\n",
       "0       5791     1670        17           0\n",
       "1       5791     1670        17           0\n",
       "2       6423     1229        17           1\n",
       "3       6423     1229        17           1\n",
       "4      19696     1229        17           1"
      ]
     },
     "execution_count": 41,
     "metadata": {},
     "output_type": "execute_result"
    }
   ],
   "source": [
    "df_lable_encoded.head()"
   ]
  },
  {
   "cell_type": "code",
   "execution_count": 42,
   "metadata": {},
   "outputs": [],
   "source": [
    "accident_panda_df['TR_Street'] = le.fit_transform(accident_panda_df['TR_Street'])"
   ]
  },
  {
   "cell_type": "code",
   "execution_count": 43,
   "metadata": {},
   "outputs": [],
   "source": [
    "accident_panda_df['TR_City'] = le.fit_transform(accident_panda_df['TR_City'])"
   ]
  },
  {
   "cell_type": "code",
   "execution_count": 44,
   "metadata": {},
   "outputs": [],
   "source": [
    "accident_panda_df['TR_State'] = le.fit_transform(accident_panda_df['TR_State'])"
   ]
  },
  {
   "cell_type": "code",
   "execution_count": 45,
   "metadata": {},
   "outputs": [],
   "source": [
    "accident_panda_df['TR_ZipCode'] = le.fit_transform(accident_panda_df['TR_ZipCode'])"
   ]
  },
  {
   "cell_type": "code",
   "execution_count": 46,
   "metadata": {},
   "outputs": [
    {
     "data": {
      "text/html": [
       "<div>\n",
       "<style scoped>\n",
       "    .dataframe tbody tr th:only-of-type {\n",
       "        vertical-align: middle;\n",
       "    }\n",
       "\n",
       "    .dataframe tbody tr th {\n",
       "        vertical-align: top;\n",
       "    }\n",
       "\n",
       "    .dataframe thead th {\n",
       "        text-align: right;\n",
       "    }\n",
       "</style>\n",
       "<table border=\"1\" class=\"dataframe\">\n",
       "  <thead>\n",
       "    <tr style=\"text-align: right;\">\n",
       "      <th></th>\n",
       "      <th>TR_Street</th>\n",
       "      <th>TR_City</th>\n",
       "      <th>TR_State</th>\n",
       "      <th>TR_ZipCode</th>\n",
       "      <th>WR_Type</th>\n",
       "      <th>WR_Severity</th>\n",
       "      <th>Accident</th>\n",
       "      <th>Hour</th>\n",
       "    </tr>\n",
       "  </thead>\n",
       "  <tbody>\n",
       "    <tr>\n",
       "      <td>0</td>\n",
       "      <td>5791</td>\n",
       "      <td>1670</td>\n",
       "      <td>17</td>\n",
       "      <td>0</td>\n",
       "      <td>Rain</td>\n",
       "      <td>Light</td>\n",
       "      <td>0</td>\n",
       "      <td>20</td>\n",
       "    </tr>\n",
       "    <tr>\n",
       "      <td>1</td>\n",
       "      <td>5791</td>\n",
       "      <td>1670</td>\n",
       "      <td>17</td>\n",
       "      <td>0</td>\n",
       "      <td>Rain</td>\n",
       "      <td>Moderate</td>\n",
       "      <td>0</td>\n",
       "      <td>20</td>\n",
       "    </tr>\n",
       "    <tr>\n",
       "      <td>2</td>\n",
       "      <td>6423</td>\n",
       "      <td>1229</td>\n",
       "      <td>17</td>\n",
       "      <td>1</td>\n",
       "      <td>Rain</td>\n",
       "      <td>Light</td>\n",
       "      <td>0</td>\n",
       "      <td>13</td>\n",
       "    </tr>\n",
       "    <tr>\n",
       "      <td>3</td>\n",
       "      <td>6423</td>\n",
       "      <td>1229</td>\n",
       "      <td>17</td>\n",
       "      <td>1</td>\n",
       "      <td>Rain</td>\n",
       "      <td>Light</td>\n",
       "      <td>0</td>\n",
       "      <td>20</td>\n",
       "    </tr>\n",
       "    <tr>\n",
       "      <td>4</td>\n",
       "      <td>19696</td>\n",
       "      <td>1229</td>\n",
       "      <td>17</td>\n",
       "      <td>1</td>\n",
       "      <td>Snow</td>\n",
       "      <td>Heavy</td>\n",
       "      <td>0</td>\n",
       "      <td>21</td>\n",
       "    </tr>\n",
       "    <tr>\n",
       "      <td>5</td>\n",
       "      <td>14923</td>\n",
       "      <td>1229</td>\n",
       "      <td>17</td>\n",
       "      <td>1</td>\n",
       "      <td>Rain</td>\n",
       "      <td>Light</td>\n",
       "      <td>0</td>\n",
       "      <td>22</td>\n",
       "    </tr>\n",
       "    <tr>\n",
       "      <td>6</td>\n",
       "      <td>14923</td>\n",
       "      <td>1229</td>\n",
       "      <td>17</td>\n",
       "      <td>1</td>\n",
       "      <td>Snow</td>\n",
       "      <td>Light</td>\n",
       "      <td>0</td>\n",
       "      <td>22</td>\n",
       "    </tr>\n",
       "    <tr>\n",
       "      <td>7</td>\n",
       "      <td>3722</td>\n",
       "      <td>309</td>\n",
       "      <td>17</td>\n",
       "      <td>6</td>\n",
       "      <td>Rain</td>\n",
       "      <td>Heavy</td>\n",
       "      <td>0</td>\n",
       "      <td>10</td>\n",
       "    </tr>\n",
       "    <tr>\n",
       "      <td>8</td>\n",
       "      <td>8540</td>\n",
       "      <td>309</td>\n",
       "      <td>17</td>\n",
       "      <td>6</td>\n",
       "      <td>Rain</td>\n",
       "      <td>Light</td>\n",
       "      <td>0</td>\n",
       "      <td>11</td>\n",
       "    </tr>\n",
       "    <tr>\n",
       "      <td>9</td>\n",
       "      <td>3722</td>\n",
       "      <td>309</td>\n",
       "      <td>17</td>\n",
       "      <td>6</td>\n",
       "      <td>Rain</td>\n",
       "      <td>Moderate</td>\n",
       "      <td>0</td>\n",
       "      <td>11</td>\n",
       "    </tr>\n",
       "  </tbody>\n",
       "</table>\n",
       "</div>"
      ],
      "text/plain": [
       "   TR_Street  TR_City  TR_State  TR_ZipCode WR_Type WR_Severity  Accident  \\\n",
       "0       5791     1670        17           0    Rain       Light         0   \n",
       "1       5791     1670        17           0    Rain    Moderate         0   \n",
       "2       6423     1229        17           1    Rain       Light         0   \n",
       "3       6423     1229        17           1    Rain       Light         0   \n",
       "4      19696     1229        17           1    Snow       Heavy         0   \n",
       "5      14923     1229        17           1    Rain       Light         0   \n",
       "6      14923     1229        17           1    Snow       Light         0   \n",
       "7       3722      309        17           6    Rain       Heavy         0   \n",
       "8       8540      309        17           6    Rain       Light         0   \n",
       "9       3722      309        17           6    Rain    Moderate         0   \n",
       "\n",
       "   Hour  \n",
       "0    20  \n",
       "1    20  \n",
       "2    13  \n",
       "3    20  \n",
       "4    21  \n",
       "5    22  \n",
       "6    22  \n",
       "7    10  \n",
       "8    11  \n",
       "9    11  "
      ]
     },
     "execution_count": 46,
     "metadata": {},
     "output_type": "execute_result"
    }
   ],
   "source": [
    "accident_panda_df.head(10)"
   ]
  },
  {
   "cell_type": "code",
   "execution_count": 81,
   "metadata": {},
   "outputs": [],
   "source": [
    "df_dummies = pd.get_dummies(accident_panda_df, columns=['WR_Severity','WR_Type'])"
   ]
  },
  {
   "cell_type": "code",
   "execution_count": 82,
   "metadata": {},
   "outputs": [
    {
     "data": {
      "text/html": [
       "<div>\n",
       "<style scoped>\n",
       "    .dataframe tbody tr th:only-of-type {\n",
       "        vertical-align: middle;\n",
       "    }\n",
       "\n",
       "    .dataframe tbody tr th {\n",
       "        vertical-align: top;\n",
       "    }\n",
       "\n",
       "    .dataframe thead th {\n",
       "        text-align: right;\n",
       "    }\n",
       "</style>\n",
       "<table border=\"1\" class=\"dataframe\">\n",
       "  <thead>\n",
       "    <tr style=\"text-align: right;\">\n",
       "      <th></th>\n",
       "      <th>TR_Street</th>\n",
       "      <th>TR_City</th>\n",
       "      <th>TR_State</th>\n",
       "      <th>TR_ZipCode</th>\n",
       "      <th>Accident</th>\n",
       "      <th>Hour</th>\n",
       "      <th>WR_Severity_Heavy</th>\n",
       "      <th>WR_Severity_Light</th>\n",
       "      <th>WR_Severity_Moderate</th>\n",
       "      <th>WR_Severity_Other</th>\n",
       "      <th>WR_Severity_Severe</th>\n",
       "      <th>WR_Severity_UNK</th>\n",
       "      <th>WR_Type_Cold</th>\n",
       "      <th>WR_Type_Fog</th>\n",
       "      <th>WR_Type_Hail</th>\n",
       "      <th>WR_Type_Precipitation</th>\n",
       "      <th>WR_Type_Rain</th>\n",
       "      <th>WR_Type_Snow</th>\n",
       "      <th>WR_Type_Storm</th>\n",
       "    </tr>\n",
       "  </thead>\n",
       "  <tbody>\n",
       "    <tr>\n",
       "      <td>0</td>\n",
       "      <td>5791</td>\n",
       "      <td>1670</td>\n",
       "      <td>17</td>\n",
       "      <td>0</td>\n",
       "      <td>0</td>\n",
       "      <td>20</td>\n",
       "      <td>0</td>\n",
       "      <td>1</td>\n",
       "      <td>0</td>\n",
       "      <td>0</td>\n",
       "      <td>0</td>\n",
       "      <td>0</td>\n",
       "      <td>0</td>\n",
       "      <td>0</td>\n",
       "      <td>0</td>\n",
       "      <td>0</td>\n",
       "      <td>1</td>\n",
       "      <td>0</td>\n",
       "      <td>0</td>\n",
       "    </tr>\n",
       "    <tr>\n",
       "      <td>1</td>\n",
       "      <td>5791</td>\n",
       "      <td>1670</td>\n",
       "      <td>17</td>\n",
       "      <td>0</td>\n",
       "      <td>0</td>\n",
       "      <td>20</td>\n",
       "      <td>0</td>\n",
       "      <td>0</td>\n",
       "      <td>1</td>\n",
       "      <td>0</td>\n",
       "      <td>0</td>\n",
       "      <td>0</td>\n",
       "      <td>0</td>\n",
       "      <td>0</td>\n",
       "      <td>0</td>\n",
       "      <td>0</td>\n",
       "      <td>1</td>\n",
       "      <td>0</td>\n",
       "      <td>0</td>\n",
       "    </tr>\n",
       "    <tr>\n",
       "      <td>2</td>\n",
       "      <td>6423</td>\n",
       "      <td>1229</td>\n",
       "      <td>17</td>\n",
       "      <td>1</td>\n",
       "      <td>0</td>\n",
       "      <td>13</td>\n",
       "      <td>0</td>\n",
       "      <td>1</td>\n",
       "      <td>0</td>\n",
       "      <td>0</td>\n",
       "      <td>0</td>\n",
       "      <td>0</td>\n",
       "      <td>0</td>\n",
       "      <td>0</td>\n",
       "      <td>0</td>\n",
       "      <td>0</td>\n",
       "      <td>1</td>\n",
       "      <td>0</td>\n",
       "      <td>0</td>\n",
       "    </tr>\n",
       "    <tr>\n",
       "      <td>3</td>\n",
       "      <td>6423</td>\n",
       "      <td>1229</td>\n",
       "      <td>17</td>\n",
       "      <td>1</td>\n",
       "      <td>0</td>\n",
       "      <td>20</td>\n",
       "      <td>0</td>\n",
       "      <td>1</td>\n",
       "      <td>0</td>\n",
       "      <td>0</td>\n",
       "      <td>0</td>\n",
       "      <td>0</td>\n",
       "      <td>0</td>\n",
       "      <td>0</td>\n",
       "      <td>0</td>\n",
       "      <td>0</td>\n",
       "      <td>1</td>\n",
       "      <td>0</td>\n",
       "      <td>0</td>\n",
       "    </tr>\n",
       "    <tr>\n",
       "      <td>4</td>\n",
       "      <td>19696</td>\n",
       "      <td>1229</td>\n",
       "      <td>17</td>\n",
       "      <td>1</td>\n",
       "      <td>0</td>\n",
       "      <td>21</td>\n",
       "      <td>1</td>\n",
       "      <td>0</td>\n",
       "      <td>0</td>\n",
       "      <td>0</td>\n",
       "      <td>0</td>\n",
       "      <td>0</td>\n",
       "      <td>0</td>\n",
       "      <td>0</td>\n",
       "      <td>0</td>\n",
       "      <td>0</td>\n",
       "      <td>0</td>\n",
       "      <td>1</td>\n",
       "      <td>0</td>\n",
       "    </tr>\n",
       "  </tbody>\n",
       "</table>\n",
       "</div>"
      ],
      "text/plain": [
       "   TR_Street  TR_City  TR_State  TR_ZipCode  Accident  Hour  \\\n",
       "0       5791     1670        17           0         0    20   \n",
       "1       5791     1670        17           0         0    20   \n",
       "2       6423     1229        17           1         0    13   \n",
       "3       6423     1229        17           1         0    20   \n",
       "4      19696     1229        17           1         0    21   \n",
       "\n",
       "   WR_Severity_Heavy  WR_Severity_Light  WR_Severity_Moderate  \\\n",
       "0                  0                  1                     0   \n",
       "1                  0                  0                     1   \n",
       "2                  0                  1                     0   \n",
       "3                  0                  1                     0   \n",
       "4                  1                  0                     0   \n",
       "\n",
       "   WR_Severity_Other  WR_Severity_Severe  WR_Severity_UNK  WR_Type_Cold  \\\n",
       "0                  0                   0                0             0   \n",
       "1                  0                   0                0             0   \n",
       "2                  0                   0                0             0   \n",
       "3                  0                   0                0             0   \n",
       "4                  0                   0                0             0   \n",
       "\n",
       "   WR_Type_Fog  WR_Type_Hail  WR_Type_Precipitation  WR_Type_Rain  \\\n",
       "0            0             0                      0             1   \n",
       "1            0             0                      0             1   \n",
       "2            0             0                      0             1   \n",
       "3            0             0                      0             1   \n",
       "4            0             0                      0             0   \n",
       "\n",
       "   WR_Type_Snow  WR_Type_Storm  \n",
       "0             0              0  \n",
       "1             0              0  \n",
       "2             0              0  \n",
       "3             0              0  \n",
       "4             1              0  "
      ]
     },
     "execution_count": 82,
     "metadata": {},
     "output_type": "execute_result"
    }
   ],
   "source": [
    "df_dummies.head()"
   ]
  },
  {
   "cell_type": "markdown",
   "metadata": {},
   "source": []
  },
  {
   "cell_type": "code",
   "execution_count": 49,
   "metadata": {},
   "outputs": [],
   "source": [
    "from sklearn.model_selection import train_test_split\n",
    "from sklearn.naive_bayes import GaussianNB\n",
    "from sklearn.preprocessing import StandardScaler "
   ]
  },
  {
   "cell_type": "markdown",
   "metadata": {},
   "source": [
    "# target =accident"
   ]
  },
  {
   "cell_type": "code",
   "execution_count": 50,
   "metadata": {},
   "outputs": [],
   "source": [
    "y=df_dummies['Accident']"
   ]
  },
  {
   "cell_type": "code",
   "execution_count": 51,
   "metadata": {},
   "outputs": [
    {
     "data": {
      "text/plain": [
       "0    0\n",
       "1    0\n",
       "2    0\n",
       "3    0\n",
       "4    0\n",
       "Name: Accident, dtype: int32"
      ]
     },
     "execution_count": 51,
     "metadata": {},
     "output_type": "execute_result"
    }
   ],
   "source": [
    "y.head()"
   ]
  },
  {
   "cell_type": "code",
   "execution_count": 52,
   "metadata": {},
   "outputs": [],
   "source": [
    "X=df_dummies.drop(['Accident'],axis=1)"
   ]
  },
  {
   "cell_type": "code",
   "execution_count": 53,
   "metadata": {},
   "outputs": [
    {
     "data": {
      "text/html": [
       "<div>\n",
       "<style scoped>\n",
       "    .dataframe tbody tr th:only-of-type {\n",
       "        vertical-align: middle;\n",
       "    }\n",
       "\n",
       "    .dataframe tbody tr th {\n",
       "        vertical-align: top;\n",
       "    }\n",
       "\n",
       "    .dataframe thead th {\n",
       "        text-align: right;\n",
       "    }\n",
       "</style>\n",
       "<table border=\"1\" class=\"dataframe\">\n",
       "  <thead>\n",
       "    <tr style=\"text-align: right;\">\n",
       "      <th></th>\n",
       "      <th>TR_Street</th>\n",
       "      <th>TR_City</th>\n",
       "      <th>TR_State</th>\n",
       "      <th>TR_ZipCode</th>\n",
       "      <th>Hour</th>\n",
       "      <th>WR_Severity_Heavy</th>\n",
       "      <th>WR_Severity_Light</th>\n",
       "      <th>WR_Severity_Moderate</th>\n",
       "      <th>WR_Severity_Other</th>\n",
       "      <th>WR_Severity_Severe</th>\n",
       "      <th>WR_Severity_UNK</th>\n",
       "      <th>WR_Type_Cold</th>\n",
       "      <th>WR_Type_Fog</th>\n",
       "      <th>WR_Type_Hail</th>\n",
       "      <th>WR_Type_Precipitation</th>\n",
       "      <th>WR_Type_Rain</th>\n",
       "      <th>WR_Type_Snow</th>\n",
       "      <th>WR_Type_Storm</th>\n",
       "    </tr>\n",
       "  </thead>\n",
       "  <tbody>\n",
       "    <tr>\n",
       "      <td>0</td>\n",
       "      <td>5791</td>\n",
       "      <td>1670</td>\n",
       "      <td>17</td>\n",
       "      <td>0</td>\n",
       "      <td>20</td>\n",
       "      <td>0</td>\n",
       "      <td>1</td>\n",
       "      <td>0</td>\n",
       "      <td>0</td>\n",
       "      <td>0</td>\n",
       "      <td>0</td>\n",
       "      <td>0</td>\n",
       "      <td>0</td>\n",
       "      <td>0</td>\n",
       "      <td>0</td>\n",
       "      <td>1</td>\n",
       "      <td>0</td>\n",
       "      <td>0</td>\n",
       "    </tr>\n",
       "    <tr>\n",
       "      <td>1</td>\n",
       "      <td>5791</td>\n",
       "      <td>1670</td>\n",
       "      <td>17</td>\n",
       "      <td>0</td>\n",
       "      <td>20</td>\n",
       "      <td>0</td>\n",
       "      <td>0</td>\n",
       "      <td>1</td>\n",
       "      <td>0</td>\n",
       "      <td>0</td>\n",
       "      <td>0</td>\n",
       "      <td>0</td>\n",
       "      <td>0</td>\n",
       "      <td>0</td>\n",
       "      <td>0</td>\n",
       "      <td>1</td>\n",
       "      <td>0</td>\n",
       "      <td>0</td>\n",
       "    </tr>\n",
       "    <tr>\n",
       "      <td>2</td>\n",
       "      <td>6423</td>\n",
       "      <td>1229</td>\n",
       "      <td>17</td>\n",
       "      <td>1</td>\n",
       "      <td>13</td>\n",
       "      <td>0</td>\n",
       "      <td>1</td>\n",
       "      <td>0</td>\n",
       "      <td>0</td>\n",
       "      <td>0</td>\n",
       "      <td>0</td>\n",
       "      <td>0</td>\n",
       "      <td>0</td>\n",
       "      <td>0</td>\n",
       "      <td>0</td>\n",
       "      <td>1</td>\n",
       "      <td>0</td>\n",
       "      <td>0</td>\n",
       "    </tr>\n",
       "    <tr>\n",
       "      <td>3</td>\n",
       "      <td>6423</td>\n",
       "      <td>1229</td>\n",
       "      <td>17</td>\n",
       "      <td>1</td>\n",
       "      <td>20</td>\n",
       "      <td>0</td>\n",
       "      <td>1</td>\n",
       "      <td>0</td>\n",
       "      <td>0</td>\n",
       "      <td>0</td>\n",
       "      <td>0</td>\n",
       "      <td>0</td>\n",
       "      <td>0</td>\n",
       "      <td>0</td>\n",
       "      <td>0</td>\n",
       "      <td>1</td>\n",
       "      <td>0</td>\n",
       "      <td>0</td>\n",
       "    </tr>\n",
       "    <tr>\n",
       "      <td>4</td>\n",
       "      <td>19696</td>\n",
       "      <td>1229</td>\n",
       "      <td>17</td>\n",
       "      <td>1</td>\n",
       "      <td>21</td>\n",
       "      <td>1</td>\n",
       "      <td>0</td>\n",
       "      <td>0</td>\n",
       "      <td>0</td>\n",
       "      <td>0</td>\n",
       "      <td>0</td>\n",
       "      <td>0</td>\n",
       "      <td>0</td>\n",
       "      <td>0</td>\n",
       "      <td>0</td>\n",
       "      <td>0</td>\n",
       "      <td>1</td>\n",
       "      <td>0</td>\n",
       "    </tr>\n",
       "  </tbody>\n",
       "</table>\n",
       "</div>"
      ],
      "text/plain": [
       "   TR_Street  TR_City  TR_State  TR_ZipCode  Hour  WR_Severity_Heavy  \\\n",
       "0       5791     1670        17           0    20                  0   \n",
       "1       5791     1670        17           0    20                  0   \n",
       "2       6423     1229        17           1    13                  0   \n",
       "3       6423     1229        17           1    20                  0   \n",
       "4      19696     1229        17           1    21                  1   \n",
       "\n",
       "   WR_Severity_Light  WR_Severity_Moderate  WR_Severity_Other  \\\n",
       "0                  1                     0                  0   \n",
       "1                  0                     1                  0   \n",
       "2                  1                     0                  0   \n",
       "3                  1                     0                  0   \n",
       "4                  0                     0                  0   \n",
       "\n",
       "   WR_Severity_Severe  WR_Severity_UNK  WR_Type_Cold  WR_Type_Fog  \\\n",
       "0                   0                0             0            0   \n",
       "1                   0                0             0            0   \n",
       "2                   0                0             0            0   \n",
       "3                   0                0             0            0   \n",
       "4                   0                0             0            0   \n",
       "\n",
       "   WR_Type_Hail  WR_Type_Precipitation  WR_Type_Rain  WR_Type_Snow  \\\n",
       "0             0                      0             1             0   \n",
       "1             0                      0             1             0   \n",
       "2             0                      0             1             0   \n",
       "3             0                      0             1             0   \n",
       "4             0                      0             0             1   \n",
       "\n",
       "   WR_Type_Storm  \n",
       "0              0  \n",
       "1              0  \n",
       "2              0  \n",
       "3              0  \n",
       "4              0  "
      ]
     },
     "execution_count": 53,
     "metadata": {},
     "output_type": "execute_result"
    }
   ],
   "source": [
    "X.head()"
   ]
  },
  {
   "cell_type": "markdown",
   "metadata": {},
   "source": [
    "# train test split"
   ]
  },
  {
   "cell_type": "code",
   "execution_count": 54,
   "metadata": {},
   "outputs": [],
   "source": [
    "\n",
    "X_train, X_test, y_train, y_test = train_test_split(X, y, test_size=0.2)\n"
   ]
  },
  {
   "cell_type": "markdown",
   "metadata": {},
   "source": [
    "# Standardization "
   ]
  },
  {
   "cell_type": "code",
   "execution_count": 55,
   "metadata": {},
   "outputs": [],
   "source": [
    "scaler = StandardScaler()\n",
    "\n",
    "X_train_scalar = scaler.fit_transform(X_train)\n",
    "X_test_scalar=scaler.transform(X_test)"
   ]
  },
  {
   "cell_type": "markdown",
   "metadata": {},
   "source": [
    "# Naive bayes classifier"
   ]
  },
  {
   "cell_type": "code",
   "execution_count": 56,
   "metadata": {},
   "outputs": [],
   "source": [
    "gnb = GaussianNB()\n",
    "y_pred = gnb.fit(X_train, y_train).predict(X_test)"
   ]
  },
  {
   "cell_type": "code",
   "execution_count": 58,
   "metadata": {},
   "outputs": [
    {
     "data": {
      "text/plain": [
       "0.6207719674075207"
      ]
     },
     "execution_count": 58,
     "metadata": {},
     "output_type": "execute_result"
    }
   ],
   "source": [
    "accuracy_score(y_test,y_pred)"
   ]
  },
  {
   "cell_type": "code",
   "execution_count": 60,
   "metadata": {},
   "outputs": [
    {
     "name": "stdout",
     "output_type": "stream",
     "text": [
      "0.6612725769306992\n",
      "0.5965771075572435\n",
      "0.7417065244051999\n"
     ]
    }
   ],
   "source": [
    "print(f1_score(y_test,y_pred))\n",
    "print(precision_score(y_test,y_pred))\n",
    "print(recall_score(y_test,y_pred))"
   ]
  },
  {
   "cell_type": "markdown",
   "metadata": {},
   "source": [
    "# KNN classifier"
   ]
  },
  {
   "cell_type": "code",
   "execution_count": 61,
   "metadata": {},
   "outputs": [],
   "source": [
    "from sklearn.neighbors import KNeighborsClassifier\n",
    "neigh = KNeighborsClassifier(n_neighbors=3)\n",
    "neigh.fit(X_train, y_train)\n",
    "knn_pred=neigh.predict(X_test)"
   ]
  },
  {
   "cell_type": "code",
   "execution_count": 62,
   "metadata": {},
   "outputs": [
    {
     "name": "stdout",
     "output_type": "stream",
     "text": [
      "0.8675873149458705\n",
      "0.8716754776857544\n",
      "0.8441058632623462\n",
      "0.9011068187392691\n"
     ]
    }
   ],
   "source": [
    "print(accuracy_score(y_test,knn_pred))\n",
    "print(f1_score(y_test,knn_pred))\n",
    "print(precision_score(y_test,knn_pred))\n",
    "print(recall_score(y_test,knn_pred))"
   ]
  },
  {
   "cell_type": "code",
   "execution_count": 63,
   "metadata": {},
   "outputs": [],
   "source": [
    "k_range=range(1,20)\n",
    "score={}\n",
    "score_list=[]\n",
    "for k in k_range:\n",
    "    neigh = KNeighborsClassifier(n_neighbors=k)\n",
    "    neigh.fit(X_train, y_train)\n",
    "    knn_pred=neigh.predict(X_test)\n",
    "    score[k]=accuracy_score(y_test,knn_pred)\n",
    "    score_list.append(accuracy_score(y_test,knn_pred))\n",
    "    "
   ]
  },
  {
   "cell_type": "code",
   "execution_count": 66,
   "metadata": {},
   "outputs": [
    {
     "data": {
      "text/plain": [
       "[0.8676408706629433,\n",
       " 0.8500286905627176,\n",
       " 0.8675873149458705,\n",
       " 0.8610611682797139,\n",
       " 0.8631498412455529,\n",
       " 0.8599211965877357,\n",
       " 0.8587812248957576,\n",
       " 0.8556137867717378,\n",
       " 0.8543054971118167,\n",
       " 0.8529819058184461,\n",
       " 0.8498450709613251,\n",
       " 0.8483225584331128,\n",
       " 0.8454152480777323,\n",
       " 0.8445277533376688,\n",
       " 0.8424390803718297,\n",
       " 0.8412226005126047,\n",
       " 0.8386060211927623,\n",
       " 0.8377950346199456,\n",
       " 0.8359435369725718]"
      ]
     },
     "execution_count": 66,
     "metadata": {},
     "output_type": "execute_result"
    }
   ],
   "source": [
    "score_list"
   ]
  },
  {
   "cell_type": "code",
   "execution_count": 68,
   "metadata": {},
   "outputs": [
    {
     "data": {
      "image/png": "[encoded data removed]",
      "text/plain": [
       "<Figure size 432x288 with 1 Axes>"
      ]
     },
     "metadata": {
      "needs_background": "light"
     },
     "output_type": "display_data"
    }
   ],
   "source": [
    "from matplotlib import rcParams\n",
    "plt.plot(k_range,score_list)\n",
    "plt.xlabel(\"K value\", fontsize=12)\n",
    "plt.ylabel(\"Accuracy\", fontsize=12)\n",
    "plt.title(\"K-value vs Accuracy\")\n",
    "rcParams.update({'figure.autolayout': True})\n",
    "plt.rc('font', family='serif')\n",
    "plt.rc('xtick', labelsize=12) \n",
    "plt.rc('ytick', labelsize=12) \n",
    "plt.tight_layout()\n",
    "plt.savefig('/Users/pprusty05/google_drive/Data_Mining/Project/plots/K_accuracy_accident.pdf')\n",
    "plt.show()"
   ]
  },
  {
   "cell_type": "code",
   "execution_count": 69,
   "metadata": {},
   "outputs": [],
   "source": [
    "from sklearn.ensemble import RandomForestClassifier\n",
    "\n",
    "RF = RandomForestClassifier(n_estimators=100, max_depth=10, random_state=0)\n",
    "RF.fit(X_train, y_train)\n",
    "rf_pred=neigh.predict(X_test)\n"
   ]
  },
  {
   "cell_type": "code",
   "execution_count": 70,
   "metadata": {},
   "outputs": [
    {
     "name": "stdout",
     "output_type": "stream",
     "text": [
      "0.8359435369725718\n",
      "0.8415678451365031\n",
      "0.8122744712107598\n",
      "0.8730531027716458\n"
     ]
    }
   ],
   "source": [
    "print(accuracy_score(y_test,rf_pred))\n",
    "print(f1_score(y_test,rf_pred))\n",
    "print(precision_score(y_test,rf_pred))\n",
    "print(recall_score(y_test,rf_pred))"
   ]
  },
  {
   "cell_type": "code",
   "execution_count": 83,
   "metadata": {},
   "outputs": [
    {
     "data": {
      "text/plain": [
       "Index(['TR_Street', 'TR_City', 'TR_State', 'TR_ZipCode', 'Accident', 'Hour',\n",
       "       'WR_Severity_Heavy', 'WR_Severity_Light', 'WR_Severity_Moderate',\n",
       "       'WR_Severity_Other', 'WR_Severity_Severe', 'WR_Severity_UNK',\n",
       "       'WR_Type_Cold', 'WR_Type_Fog', 'WR_Type_Hail', 'WR_Type_Precipitation',\n",
       "       'WR_Type_Rain', 'WR_Type_Snow', 'WR_Type_Storm'],\n",
       "      dtype='object')"
      ]
     },
     "execution_count": 83,
     "metadata": {},
     "output_type": "execute_result"
    }
   ],
   "source": [
    "df_dummies.columns"
   ]
  },
  {
   "cell_type": "code",
   "execution_count": 98,
   "metadata": {},
   "outputs": [
    {
     "data": {
      "image/png": "[encoded data removed]",
      "text/plain": [
       "<Figure size 864x864 with 2 Axes>"
      ]
     },
     "metadata": {},
     "output_type": "display_data"
    },
    {
     "name": "stdout",
     "output_type": "stream",
     "text": [
      "Final list of selected features:\n",
      "['Accident', 'WR_Type_Snow', 'WR_Type_Rain', 'TR_ZipCode', 'TR_Street', 'Hour', 'WR_Severity_Severe', 'WR_Type_Storm', 'WR_Severity_Moderate', 'WR_Type_Fog', 'WR_Severity_UNK', 'WR_Type_Precipitation', 'TR_City']\n"
     ]
    }
   ],
   "source": [
    "import numpy as np\n",
    "import seaborn as sns\n",
    "target = 'Accident'\n",
    "#plot heatmap\n",
    "def plot_corr_matrix(df, nr_c, targ) :\n",
    "    \n",
    "    corr = df.corr()\n",
    "    corr_abs = corr.abs()\n",
    "    cols = corr_abs.nlargest(nr_c, targ)[targ].index\n",
    "    cm = np.corrcoef(df[cols].values.T)\n",
    "\n",
    "    plt.figure(figsize=(12, 12))\n",
    "    sns.set(font_scale=1.25)\n",
    "    sns.heatmap(cm, linewidths=1.5, annot=True, square=True, \n",
    "                fmt='.2f', annot_kws={'size': 10}, \n",
    "                yticklabels=cols.values, xticklabels=cols.values\n",
    "               )\n",
    "    plt.savefig('/Users/pprusty05/google_drive/Data_Mining/Project/plots/correlation.pdf')\n",
    "    plt.show()\n",
    "    \n",
    "    \n",
    "\n",
    "#set the threshold for feature selection\n",
    "corr_theshold=.01\n",
    "\n",
    "#find the correlation values\n",
    "corr = df_dummies.corr()\n",
    "corr_abs = corr.abs()\n",
    "\n",
    "num_cols = len(df_dummies)\n",
    "#sort the correlation values in descending order\n",
    "sort_corr = corr_abs.nlargest(num_cols, target)[target]\n",
    "#print(sort_corr)\n",
    "\n",
    "#filter the features with above correlation values\n",
    "cols_abv_corr_limit = list(sort_corr[sort_corr.values > corr_theshold].index)\n",
    "cols_bel_corr_limit = list(sort_corr[sort_corr.values <= corr_theshold].index)\n",
    "selected_feats=cols_abv_corr_limit\n",
    "nr_feats = len(cols_abv_corr_limit)\n",
    "\n",
    "#plot the heatmap with selected features\n",
    "plot_corr_matrix(df_dummies, nr_feats, target)\n",
    "\n",
    "#drop the features from df_train with correaltion value below threshold\n",
    "#for df in [df_dummies]:\n",
    "    #df.drop(cols_bel_corr_limit, inplace=True, axis=1)\n",
    "\n",
    "print(\"Final list of selected features:\")\n",
    "print(selected_feats)\n"
   ]
  },
  {
   "cell_type": "code",
   "execution_count": 85,
   "metadata": {},
   "outputs": [
    {
     "data": {
      "text/plain": [
       "13"
      ]
     },
     "execution_count": 85,
     "metadata": {},
     "output_type": "execute_result"
    }
   ],
   "source": [
    "len(selected_feats)"
   ]
  },
  {
   "cell_type": "code",
   "execution_count": 86,
   "metadata": {},
   "outputs": [
    {
     "data": {
      "text/plain": [
       "(653523, 19)"
      ]
     },
     "execution_count": 86,
     "metadata": {},
     "output_type": "execute_result"
    }
   ],
   "source": [
    "df_dummies.shape"
   ]
  },
  {
   "cell_type": "code",
   "execution_count": 87,
   "metadata": {},
   "outputs": [],
   "source": [
    "df_selected_feat=df_dummies#drop the features from df_train with correaltion value below threshold\n",
    "cols_abv_corr_limit\n",
    "for df in [df_selected_feat]:\n",
    "    df.drop(cols_bel_corr_limit, inplace=True, axis=1)"
   ]
  },
  {
   "cell_type": "code",
   "execution_count": 88,
   "metadata": {},
   "outputs": [
    {
     "data": {
      "text/plain": [
       "(653523, 13)"
      ]
     },
     "execution_count": 88,
     "metadata": {},
     "output_type": "execute_result"
    }
   ],
   "source": [
    "df_selected_feat.shape"
   ]
  },
  {
   "cell_type": "code",
   "execution_count": 89,
   "metadata": {},
   "outputs": [],
   "source": [
    "y=df_selected_feat['Accident']"
   ]
  },
  {
   "cell_type": "code",
   "execution_count": 90,
   "metadata": {},
   "outputs": [],
   "source": [
    "X=df_selected_feat.drop(['Accident'],axis=1)"
   ]
  },
  {
   "cell_type": "code",
   "execution_count": 91,
   "metadata": {},
   "outputs": [],
   "source": [
    "X_train, X_test, y_train, y_test = train_test_split(X, y, test_size=0.2)"
   ]
  },
  {
   "cell_type": "code",
   "execution_count": 92,
   "metadata": {},
   "outputs": [],
   "source": [
    "scaler = StandardScaler()\n",
    "\n",
    "X_train_scalar = scaler.fit_transform(X_train)\n",
    "X_test_scalar=scaler.transform(X_test)"
   ]
  },
  {
   "cell_type": "code",
   "execution_count": 93,
   "metadata": {},
   "outputs": [],
   "source": [
    "from sklearn.neighbors import KNeighborsClassifier\n",
    "neigh = KNeighborsClassifier(n_neighbors=3)\n",
    "neigh.fit(X_train, y_train)\n",
    "knn_pred=neigh.predict(X_test)"
   ]
  },
  {
   "cell_type": "code",
   "execution_count": 94,
   "metadata": {},
   "outputs": [
    {
     "name": "stdout",
     "output_type": "stream",
     "text": [
      "0.869568876477564\n",
      "0.8731490989181064\n",
      "0.847716469449381\n",
      "0.9001549531305135\n"
     ]
    }
   ],
   "source": [
    "print(accuracy_score(y_test,knn_pred))\n",
    "print(f1_score(y_test,knn_pred))\n",
    "print(precision_score(y_test,knn_pred))\n",
    "print(recall_score(y_test,knn_pred))"
   ]
  },
  {
   "cell_type": "markdown",
   "metadata": {},
   "source": [
    "# Visualization"
   ]
  },
  {
   "cell_type": "code",
   "execution_count": 29,
   "metadata": {},
   "outputs": [],
   "source": [
    "accident_rows=df_dummies[df_dummies.Accident==1]"
   ]
  },
  {
   "cell_type": "code",
   "execution_count": 31,
   "metadata": {},
   "outputs": [],
   "source": [
    "no_accident_rows=df_dummies[df_dummies.Accident==0]"
   ]
  },
  {
   "cell_type": "markdown",
   "metadata": {},
   "source": [
    "## weather vs accident"
   ]
  },
  {
   "cell_type": "code",
   "execution_count": 65,
   "metadata": {},
   "outputs": [
    {
     "data": {
      "text/html": [
       "<div>\n",
       "<style scoped>\n",
       "    .dataframe tbody tr th:only-of-type {\n",
       "        vertical-align: middle;\n",
       "    }\n",
       "\n",
       "    .dataframe tbody tr th {\n",
       "        vertical-align: top;\n",
       "    }\n",
       "\n",
       "    .dataframe thead th {\n",
       "        text-align: right;\n",
       "    }\n",
       "</style>\n",
       "<table border=\"1\" class=\"dataframe\">\n",
       "  <thead>\n",
       "    <tr style=\"text-align: right;\">\n",
       "      <th></th>\n",
       "      <th>TR_Street</th>\n",
       "      <th>TR_City</th>\n",
       "      <th>TR_State</th>\n",
       "      <th>TR_ZipCode</th>\n",
       "      <th>WR_Type</th>\n",
       "      <th>WR_Severity</th>\n",
       "      <th>Accident</th>\n",
       "      <th>Hour</th>\n",
       "    </tr>\n",
       "  </thead>\n",
       "  <tbody>\n",
       "    <tr>\n",
       "      <td>0</td>\n",
       "      <td>5791</td>\n",
       "      <td>1670</td>\n",
       "      <td>17</td>\n",
       "      <td>0</td>\n",
       "      <td>Rain</td>\n",
       "      <td>Light</td>\n",
       "      <td>0</td>\n",
       "      <td>20</td>\n",
       "    </tr>\n",
       "    <tr>\n",
       "      <td>1</td>\n",
       "      <td>5791</td>\n",
       "      <td>1670</td>\n",
       "      <td>17</td>\n",
       "      <td>0</td>\n",
       "      <td>Rain</td>\n",
       "      <td>Moderate</td>\n",
       "      <td>0</td>\n",
       "      <td>20</td>\n",
       "    </tr>\n",
       "    <tr>\n",
       "      <td>2</td>\n",
       "      <td>6423</td>\n",
       "      <td>1229</td>\n",
       "      <td>17</td>\n",
       "      <td>1</td>\n",
       "      <td>Rain</td>\n",
       "      <td>Light</td>\n",
       "      <td>0</td>\n",
       "      <td>13</td>\n",
       "    </tr>\n",
       "    <tr>\n",
       "      <td>3</td>\n",
       "      <td>6423</td>\n",
       "      <td>1229</td>\n",
       "      <td>17</td>\n",
       "      <td>1</td>\n",
       "      <td>Rain</td>\n",
       "      <td>Light</td>\n",
       "      <td>0</td>\n",
       "      <td>20</td>\n",
       "    </tr>\n",
       "    <tr>\n",
       "      <td>4</td>\n",
       "      <td>19696</td>\n",
       "      <td>1229</td>\n",
       "      <td>17</td>\n",
       "      <td>1</td>\n",
       "      <td>Snow</td>\n",
       "      <td>Heavy</td>\n",
       "      <td>0</td>\n",
       "      <td>21</td>\n",
       "    </tr>\n",
       "    <tr>\n",
       "      <td>...</td>\n",
       "      <td>...</td>\n",
       "      <td>...</td>\n",
       "      <td>...</td>\n",
       "      <td>...</td>\n",
       "      <td>...</td>\n",
       "      <td>...</td>\n",
       "      <td>...</td>\n",
       "      <td>...</td>\n",
       "    </tr>\n",
       "    <tr>\n",
       "      <td>653518</td>\n",
       "      <td>11207</td>\n",
       "      <td>1591</td>\n",
       "      <td>45</td>\n",
       "      <td>1894</td>\n",
       "      <td>Fog</td>\n",
       "      <td>Severe</td>\n",
       "      <td>1</td>\n",
       "      <td>16</td>\n",
       "    </tr>\n",
       "    <tr>\n",
       "      <td>653519</td>\n",
       "      <td>11207</td>\n",
       "      <td>1591</td>\n",
       "      <td>45</td>\n",
       "      <td>1894</td>\n",
       "      <td>Fog</td>\n",
       "      <td>Severe</td>\n",
       "      <td>1</td>\n",
       "      <td>16</td>\n",
       "    </tr>\n",
       "    <tr>\n",
       "      <td>653520</td>\n",
       "      <td>11207</td>\n",
       "      <td>1591</td>\n",
       "      <td>45</td>\n",
       "      <td>1894</td>\n",
       "      <td>Fog</td>\n",
       "      <td>Severe</td>\n",
       "      <td>1</td>\n",
       "      <td>16</td>\n",
       "    </tr>\n",
       "    <tr>\n",
       "      <td>653521</td>\n",
       "      <td>11206</td>\n",
       "      <td>1591</td>\n",
       "      <td>45</td>\n",
       "      <td>1894</td>\n",
       "      <td>Fog</td>\n",
       "      <td>Severe</td>\n",
       "      <td>0</td>\n",
       "      <td>15</td>\n",
       "    </tr>\n",
       "    <tr>\n",
       "      <td>653522</td>\n",
       "      <td>14610</td>\n",
       "      <td>1271</td>\n",
       "      <td>45</td>\n",
       "      <td>1903</td>\n",
       "      <td>Fog</td>\n",
       "      <td>Moderate</td>\n",
       "      <td>0</td>\n",
       "      <td>4</td>\n",
       "    </tr>\n",
       "  </tbody>\n",
       "</table>\n",
       "<p>653523 rows × 8 columns</p>\n",
       "</div>"
      ],
      "text/plain": [
       "        TR_Street  TR_City  TR_State  TR_ZipCode WR_Type WR_Severity  \\\n",
       "0            5791     1670        17           0    Rain       Light   \n",
       "1            5791     1670        17           0    Rain    Moderate   \n",
       "2            6423     1229        17           1    Rain       Light   \n",
       "3            6423     1229        17           1    Rain       Light   \n",
       "4           19696     1229        17           1    Snow       Heavy   \n",
       "...           ...      ...       ...         ...     ...         ...   \n",
       "653518      11207     1591        45        1894     Fog      Severe   \n",
       "653519      11207     1591        45        1894     Fog      Severe   \n",
       "653520      11207     1591        45        1894     Fog      Severe   \n",
       "653521      11206     1591        45        1894     Fog      Severe   \n",
       "653522      14610     1271        45        1903     Fog    Moderate   \n",
       "\n",
       "        Accident  Hour  \n",
       "0              0    20  \n",
       "1              0    20  \n",
       "2              0    13  \n",
       "3              0    20  \n",
       "4              0    21  \n",
       "...          ...   ...  \n",
       "653518         1    16  \n",
       "653519         1    16  \n",
       "653520         1    16  \n",
       "653521         0    15  \n",
       "653522         0     4  \n",
       "\n",
       "[653523 rows x 8 columns]"
      ]
     },
     "execution_count": 65,
     "metadata": {},
     "output_type": "execute_result"
    }
   ],
   "source": [
    "accident_panda_df"
   ]
  },
  {
   "cell_type": "code",
   "execution_count": 22,
   "metadata": {},
   "outputs": [],
   "source": [
    "weather_sev_list = accident_panda_df.WR_Severity.unique()"
   ]
  },
  {
   "cell_type": "code",
   "execution_count": 23,
   "metadata": {},
   "outputs": [
    {
     "data": {
      "text/plain": [
       "array(['Light', 'Moderate', 'Heavy', 'Severe', 'Other', 'UNK'],\n",
       "      dtype=object)"
      ]
     },
     "execution_count": 23,
     "metadata": {},
     "output_type": "execute_result"
    }
   ],
   "source": [
    "weather_sev_list"
   ]
  },
  {
   "cell_type": "code",
   "execution_count": 24,
   "metadata": {},
   "outputs": [],
   "source": [
    "weather_type_list = accident_panda_df.WR_Type.unique()"
   ]
  },
  {
   "cell_type": "code",
   "execution_count": 25,
   "metadata": {},
   "outputs": [],
   "source": [
    "weather_str_list = []\n",
    "accident_count_list = []\n",
    "for weather_type in weather_type_list:\n",
    "    for weather_sev in weather_sev_list:\n",
    "        accident_count, _ = accident_panda_df[(accident_panda_df.WR_Severity == weather_sev) & \n",
    "                                           (accident_panda_df.WR_Type == weather_type)].shape\n",
    "        if accident_count > 0:\n",
    "            weather_str = weather_type + ' - ' + weather_sev\n",
    "            weather_str_list.append(weather_str)\n",
    "            accident_count_list.append(accident_count)\n",
    "        #print(weather_type + ' ' + weather_sev + ' ' + str(accident_count) )\n",
    "      "
   ]
  },
  {
   "cell_type": "code",
   "execution_count": 27,
   "metadata": {},
   "outputs": [
    {
     "data": {
      "image/png": "[encoded data removed]",
      "text/plain": [
       "<Figure size 432x288 with 1 Axes>"
      ]
     },
     "metadata": {
      "needs_background": "light"
     },
     "output_type": "display_data"
    }
   ],
   "source": [
    "from matplotlib import rcParams\n",
    "rcParams.update({'figure.autolayout': True})\n",
    "plt.tight_layout()\n",
    "#plt.rc('text', usetex=False)\n",
    "plt.rc('font', family='serif')\n",
    "plt.rc('xtick', labelsize=12) \n",
    "plt.rc('ytick', labelsize=12) \n",
    "plt.xticks(rotation=90)\n",
    "plt.bar(weather_str_list, accident_count_list)\n",
    "plt.xlabel('Weather condition',fontsize=12)\n",
    "plt.ylabel('Accidents',fontsize=12)\n",
    "plt.title('Weather vs Accident')\n",
    "plt.savefig('/Users/pprusty05/google_drive/Data_Mining/Project/plots/Weather_vs_Accident.pdf')\n",
    "plt.show()"
   ]
  }
 ],
 "metadata": {
  "kernelspec": {
   "display_name": "Python 3",
   "language": "python",
   "name": "python3"
  },
  "language_info": {
   "codemirror_mode": {
    "name": "ipython",
    "version": 3
   },
   "file_extension": ".py",
   "mimetype": "text/x-python",
   "name": "python",
   "nbconvert_exporter": "python",
   "pygments_lexer": "ipython3",
   "version": "3.6.8"
  }
 },
 "nbformat": 4,
 "nbformat_minor": 4
}
